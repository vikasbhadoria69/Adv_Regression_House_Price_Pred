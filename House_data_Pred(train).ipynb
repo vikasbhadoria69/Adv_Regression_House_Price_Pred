{
 "cells": [
  {
   "cell_type": "markdown",
   "metadata": {},
   "source": [
    "# Kaggle compitition Advanced House Price Predictions.\n",
    "In this tutorial I have tried to use different approaches to solve the Kaggle problem."
   ]
  },
  {
   "cell_type": "code",
   "execution_count": 1,
   "metadata": {},
   "outputs": [
    {
     "data": {
      "application/javascript": [
       "\n",
       "        if (window._pyforest_update_imports_cell) { window._pyforest_update_imports_cell('import pandas as pd'); }\n",
       "    "
      ],
      "text/plain": [
       "<IPython.core.display.Javascript object>"
      ]
     },
     "metadata": {},
     "output_type": "display_data"
    },
    {
     "data": {
      "application/javascript": [
       "\n",
       "        if (window._pyforest_update_imports_cell) { window._pyforest_update_imports_cell('import pandas as pd'); }\n",
       "    "
      ],
      "text/plain": [
       "<IPython.core.display.Javascript object>"
      ]
     },
     "metadata": {},
     "output_type": "display_data"
    },
    {
     "data": {
      "text/html": [
       "<div>\n",
       "<style scoped>\n",
       "    .dataframe tbody tr th:only-of-type {\n",
       "        vertical-align: middle;\n",
       "    }\n",
       "\n",
       "    .dataframe tbody tr th {\n",
       "        vertical-align: top;\n",
       "    }\n",
       "\n",
       "    .dataframe thead th {\n",
       "        text-align: right;\n",
       "    }\n",
       "</style>\n",
       "<table border=\"1\" class=\"dataframe\">\n",
       "  <thead>\n",
       "    <tr style=\"text-align: right;\">\n",
       "      <th></th>\n",
       "      <th>Id</th>\n",
       "      <th>MSSubClass</th>\n",
       "      <th>MSZoning</th>\n",
       "      <th>LotFrontage</th>\n",
       "      <th>LotArea</th>\n",
       "      <th>Street</th>\n",
       "      <th>Alley</th>\n",
       "      <th>LotShape</th>\n",
       "      <th>LandContour</th>\n",
       "      <th>Utilities</th>\n",
       "      <th>LotConfig</th>\n",
       "      <th>LandSlope</th>\n",
       "      <th>Neighborhood</th>\n",
       "      <th>Condition1</th>\n",
       "      <th>Condition2</th>\n",
       "      <th>BldgType</th>\n",
       "      <th>HouseStyle</th>\n",
       "      <th>OverallQual</th>\n",
       "      <th>OverallCond</th>\n",
       "      <th>YearBuilt</th>\n",
       "      <th>YearRemodAdd</th>\n",
       "      <th>RoofStyle</th>\n",
       "      <th>RoofMatl</th>\n",
       "      <th>Exterior1st</th>\n",
       "      <th>Exterior2nd</th>\n",
       "      <th>MasVnrType</th>\n",
       "      <th>MasVnrArea</th>\n",
       "      <th>ExterQual</th>\n",
       "      <th>ExterCond</th>\n",
       "      <th>Foundation</th>\n",
       "      <th>BsmtQual</th>\n",
       "      <th>BsmtCond</th>\n",
       "      <th>BsmtExposure</th>\n",
       "      <th>BsmtFinType1</th>\n",
       "      <th>BsmtFinSF1</th>\n",
       "      <th>BsmtFinType2</th>\n",
       "      <th>BsmtFinSF2</th>\n",
       "      <th>BsmtUnfSF</th>\n",
       "      <th>TotalBsmtSF</th>\n",
       "      <th>Heating</th>\n",
       "      <th>HeatingQC</th>\n",
       "      <th>CentralAir</th>\n",
       "      <th>Electrical</th>\n",
       "      <th>1stFlrSF</th>\n",
       "      <th>2ndFlrSF</th>\n",
       "      <th>LowQualFinSF</th>\n",
       "      <th>GrLivArea</th>\n",
       "      <th>BsmtFullBath</th>\n",
       "      <th>BsmtHalfBath</th>\n",
       "      <th>FullBath</th>\n",
       "      <th>HalfBath</th>\n",
       "      <th>BedroomAbvGr</th>\n",
       "      <th>KitchenAbvGr</th>\n",
       "      <th>KitchenQual</th>\n",
       "      <th>TotRmsAbvGrd</th>\n",
       "      <th>Functional</th>\n",
       "      <th>Fireplaces</th>\n",
       "      <th>FireplaceQu</th>\n",
       "      <th>GarageType</th>\n",
       "      <th>GarageYrBlt</th>\n",
       "      <th>GarageFinish</th>\n",
       "      <th>GarageCars</th>\n",
       "      <th>GarageArea</th>\n",
       "      <th>GarageQual</th>\n",
       "      <th>GarageCond</th>\n",
       "      <th>PavedDrive</th>\n",
       "      <th>WoodDeckSF</th>\n",
       "      <th>OpenPorchSF</th>\n",
       "      <th>EnclosedPorch</th>\n",
       "      <th>3SsnPorch</th>\n",
       "      <th>ScreenPorch</th>\n",
       "      <th>PoolArea</th>\n",
       "      <th>PoolQC</th>\n",
       "      <th>Fence</th>\n",
       "      <th>MiscFeature</th>\n",
       "      <th>MiscVal</th>\n",
       "      <th>MoSold</th>\n",
       "      <th>YrSold</th>\n",
       "      <th>SaleType</th>\n",
       "      <th>SaleCondition</th>\n",
       "      <th>SalePrice</th>\n",
       "    </tr>\n",
       "  </thead>\n",
       "  <tbody>\n",
       "    <tr>\n",
       "      <th>0</th>\n",
       "      <td>1</td>\n",
       "      <td>60</td>\n",
       "      <td>RL</td>\n",
       "      <td>65.0</td>\n",
       "      <td>8450</td>\n",
       "      <td>Pave</td>\n",
       "      <td>NaN</td>\n",
       "      <td>Reg</td>\n",
       "      <td>Lvl</td>\n",
       "      <td>AllPub</td>\n",
       "      <td>Inside</td>\n",
       "      <td>Gtl</td>\n",
       "      <td>CollgCr</td>\n",
       "      <td>Norm</td>\n",
       "      <td>Norm</td>\n",
       "      <td>1Fam</td>\n",
       "      <td>2Story</td>\n",
       "      <td>7</td>\n",
       "      <td>5</td>\n",
       "      <td>2003</td>\n",
       "      <td>2003</td>\n",
       "      <td>Gable</td>\n",
       "      <td>CompShg</td>\n",
       "      <td>VinylSd</td>\n",
       "      <td>VinylSd</td>\n",
       "      <td>BrkFace</td>\n",
       "      <td>196.0</td>\n",
       "      <td>Gd</td>\n",
       "      <td>TA</td>\n",
       "      <td>PConc</td>\n",
       "      <td>Gd</td>\n",
       "      <td>TA</td>\n",
       "      <td>No</td>\n",
       "      <td>GLQ</td>\n",
       "      <td>706</td>\n",
       "      <td>Unf</td>\n",
       "      <td>0</td>\n",
       "      <td>150</td>\n",
       "      <td>856</td>\n",
       "      <td>GasA</td>\n",
       "      <td>Ex</td>\n",
       "      <td>Y</td>\n",
       "      <td>SBrkr</td>\n",
       "      <td>856</td>\n",
       "      <td>854</td>\n",
       "      <td>0</td>\n",
       "      <td>1710</td>\n",
       "      <td>1</td>\n",
       "      <td>0</td>\n",
       "      <td>2</td>\n",
       "      <td>1</td>\n",
       "      <td>3</td>\n",
       "      <td>1</td>\n",
       "      <td>Gd</td>\n",
       "      <td>8</td>\n",
       "      <td>Typ</td>\n",
       "      <td>0</td>\n",
       "      <td>NaN</td>\n",
       "      <td>Attchd</td>\n",
       "      <td>2003.0</td>\n",
       "      <td>RFn</td>\n",
       "      <td>2</td>\n",
       "      <td>548</td>\n",
       "      <td>TA</td>\n",
       "      <td>TA</td>\n",
       "      <td>Y</td>\n",
       "      <td>0</td>\n",
       "      <td>61</td>\n",
       "      <td>0</td>\n",
       "      <td>0</td>\n",
       "      <td>0</td>\n",
       "      <td>0</td>\n",
       "      <td>NaN</td>\n",
       "      <td>NaN</td>\n",
       "      <td>NaN</td>\n",
       "      <td>0</td>\n",
       "      <td>2</td>\n",
       "      <td>2008</td>\n",
       "      <td>WD</td>\n",
       "      <td>Normal</td>\n",
       "      <td>208500</td>\n",
       "    </tr>\n",
       "    <tr>\n",
       "      <th>1</th>\n",
       "      <td>2</td>\n",
       "      <td>20</td>\n",
       "      <td>RL</td>\n",
       "      <td>80.0</td>\n",
       "      <td>9600</td>\n",
       "      <td>Pave</td>\n",
       "      <td>NaN</td>\n",
       "      <td>Reg</td>\n",
       "      <td>Lvl</td>\n",
       "      <td>AllPub</td>\n",
       "      <td>FR2</td>\n",
       "      <td>Gtl</td>\n",
       "      <td>Veenker</td>\n",
       "      <td>Feedr</td>\n",
       "      <td>Norm</td>\n",
       "      <td>1Fam</td>\n",
       "      <td>1Story</td>\n",
       "      <td>6</td>\n",
       "      <td>8</td>\n",
       "      <td>1976</td>\n",
       "      <td>1976</td>\n",
       "      <td>Gable</td>\n",
       "      <td>CompShg</td>\n",
       "      <td>MetalSd</td>\n",
       "      <td>MetalSd</td>\n",
       "      <td>None</td>\n",
       "      <td>0.0</td>\n",
       "      <td>TA</td>\n",
       "      <td>TA</td>\n",
       "      <td>CBlock</td>\n",
       "      <td>Gd</td>\n",
       "      <td>TA</td>\n",
       "      <td>Gd</td>\n",
       "      <td>ALQ</td>\n",
       "      <td>978</td>\n",
       "      <td>Unf</td>\n",
       "      <td>0</td>\n",
       "      <td>284</td>\n",
       "      <td>1262</td>\n",
       "      <td>GasA</td>\n",
       "      <td>Ex</td>\n",
       "      <td>Y</td>\n",
       "      <td>SBrkr</td>\n",
       "      <td>1262</td>\n",
       "      <td>0</td>\n",
       "      <td>0</td>\n",
       "      <td>1262</td>\n",
       "      <td>0</td>\n",
       "      <td>1</td>\n",
       "      <td>2</td>\n",
       "      <td>0</td>\n",
       "      <td>3</td>\n",
       "      <td>1</td>\n",
       "      <td>TA</td>\n",
       "      <td>6</td>\n",
       "      <td>Typ</td>\n",
       "      <td>1</td>\n",
       "      <td>TA</td>\n",
       "      <td>Attchd</td>\n",
       "      <td>1976.0</td>\n",
       "      <td>RFn</td>\n",
       "      <td>2</td>\n",
       "      <td>460</td>\n",
       "      <td>TA</td>\n",
       "      <td>TA</td>\n",
       "      <td>Y</td>\n",
       "      <td>298</td>\n",
       "      <td>0</td>\n",
       "      <td>0</td>\n",
       "      <td>0</td>\n",
       "      <td>0</td>\n",
       "      <td>0</td>\n",
       "      <td>NaN</td>\n",
       "      <td>NaN</td>\n",
       "      <td>NaN</td>\n",
       "      <td>0</td>\n",
       "      <td>5</td>\n",
       "      <td>2007</td>\n",
       "      <td>WD</td>\n",
       "      <td>Normal</td>\n",
       "      <td>181500</td>\n",
       "    </tr>\n",
       "    <tr>\n",
       "      <th>2</th>\n",
       "      <td>3</td>\n",
       "      <td>60</td>\n",
       "      <td>RL</td>\n",
       "      <td>68.0</td>\n",
       "      <td>11250</td>\n",
       "      <td>Pave</td>\n",
       "      <td>NaN</td>\n",
       "      <td>IR1</td>\n",
       "      <td>Lvl</td>\n",
       "      <td>AllPub</td>\n",
       "      <td>Inside</td>\n",
       "      <td>Gtl</td>\n",
       "      <td>CollgCr</td>\n",
       "      <td>Norm</td>\n",
       "      <td>Norm</td>\n",
       "      <td>1Fam</td>\n",
       "      <td>2Story</td>\n",
       "      <td>7</td>\n",
       "      <td>5</td>\n",
       "      <td>2001</td>\n",
       "      <td>2002</td>\n",
       "      <td>Gable</td>\n",
       "      <td>CompShg</td>\n",
       "      <td>VinylSd</td>\n",
       "      <td>VinylSd</td>\n",
       "      <td>BrkFace</td>\n",
       "      <td>162.0</td>\n",
       "      <td>Gd</td>\n",
       "      <td>TA</td>\n",
       "      <td>PConc</td>\n",
       "      <td>Gd</td>\n",
       "      <td>TA</td>\n",
       "      <td>Mn</td>\n",
       "      <td>GLQ</td>\n",
       "      <td>486</td>\n",
       "      <td>Unf</td>\n",
       "      <td>0</td>\n",
       "      <td>434</td>\n",
       "      <td>920</td>\n",
       "      <td>GasA</td>\n",
       "      <td>Ex</td>\n",
       "      <td>Y</td>\n",
       "      <td>SBrkr</td>\n",
       "      <td>920</td>\n",
       "      <td>866</td>\n",
       "      <td>0</td>\n",
       "      <td>1786</td>\n",
       "      <td>1</td>\n",
       "      <td>0</td>\n",
       "      <td>2</td>\n",
       "      <td>1</td>\n",
       "      <td>3</td>\n",
       "      <td>1</td>\n",
       "      <td>Gd</td>\n",
       "      <td>6</td>\n",
       "      <td>Typ</td>\n",
       "      <td>1</td>\n",
       "      <td>TA</td>\n",
       "      <td>Attchd</td>\n",
       "      <td>2001.0</td>\n",
       "      <td>RFn</td>\n",
       "      <td>2</td>\n",
       "      <td>608</td>\n",
       "      <td>TA</td>\n",
       "      <td>TA</td>\n",
       "      <td>Y</td>\n",
       "      <td>0</td>\n",
       "      <td>42</td>\n",
       "      <td>0</td>\n",
       "      <td>0</td>\n",
       "      <td>0</td>\n",
       "      <td>0</td>\n",
       "      <td>NaN</td>\n",
       "      <td>NaN</td>\n",
       "      <td>NaN</td>\n",
       "      <td>0</td>\n",
       "      <td>9</td>\n",
       "      <td>2008</td>\n",
       "      <td>WD</td>\n",
       "      <td>Normal</td>\n",
       "      <td>223500</td>\n",
       "    </tr>\n",
       "    <tr>\n",
       "      <th>3</th>\n",
       "      <td>4</td>\n",
       "      <td>70</td>\n",
       "      <td>RL</td>\n",
       "      <td>60.0</td>\n",
       "      <td>9550</td>\n",
       "      <td>Pave</td>\n",
       "      <td>NaN</td>\n",
       "      <td>IR1</td>\n",
       "      <td>Lvl</td>\n",
       "      <td>AllPub</td>\n",
       "      <td>Corner</td>\n",
       "      <td>Gtl</td>\n",
       "      <td>Crawfor</td>\n",
       "      <td>Norm</td>\n",
       "      <td>Norm</td>\n",
       "      <td>1Fam</td>\n",
       "      <td>2Story</td>\n",
       "      <td>7</td>\n",
       "      <td>5</td>\n",
       "      <td>1915</td>\n",
       "      <td>1970</td>\n",
       "      <td>Gable</td>\n",
       "      <td>CompShg</td>\n",
       "      <td>Wd Sdng</td>\n",
       "      <td>Wd Shng</td>\n",
       "      <td>None</td>\n",
       "      <td>0.0</td>\n",
       "      <td>TA</td>\n",
       "      <td>TA</td>\n",
       "      <td>BrkTil</td>\n",
       "      <td>TA</td>\n",
       "      <td>Gd</td>\n",
       "      <td>No</td>\n",
       "      <td>ALQ</td>\n",
       "      <td>216</td>\n",
       "      <td>Unf</td>\n",
       "      <td>0</td>\n",
       "      <td>540</td>\n",
       "      <td>756</td>\n",
       "      <td>GasA</td>\n",
       "      <td>Gd</td>\n",
       "      <td>Y</td>\n",
       "      <td>SBrkr</td>\n",
       "      <td>961</td>\n",
       "      <td>756</td>\n",
       "      <td>0</td>\n",
       "      <td>1717</td>\n",
       "      <td>1</td>\n",
       "      <td>0</td>\n",
       "      <td>1</td>\n",
       "      <td>0</td>\n",
       "      <td>3</td>\n",
       "      <td>1</td>\n",
       "      <td>Gd</td>\n",
       "      <td>7</td>\n",
       "      <td>Typ</td>\n",
       "      <td>1</td>\n",
       "      <td>Gd</td>\n",
       "      <td>Detchd</td>\n",
       "      <td>1998.0</td>\n",
       "      <td>Unf</td>\n",
       "      <td>3</td>\n",
       "      <td>642</td>\n",
       "      <td>TA</td>\n",
       "      <td>TA</td>\n",
       "      <td>Y</td>\n",
       "      <td>0</td>\n",
       "      <td>35</td>\n",
       "      <td>272</td>\n",
       "      <td>0</td>\n",
       "      <td>0</td>\n",
       "      <td>0</td>\n",
       "      <td>NaN</td>\n",
       "      <td>NaN</td>\n",
       "      <td>NaN</td>\n",
       "      <td>0</td>\n",
       "      <td>2</td>\n",
       "      <td>2006</td>\n",
       "      <td>WD</td>\n",
       "      <td>Abnorml</td>\n",
       "      <td>140000</td>\n",
       "    </tr>\n",
       "    <tr>\n",
       "      <th>4</th>\n",
       "      <td>5</td>\n",
       "      <td>60</td>\n",
       "      <td>RL</td>\n",
       "      <td>84.0</td>\n",
       "      <td>14260</td>\n",
       "      <td>Pave</td>\n",
       "      <td>NaN</td>\n",
       "      <td>IR1</td>\n",
       "      <td>Lvl</td>\n",
       "      <td>AllPub</td>\n",
       "      <td>FR2</td>\n",
       "      <td>Gtl</td>\n",
       "      <td>NoRidge</td>\n",
       "      <td>Norm</td>\n",
       "      <td>Norm</td>\n",
       "      <td>1Fam</td>\n",
       "      <td>2Story</td>\n",
       "      <td>8</td>\n",
       "      <td>5</td>\n",
       "      <td>2000</td>\n",
       "      <td>2000</td>\n",
       "      <td>Gable</td>\n",
       "      <td>CompShg</td>\n",
       "      <td>VinylSd</td>\n",
       "      <td>VinylSd</td>\n",
       "      <td>BrkFace</td>\n",
       "      <td>350.0</td>\n",
       "      <td>Gd</td>\n",
       "      <td>TA</td>\n",
       "      <td>PConc</td>\n",
       "      <td>Gd</td>\n",
       "      <td>TA</td>\n",
       "      <td>Av</td>\n",
       "      <td>GLQ</td>\n",
       "      <td>655</td>\n",
       "      <td>Unf</td>\n",
       "      <td>0</td>\n",
       "      <td>490</td>\n",
       "      <td>1145</td>\n",
       "      <td>GasA</td>\n",
       "      <td>Ex</td>\n",
       "      <td>Y</td>\n",
       "      <td>SBrkr</td>\n",
       "      <td>1145</td>\n",
       "      <td>1053</td>\n",
       "      <td>0</td>\n",
       "      <td>2198</td>\n",
       "      <td>1</td>\n",
       "      <td>0</td>\n",
       "      <td>2</td>\n",
       "      <td>1</td>\n",
       "      <td>4</td>\n",
       "      <td>1</td>\n",
       "      <td>Gd</td>\n",
       "      <td>9</td>\n",
       "      <td>Typ</td>\n",
       "      <td>1</td>\n",
       "      <td>TA</td>\n",
       "      <td>Attchd</td>\n",
       "      <td>2000.0</td>\n",
       "      <td>RFn</td>\n",
       "      <td>3</td>\n",
       "      <td>836</td>\n",
       "      <td>TA</td>\n",
       "      <td>TA</td>\n",
       "      <td>Y</td>\n",
       "      <td>192</td>\n",
       "      <td>84</td>\n",
       "      <td>0</td>\n",
       "      <td>0</td>\n",
       "      <td>0</td>\n",
       "      <td>0</td>\n",
       "      <td>NaN</td>\n",
       "      <td>NaN</td>\n",
       "      <td>NaN</td>\n",
       "      <td>0</td>\n",
       "      <td>12</td>\n",
       "      <td>2008</td>\n",
       "      <td>WD</td>\n",
       "      <td>Normal</td>\n",
       "      <td>250000</td>\n",
       "    </tr>\n",
       "  </tbody>\n",
       "</table>\n",
       "</div>"
      ],
      "text/plain": [
       "   Id  MSSubClass MSZoning  LotFrontage  LotArea Street Alley LotShape  \\\n",
       "0   1          60       RL         65.0     8450   Pave   NaN      Reg   \n",
       "1   2          20       RL         80.0     9600   Pave   NaN      Reg   \n",
       "2   3          60       RL         68.0    11250   Pave   NaN      IR1   \n",
       "3   4          70       RL         60.0     9550   Pave   NaN      IR1   \n",
       "4   5          60       RL         84.0    14260   Pave   NaN      IR1   \n",
       "\n",
       "  LandContour Utilities LotConfig LandSlope Neighborhood Condition1  \\\n",
       "0         Lvl    AllPub    Inside       Gtl      CollgCr       Norm   \n",
       "1         Lvl    AllPub       FR2       Gtl      Veenker      Feedr   \n",
       "2         Lvl    AllPub    Inside       Gtl      CollgCr       Norm   \n",
       "3         Lvl    AllPub    Corner       Gtl      Crawfor       Norm   \n",
       "4         Lvl    AllPub       FR2       Gtl      NoRidge       Norm   \n",
       "\n",
       "  Condition2 BldgType HouseStyle  OverallQual  OverallCond  YearBuilt  \\\n",
       "0       Norm     1Fam     2Story            7            5       2003   \n",
       "1       Norm     1Fam     1Story            6            8       1976   \n",
       "2       Norm     1Fam     2Story            7            5       2001   \n",
       "3       Norm     1Fam     2Story            7            5       1915   \n",
       "4       Norm     1Fam     2Story            8            5       2000   \n",
       "\n",
       "   YearRemodAdd RoofStyle RoofMatl Exterior1st Exterior2nd MasVnrType  \\\n",
       "0          2003     Gable  CompShg     VinylSd     VinylSd    BrkFace   \n",
       "1          1976     Gable  CompShg     MetalSd     MetalSd       None   \n",
       "2          2002     Gable  CompShg     VinylSd     VinylSd    BrkFace   \n",
       "3          1970     Gable  CompShg     Wd Sdng     Wd Shng       None   \n",
       "4          2000     Gable  CompShg     VinylSd     VinylSd    BrkFace   \n",
       "\n",
       "   MasVnrArea ExterQual ExterCond Foundation BsmtQual BsmtCond BsmtExposure  \\\n",
       "0       196.0        Gd        TA      PConc       Gd       TA           No   \n",
       "1         0.0        TA        TA     CBlock       Gd       TA           Gd   \n",
       "2       162.0        Gd        TA      PConc       Gd       TA           Mn   \n",
       "3         0.0        TA        TA     BrkTil       TA       Gd           No   \n",
       "4       350.0        Gd        TA      PConc       Gd       TA           Av   \n",
       "\n",
       "  BsmtFinType1  BsmtFinSF1 BsmtFinType2  BsmtFinSF2  BsmtUnfSF  TotalBsmtSF  \\\n",
       "0          GLQ         706          Unf           0        150          856   \n",
       "1          ALQ         978          Unf           0        284         1262   \n",
       "2          GLQ         486          Unf           0        434          920   \n",
       "3          ALQ         216          Unf           0        540          756   \n",
       "4          GLQ         655          Unf           0        490         1145   \n",
       "\n",
       "  Heating HeatingQC CentralAir Electrical  1stFlrSF  2ndFlrSF  LowQualFinSF  \\\n",
       "0    GasA        Ex          Y      SBrkr       856       854             0   \n",
       "1    GasA        Ex          Y      SBrkr      1262         0             0   \n",
       "2    GasA        Ex          Y      SBrkr       920       866             0   \n",
       "3    GasA        Gd          Y      SBrkr       961       756             0   \n",
       "4    GasA        Ex          Y      SBrkr      1145      1053             0   \n",
       "\n",
       "   GrLivArea  BsmtFullBath  BsmtHalfBath  FullBath  HalfBath  BedroomAbvGr  \\\n",
       "0       1710             1             0         2         1             3   \n",
       "1       1262             0             1         2         0             3   \n",
       "2       1786             1             0         2         1             3   \n",
       "3       1717             1             0         1         0             3   \n",
       "4       2198             1             0         2         1             4   \n",
       "\n",
       "   KitchenAbvGr KitchenQual  TotRmsAbvGrd Functional  Fireplaces FireplaceQu  \\\n",
       "0             1          Gd             8        Typ           0         NaN   \n",
       "1             1          TA             6        Typ           1          TA   \n",
       "2             1          Gd             6        Typ           1          TA   \n",
       "3             1          Gd             7        Typ           1          Gd   \n",
       "4             1          Gd             9        Typ           1          TA   \n",
       "\n",
       "  GarageType  GarageYrBlt GarageFinish  GarageCars  GarageArea GarageQual  \\\n",
       "0     Attchd       2003.0          RFn           2         548         TA   \n",
       "1     Attchd       1976.0          RFn           2         460         TA   \n",
       "2     Attchd       2001.0          RFn           2         608         TA   \n",
       "3     Detchd       1998.0          Unf           3         642         TA   \n",
       "4     Attchd       2000.0          RFn           3         836         TA   \n",
       "\n",
       "  GarageCond PavedDrive  WoodDeckSF  OpenPorchSF  EnclosedPorch  3SsnPorch  \\\n",
       "0         TA          Y           0           61              0          0   \n",
       "1         TA          Y         298            0              0          0   \n",
       "2         TA          Y           0           42              0          0   \n",
       "3         TA          Y           0           35            272          0   \n",
       "4         TA          Y         192           84              0          0   \n",
       "\n",
       "   ScreenPorch  PoolArea PoolQC Fence MiscFeature  MiscVal  MoSold  YrSold  \\\n",
       "0            0         0    NaN   NaN         NaN        0       2    2008   \n",
       "1            0         0    NaN   NaN         NaN        0       5    2007   \n",
       "2            0         0    NaN   NaN         NaN        0       9    2008   \n",
       "3            0         0    NaN   NaN         NaN        0       2    2006   \n",
       "4            0         0    NaN   NaN         NaN        0      12    2008   \n",
       "\n",
       "  SaleType SaleCondition  SalePrice  \n",
       "0       WD        Normal     208500  \n",
       "1       WD        Normal     181500  \n",
       "2       WD        Normal     223500  \n",
       "3       WD       Abnorml     140000  \n",
       "4       WD        Normal     250000  "
      ]
     },
     "execution_count": 1,
     "metadata": {},
     "output_type": "execute_result"
    }
   ],
   "source": [
    "%matplotlib inline\n",
    "\n",
    "df = pd.read_csv(\"train.csv\")\n",
    "pd.options.display.max_columns = None\n",
    "df.head()"
   ]
  },
  {
   "cell_type": "markdown",
   "metadata": {},
   "source": [
    "## Step 1 : To clean the data. (Remove all null or nan values, convert all categorical features)"
   ]
  },
  {
   "cell_type": "code",
   "execution_count": 2,
   "metadata": {},
   "outputs": [
    {
     "data": {
      "text/plain": [
       "(1460, 81)"
      ]
     },
     "execution_count": 2,
     "metadata": {},
     "output_type": "execute_result"
    }
   ],
   "source": [
    "df.shape"
   ]
  },
  {
   "cell_type": "code",
   "execution_count": 3,
   "metadata": {},
   "outputs": [
    {
     "name": "stdout",
     "output_type": "stream",
     "text": [
      "<class 'pandas.core.frame.DataFrame'>\n",
      "RangeIndex: 1460 entries, 0 to 1459\n",
      "Data columns (total 81 columns):\n",
      "Id               1460 non-null int64\n",
      "MSSubClass       1460 non-null int64\n",
      "MSZoning         1460 non-null object\n",
      "LotFrontage      1201 non-null float64\n",
      "LotArea          1460 non-null int64\n",
      "Street           1460 non-null object\n",
      "Alley            91 non-null object\n",
      "LotShape         1460 non-null object\n",
      "LandContour      1460 non-null object\n",
      "Utilities        1460 non-null object\n",
      "LotConfig        1460 non-null object\n",
      "LandSlope        1460 non-null object\n",
      "Neighborhood     1460 non-null object\n",
      "Condition1       1460 non-null object\n",
      "Condition2       1460 non-null object\n",
      "BldgType         1460 non-null object\n",
      "HouseStyle       1460 non-null object\n",
      "OverallQual      1460 non-null int64\n",
      "OverallCond      1460 non-null int64\n",
      "YearBuilt        1460 non-null int64\n",
      "YearRemodAdd     1460 non-null int64\n",
      "RoofStyle        1460 non-null object\n",
      "RoofMatl         1460 non-null object\n",
      "Exterior1st      1460 non-null object\n",
      "Exterior2nd      1460 non-null object\n",
      "MasVnrType       1452 non-null object\n",
      "MasVnrArea       1452 non-null float64\n",
      "ExterQual        1460 non-null object\n",
      "ExterCond        1460 non-null object\n",
      "Foundation       1460 non-null object\n",
      "BsmtQual         1423 non-null object\n",
      "BsmtCond         1423 non-null object\n",
      "BsmtExposure     1422 non-null object\n",
      "BsmtFinType1     1423 non-null object\n",
      "BsmtFinSF1       1460 non-null int64\n",
      "BsmtFinType2     1422 non-null object\n",
      "BsmtFinSF2       1460 non-null int64\n",
      "BsmtUnfSF        1460 non-null int64\n",
      "TotalBsmtSF      1460 non-null int64\n",
      "Heating          1460 non-null object\n",
      "HeatingQC        1460 non-null object\n",
      "CentralAir       1460 non-null object\n",
      "Electrical       1459 non-null object\n",
      "1stFlrSF         1460 non-null int64\n",
      "2ndFlrSF         1460 non-null int64\n",
      "LowQualFinSF     1460 non-null int64\n",
      "GrLivArea        1460 non-null int64\n",
      "BsmtFullBath     1460 non-null int64\n",
      "BsmtHalfBath     1460 non-null int64\n",
      "FullBath         1460 non-null int64\n",
      "HalfBath         1460 non-null int64\n",
      "BedroomAbvGr     1460 non-null int64\n",
      "KitchenAbvGr     1460 non-null int64\n",
      "KitchenQual      1460 non-null object\n",
      "TotRmsAbvGrd     1460 non-null int64\n",
      "Functional       1460 non-null object\n",
      "Fireplaces       1460 non-null int64\n",
      "FireplaceQu      770 non-null object\n",
      "GarageType       1379 non-null object\n",
      "GarageYrBlt      1379 non-null float64\n",
      "GarageFinish     1379 non-null object\n",
      "GarageCars       1460 non-null int64\n",
      "GarageArea       1460 non-null int64\n",
      "GarageQual       1379 non-null object\n",
      "GarageCond       1379 non-null object\n",
      "PavedDrive       1460 non-null object\n",
      "WoodDeckSF       1460 non-null int64\n",
      "OpenPorchSF      1460 non-null int64\n",
      "EnclosedPorch    1460 non-null int64\n",
      "3SsnPorch        1460 non-null int64\n",
      "ScreenPorch      1460 non-null int64\n",
      "PoolArea         1460 non-null int64\n",
      "PoolQC           7 non-null object\n",
      "Fence            281 non-null object\n",
      "MiscFeature      54 non-null object\n",
      "MiscVal          1460 non-null int64\n",
      "MoSold           1460 non-null int64\n",
      "YrSold           1460 non-null int64\n",
      "SaleType         1460 non-null object\n",
      "SaleCondition    1460 non-null object\n",
      "SalePrice        1460 non-null int64\n",
      "dtypes: float64(3), int64(35), object(43)\n",
      "memory usage: 924.0+ KB\n"
     ]
    }
   ],
   "source": [
    "df.info()"
   ]
  },
  {
   "cell_type": "code",
   "execution_count": 4,
   "metadata": {},
   "outputs": [
    {
     "data": {
      "text/plain": [
       "Id                  0\n",
       "MSSubClass          0\n",
       "MSZoning            0\n",
       "LotFrontage       259\n",
       "LotArea             0\n",
       "Street              0\n",
       "Alley            1369\n",
       "LotShape            0\n",
       "LandContour         0\n",
       "Utilities           0\n",
       "LotConfig           0\n",
       "LandSlope           0\n",
       "Neighborhood        0\n",
       "Condition1          0\n",
       "Condition2          0\n",
       "BldgType            0\n",
       "HouseStyle          0\n",
       "OverallQual         0\n",
       "OverallCond         0\n",
       "YearBuilt           0\n",
       "YearRemodAdd        0\n",
       "RoofStyle           0\n",
       "RoofMatl            0\n",
       "Exterior1st         0\n",
       "Exterior2nd         0\n",
       "MasVnrType          8\n",
       "MasVnrArea          8\n",
       "ExterQual           0\n",
       "ExterCond           0\n",
       "Foundation          0\n",
       "                 ... \n",
       "BedroomAbvGr        0\n",
       "KitchenAbvGr        0\n",
       "KitchenQual         0\n",
       "TotRmsAbvGrd        0\n",
       "Functional          0\n",
       "Fireplaces          0\n",
       "FireplaceQu       690\n",
       "GarageType         81\n",
       "GarageYrBlt        81\n",
       "GarageFinish       81\n",
       "GarageCars          0\n",
       "GarageArea          0\n",
       "GarageQual         81\n",
       "GarageCond         81\n",
       "PavedDrive          0\n",
       "WoodDeckSF          0\n",
       "OpenPorchSF         0\n",
       "EnclosedPorch       0\n",
       "3SsnPorch           0\n",
       "ScreenPorch         0\n",
       "PoolArea            0\n",
       "PoolQC           1453\n",
       "Fence            1179\n",
       "MiscFeature      1406\n",
       "MiscVal             0\n",
       "MoSold              0\n",
       "YrSold              0\n",
       "SaleType            0\n",
       "SaleCondition       0\n",
       "SalePrice           0\n",
       "Length: 81, dtype: int64"
      ]
     },
     "execution_count": 4,
     "metadata": {},
     "output_type": "execute_result"
    }
   ],
   "source": [
    "df.isnull().sum()"
   ]
  },
  {
   "cell_type": "code",
   "execution_count": 5,
   "metadata": {},
   "outputs": [
    {
     "data": {
      "text/plain": [
       "(1460, 77)"
      ]
     },
     "execution_count": 5,
     "metadata": {},
     "output_type": "execute_result"
    }
   ],
   "source": [
    "df.drop([\"PoolQC\",\"Fence\",\"MiscFeature\",\"Alley\"],axis=1,inplace=True)\n",
    "df.shape"
   ]
  },
  {
   "cell_type": "code",
   "execution_count": 6,
   "metadata": {},
   "outputs": [
    {
     "data": {
      "application/javascript": [
       "\n",
       "        if (window._pyforest_update_imports_cell) { window._pyforest_update_imports_cell('import seaborn as sns\\nimport pandas as pd'); }\n",
       "    "
      ],
      "text/plain": [
       "<IPython.core.display.Javascript object>"
      ]
     },
     "metadata": {},
     "output_type": "display_data"
    },
    {
     "data": {
      "text/plain": [
       "<matplotlib.axes._subplots.AxesSubplot at 0x16af2f247f0>"
      ]
     },
     "execution_count": 6,
     "metadata": {},
     "output_type": "execute_result"
    },
    {
     "data": {
      "image/png": "[encoded data removed]",
      "text/plain": [
       "<Figure size 432x288 with 1 Axes>"
      ]
     },
     "metadata": {
      "needs_background": "light"
     },
     "output_type": "display_data"
    }
   ],
   "source": [
    "sns.heatmap(df.isnull(),yticklabels=False,cmap=\"YlGnBu\",cbar=False)"
   ]
  },
  {
   "cell_type": "code",
   "execution_count": 7,
   "metadata": {},
   "outputs": [
    {
     "data": {
      "text/html": [
       "<div>\n",
       "<style scoped>\n",
       "    .dataframe tbody tr th:only-of-type {\n",
       "        vertical-align: middle;\n",
       "    }\n",
       "\n",
       "    .dataframe tbody tr th {\n",
       "        vertical-align: top;\n",
       "    }\n",
       "\n",
       "    .dataframe thead th {\n",
       "        text-align: right;\n",
       "    }\n",
       "</style>\n",
       "<table border=\"1\" class=\"dataframe\">\n",
       "  <thead>\n",
       "    <tr style=\"text-align: right;\">\n",
       "      <th></th>\n",
       "      <th>Id</th>\n",
       "      <th>MSSubClass</th>\n",
       "      <th>MSZoning</th>\n",
       "      <th>LotFrontage</th>\n",
       "      <th>LotArea</th>\n",
       "      <th>Street</th>\n",
       "      <th>LotShape</th>\n",
       "      <th>LandContour</th>\n",
       "      <th>Utilities</th>\n",
       "      <th>LotConfig</th>\n",
       "      <th>LandSlope</th>\n",
       "      <th>Neighborhood</th>\n",
       "      <th>Condition1</th>\n",
       "      <th>Condition2</th>\n",
       "      <th>BldgType</th>\n",
       "      <th>HouseStyle</th>\n",
       "      <th>OverallQual</th>\n",
       "      <th>OverallCond</th>\n",
       "      <th>YearBuilt</th>\n",
       "      <th>YearRemodAdd</th>\n",
       "      <th>RoofStyle</th>\n",
       "      <th>RoofMatl</th>\n",
       "      <th>Exterior1st</th>\n",
       "      <th>Exterior2nd</th>\n",
       "      <th>MasVnrType</th>\n",
       "      <th>MasVnrArea</th>\n",
       "      <th>ExterQual</th>\n",
       "      <th>ExterCond</th>\n",
       "      <th>Foundation</th>\n",
       "      <th>BsmtQual</th>\n",
       "      <th>BsmtCond</th>\n",
       "      <th>BsmtExposure</th>\n",
       "      <th>BsmtFinType1</th>\n",
       "      <th>BsmtFinSF1</th>\n",
       "      <th>BsmtFinType2</th>\n",
       "      <th>BsmtFinSF2</th>\n",
       "      <th>BsmtUnfSF</th>\n",
       "      <th>TotalBsmtSF</th>\n",
       "      <th>Heating</th>\n",
       "      <th>HeatingQC</th>\n",
       "      <th>CentralAir</th>\n",
       "      <th>Electrical</th>\n",
       "      <th>1stFlrSF</th>\n",
       "      <th>2ndFlrSF</th>\n",
       "      <th>LowQualFinSF</th>\n",
       "      <th>GrLivArea</th>\n",
       "      <th>BsmtFullBath</th>\n",
       "      <th>BsmtHalfBath</th>\n",
       "      <th>FullBath</th>\n",
       "      <th>HalfBath</th>\n",
       "      <th>BedroomAbvGr</th>\n",
       "      <th>KitchenAbvGr</th>\n",
       "      <th>KitchenQual</th>\n",
       "      <th>TotRmsAbvGrd</th>\n",
       "      <th>Functional</th>\n",
       "      <th>Fireplaces</th>\n",
       "      <th>FireplaceQu</th>\n",
       "      <th>GarageType</th>\n",
       "      <th>GarageYrBlt</th>\n",
       "      <th>GarageFinish</th>\n",
       "      <th>GarageCars</th>\n",
       "      <th>GarageArea</th>\n",
       "      <th>GarageQual</th>\n",
       "      <th>GarageCond</th>\n",
       "      <th>PavedDrive</th>\n",
       "      <th>WoodDeckSF</th>\n",
       "      <th>OpenPorchSF</th>\n",
       "      <th>EnclosedPorch</th>\n",
       "      <th>3SsnPorch</th>\n",
       "      <th>ScreenPorch</th>\n",
       "      <th>PoolArea</th>\n",
       "      <th>MiscVal</th>\n",
       "      <th>MoSold</th>\n",
       "      <th>YrSold</th>\n",
       "      <th>SaleType</th>\n",
       "      <th>SaleCondition</th>\n",
       "      <th>SalePrice</th>\n",
       "    </tr>\n",
       "  </thead>\n",
       "  <tbody>\n",
       "    <tr>\n",
       "      <th>0</th>\n",
       "      <td>1</td>\n",
       "      <td>60</td>\n",
       "      <td>RL</td>\n",
       "      <td>65.0</td>\n",
       "      <td>8450</td>\n",
       "      <td>Pave</td>\n",
       "      <td>Reg</td>\n",
       "      <td>Lvl</td>\n",
       "      <td>AllPub</td>\n",
       "      <td>Inside</td>\n",
       "      <td>Gtl</td>\n",
       "      <td>CollgCr</td>\n",
       "      <td>Norm</td>\n",
       "      <td>Norm</td>\n",
       "      <td>1Fam</td>\n",
       "      <td>2Story</td>\n",
       "      <td>7</td>\n",
       "      <td>5</td>\n",
       "      <td>2003</td>\n",
       "      <td>2003</td>\n",
       "      <td>Gable</td>\n",
       "      <td>CompShg</td>\n",
       "      <td>VinylSd</td>\n",
       "      <td>VinylSd</td>\n",
       "      <td>BrkFace</td>\n",
       "      <td>196.0</td>\n",
       "      <td>Gd</td>\n",
       "      <td>TA</td>\n",
       "      <td>PConc</td>\n",
       "      <td>Gd</td>\n",
       "      <td>TA</td>\n",
       "      <td>No</td>\n",
       "      <td>GLQ</td>\n",
       "      <td>706</td>\n",
       "      <td>Unf</td>\n",
       "      <td>0</td>\n",
       "      <td>150</td>\n",
       "      <td>856</td>\n",
       "      <td>GasA</td>\n",
       "      <td>Ex</td>\n",
       "      <td>Y</td>\n",
       "      <td>SBrkr</td>\n",
       "      <td>856</td>\n",
       "      <td>854</td>\n",
       "      <td>0</td>\n",
       "      <td>1710</td>\n",
       "      <td>1</td>\n",
       "      <td>0</td>\n",
       "      <td>2</td>\n",
       "      <td>1</td>\n",
       "      <td>3</td>\n",
       "      <td>1</td>\n",
       "      <td>Gd</td>\n",
       "      <td>8</td>\n",
       "      <td>Typ</td>\n",
       "      <td>0</td>\n",
       "      <td>NaN</td>\n",
       "      <td>Attchd</td>\n",
       "      <td>2003.0</td>\n",
       "      <td>RFn</td>\n",
       "      <td>2</td>\n",
       "      <td>548</td>\n",
       "      <td>TA</td>\n",
       "      <td>TA</td>\n",
       "      <td>Y</td>\n",
       "      <td>0</td>\n",
       "      <td>61</td>\n",
       "      <td>0</td>\n",
       "      <td>0</td>\n",
       "      <td>0</td>\n",
       "      <td>0</td>\n",
       "      <td>0</td>\n",
       "      <td>2</td>\n",
       "      <td>2008</td>\n",
       "      <td>WD</td>\n",
       "      <td>Normal</td>\n",
       "      <td>208500</td>\n",
       "    </tr>\n",
       "    <tr>\n",
       "      <th>1</th>\n",
       "      <td>2</td>\n",
       "      <td>20</td>\n",
       "      <td>RL</td>\n",
       "      <td>80.0</td>\n",
       "      <td>9600</td>\n",
       "      <td>Pave</td>\n",
       "      <td>Reg</td>\n",
       "      <td>Lvl</td>\n",
       "      <td>AllPub</td>\n",
       "      <td>FR2</td>\n",
       "      <td>Gtl</td>\n",
       "      <td>Veenker</td>\n",
       "      <td>Feedr</td>\n",
       "      <td>Norm</td>\n",
       "      <td>1Fam</td>\n",
       "      <td>1Story</td>\n",
       "      <td>6</td>\n",
       "      <td>8</td>\n",
       "      <td>1976</td>\n",
       "      <td>1976</td>\n",
       "      <td>Gable</td>\n",
       "      <td>CompShg</td>\n",
       "      <td>MetalSd</td>\n",
       "      <td>MetalSd</td>\n",
       "      <td>None</td>\n",
       "      <td>0.0</td>\n",
       "      <td>TA</td>\n",
       "      <td>TA</td>\n",
       "      <td>CBlock</td>\n",
       "      <td>Gd</td>\n",
       "      <td>TA</td>\n",
       "      <td>Gd</td>\n",
       "      <td>ALQ</td>\n",
       "      <td>978</td>\n",
       "      <td>Unf</td>\n",
       "      <td>0</td>\n",
       "      <td>284</td>\n",
       "      <td>1262</td>\n",
       "      <td>GasA</td>\n",
       "      <td>Ex</td>\n",
       "      <td>Y</td>\n",
       "      <td>SBrkr</td>\n",
       "      <td>1262</td>\n",
       "      <td>0</td>\n",
       "      <td>0</td>\n",
       "      <td>1262</td>\n",
       "      <td>0</td>\n",
       "      <td>1</td>\n",
       "      <td>2</td>\n",
       "      <td>0</td>\n",
       "      <td>3</td>\n",
       "      <td>1</td>\n",
       "      <td>TA</td>\n",
       "      <td>6</td>\n",
       "      <td>Typ</td>\n",
       "      <td>1</td>\n",
       "      <td>TA</td>\n",
       "      <td>Attchd</td>\n",
       "      <td>1976.0</td>\n",
       "      <td>RFn</td>\n",
       "      <td>2</td>\n",
       "      <td>460</td>\n",
       "      <td>TA</td>\n",
       "      <td>TA</td>\n",
       "      <td>Y</td>\n",
       "      <td>298</td>\n",
       "      <td>0</td>\n",
       "      <td>0</td>\n",
       "      <td>0</td>\n",
       "      <td>0</td>\n",
       "      <td>0</td>\n",
       "      <td>0</td>\n",
       "      <td>5</td>\n",
       "      <td>2007</td>\n",
       "      <td>WD</td>\n",
       "      <td>Normal</td>\n",
       "      <td>181500</td>\n",
       "    </tr>\n",
       "    <tr>\n",
       "      <th>2</th>\n",
       "      <td>3</td>\n",
       "      <td>60</td>\n",
       "      <td>RL</td>\n",
       "      <td>68.0</td>\n",
       "      <td>11250</td>\n",
       "      <td>Pave</td>\n",
       "      <td>IR1</td>\n",
       "      <td>Lvl</td>\n",
       "      <td>AllPub</td>\n",
       "      <td>Inside</td>\n",
       "      <td>Gtl</td>\n",
       "      <td>CollgCr</td>\n",
       "      <td>Norm</td>\n",
       "      <td>Norm</td>\n",
       "      <td>1Fam</td>\n",
       "      <td>2Story</td>\n",
       "      <td>7</td>\n",
       "      <td>5</td>\n",
       "      <td>2001</td>\n",
       "      <td>2002</td>\n",
       "      <td>Gable</td>\n",
       "      <td>CompShg</td>\n",
       "      <td>VinylSd</td>\n",
       "      <td>VinylSd</td>\n",
       "      <td>BrkFace</td>\n",
       "      <td>162.0</td>\n",
       "      <td>Gd</td>\n",
       "      <td>TA</td>\n",
       "      <td>PConc</td>\n",
       "      <td>Gd</td>\n",
       "      <td>TA</td>\n",
       "      <td>Mn</td>\n",
       "      <td>GLQ</td>\n",
       "      <td>486</td>\n",
       "      <td>Unf</td>\n",
       "      <td>0</td>\n",
       "      <td>434</td>\n",
       "      <td>920</td>\n",
       "      <td>GasA</td>\n",
       "      <td>Ex</td>\n",
       "      <td>Y</td>\n",
       "      <td>SBrkr</td>\n",
       "      <td>920</td>\n",
       "      <td>866</td>\n",
       "      <td>0</td>\n",
       "      <td>1786</td>\n",
       "      <td>1</td>\n",
       "      <td>0</td>\n",
       "      <td>2</td>\n",
       "      <td>1</td>\n",
       "      <td>3</td>\n",
       "      <td>1</td>\n",
       "      <td>Gd</td>\n",
       "      <td>6</td>\n",
       "      <td>Typ</td>\n",
       "      <td>1</td>\n",
       "      <td>TA</td>\n",
       "      <td>Attchd</td>\n",
       "      <td>2001.0</td>\n",
       "      <td>RFn</td>\n",
       "      <td>2</td>\n",
       "      <td>608</td>\n",
       "      <td>TA</td>\n",
       "      <td>TA</td>\n",
       "      <td>Y</td>\n",
       "      <td>0</td>\n",
       "      <td>42</td>\n",
       "      <td>0</td>\n",
       "      <td>0</td>\n",
       "      <td>0</td>\n",
       "      <td>0</td>\n",
       "      <td>0</td>\n",
       "      <td>9</td>\n",
       "      <td>2008</td>\n",
       "      <td>WD</td>\n",
       "      <td>Normal</td>\n",
       "      <td>223500</td>\n",
       "    </tr>\n",
       "    <tr>\n",
       "      <th>3</th>\n",
       "      <td>4</td>\n",
       "      <td>70</td>\n",
       "      <td>RL</td>\n",
       "      <td>60.0</td>\n",
       "      <td>9550</td>\n",
       "      <td>Pave</td>\n",
       "      <td>IR1</td>\n",
       "      <td>Lvl</td>\n",
       "      <td>AllPub</td>\n",
       "      <td>Corner</td>\n",
       "      <td>Gtl</td>\n",
       "      <td>Crawfor</td>\n",
       "      <td>Norm</td>\n",
       "      <td>Norm</td>\n",
       "      <td>1Fam</td>\n",
       "      <td>2Story</td>\n",
       "      <td>7</td>\n",
       "      <td>5</td>\n",
       "      <td>1915</td>\n",
       "      <td>1970</td>\n",
       "      <td>Gable</td>\n",
       "      <td>CompShg</td>\n",
       "      <td>Wd Sdng</td>\n",
       "      <td>Wd Shng</td>\n",
       "      <td>None</td>\n",
       "      <td>0.0</td>\n",
       "      <td>TA</td>\n",
       "      <td>TA</td>\n",
       "      <td>BrkTil</td>\n",
       "      <td>TA</td>\n",
       "      <td>Gd</td>\n",
       "      <td>No</td>\n",
       "      <td>ALQ</td>\n",
       "      <td>216</td>\n",
       "      <td>Unf</td>\n",
       "      <td>0</td>\n",
       "      <td>540</td>\n",
       "      <td>756</td>\n",
       "      <td>GasA</td>\n",
       "      <td>Gd</td>\n",
       "      <td>Y</td>\n",
       "      <td>SBrkr</td>\n",
       "      <td>961</td>\n",
       "      <td>756</td>\n",
       "      <td>0</td>\n",
       "      <td>1717</td>\n",
       "      <td>1</td>\n",
       "      <td>0</td>\n",
       "      <td>1</td>\n",
       "      <td>0</td>\n",
       "      <td>3</td>\n",
       "      <td>1</td>\n",
       "      <td>Gd</td>\n",
       "      <td>7</td>\n",
       "      <td>Typ</td>\n",
       "      <td>1</td>\n",
       "      <td>Gd</td>\n",
       "      <td>Detchd</td>\n",
       "      <td>1998.0</td>\n",
       "      <td>Unf</td>\n",
       "      <td>3</td>\n",
       "      <td>642</td>\n",
       "      <td>TA</td>\n",
       "      <td>TA</td>\n",
       "      <td>Y</td>\n",
       "      <td>0</td>\n",
       "      <td>35</td>\n",
       "      <td>272</td>\n",
       "      <td>0</td>\n",
       "      <td>0</td>\n",
       "      <td>0</td>\n",
       "      <td>0</td>\n",
       "      <td>2</td>\n",
       "      <td>2006</td>\n",
       "      <td>WD</td>\n",
       "      <td>Abnorml</td>\n",
       "      <td>140000</td>\n",
       "    </tr>\n",
       "    <tr>\n",
       "      <th>4</th>\n",
       "      <td>5</td>\n",
       "      <td>60</td>\n",
       "      <td>RL</td>\n",
       "      <td>84.0</td>\n",
       "      <td>14260</td>\n",
       "      <td>Pave</td>\n",
       "      <td>IR1</td>\n",
       "      <td>Lvl</td>\n",
       "      <td>AllPub</td>\n",
       "      <td>FR2</td>\n",
       "      <td>Gtl</td>\n",
       "      <td>NoRidge</td>\n",
       "      <td>Norm</td>\n",
       "      <td>Norm</td>\n",
       "      <td>1Fam</td>\n",
       "      <td>2Story</td>\n",
       "      <td>8</td>\n",
       "      <td>5</td>\n",
       "      <td>2000</td>\n",
       "      <td>2000</td>\n",
       "      <td>Gable</td>\n",
       "      <td>CompShg</td>\n",
       "      <td>VinylSd</td>\n",
       "      <td>VinylSd</td>\n",
       "      <td>BrkFace</td>\n",
       "      <td>350.0</td>\n",
       "      <td>Gd</td>\n",
       "      <td>TA</td>\n",
       "      <td>PConc</td>\n",
       "      <td>Gd</td>\n",
       "      <td>TA</td>\n",
       "      <td>Av</td>\n",
       "      <td>GLQ</td>\n",
       "      <td>655</td>\n",
       "      <td>Unf</td>\n",
       "      <td>0</td>\n",
       "      <td>490</td>\n",
       "      <td>1145</td>\n",
       "      <td>GasA</td>\n",
       "      <td>Ex</td>\n",
       "      <td>Y</td>\n",
       "      <td>SBrkr</td>\n",
       "      <td>1145</td>\n",
       "      <td>1053</td>\n",
       "      <td>0</td>\n",
       "      <td>2198</td>\n",
       "      <td>1</td>\n",
       "      <td>0</td>\n",
       "      <td>2</td>\n",
       "      <td>1</td>\n",
       "      <td>4</td>\n",
       "      <td>1</td>\n",
       "      <td>Gd</td>\n",
       "      <td>9</td>\n",
       "      <td>Typ</td>\n",
       "      <td>1</td>\n",
       "      <td>TA</td>\n",
       "      <td>Attchd</td>\n",
       "      <td>2000.0</td>\n",
       "      <td>RFn</td>\n",
       "      <td>3</td>\n",
       "      <td>836</td>\n",
       "      <td>TA</td>\n",
       "      <td>TA</td>\n",
       "      <td>Y</td>\n",
       "      <td>192</td>\n",
       "      <td>84</td>\n",
       "      <td>0</td>\n",
       "      <td>0</td>\n",
       "      <td>0</td>\n",
       "      <td>0</td>\n",
       "      <td>0</td>\n",
       "      <td>12</td>\n",
       "      <td>2008</td>\n",
       "      <td>WD</td>\n",
       "      <td>Normal</td>\n",
       "      <td>250000</td>\n",
       "    </tr>\n",
       "  </tbody>\n",
       "</table>\n",
       "</div>"
      ],
      "text/plain": [
       "   Id  MSSubClass MSZoning  LotFrontage  LotArea Street LotShape LandContour  \\\n",
       "0   1          60       RL         65.0     8450   Pave      Reg         Lvl   \n",
       "1   2          20       RL         80.0     9600   Pave      Reg         Lvl   \n",
       "2   3          60       RL         68.0    11250   Pave      IR1         Lvl   \n",
       "3   4          70       RL         60.0     9550   Pave      IR1         Lvl   \n",
       "4   5          60       RL         84.0    14260   Pave      IR1         Lvl   \n",
       "\n",
       "  Utilities LotConfig LandSlope Neighborhood Condition1 Condition2 BldgType  \\\n",
       "0    AllPub    Inside       Gtl      CollgCr       Norm       Norm     1Fam   \n",
       "1    AllPub       FR2       Gtl      Veenker      Feedr       Norm     1Fam   \n",
       "2    AllPub    Inside       Gtl      CollgCr       Norm       Norm     1Fam   \n",
       "3    AllPub    Corner       Gtl      Crawfor       Norm       Norm     1Fam   \n",
       "4    AllPub       FR2       Gtl      NoRidge       Norm       Norm     1Fam   \n",
       "\n",
       "  HouseStyle  OverallQual  OverallCond  YearBuilt  YearRemodAdd RoofStyle  \\\n",
       "0     2Story            7            5       2003          2003     Gable   \n",
       "1     1Story            6            8       1976          1976     Gable   \n",
       "2     2Story            7            5       2001          2002     Gable   \n",
       "3     2Story            7            5       1915          1970     Gable   \n",
       "4     2Story            8            5       2000          2000     Gable   \n",
       "\n",
       "  RoofMatl Exterior1st Exterior2nd MasVnrType  MasVnrArea ExterQual ExterCond  \\\n",
       "0  CompShg     VinylSd     VinylSd    BrkFace       196.0        Gd        TA   \n",
       "1  CompShg     MetalSd     MetalSd       None         0.0        TA        TA   \n",
       "2  CompShg     VinylSd     VinylSd    BrkFace       162.0        Gd        TA   \n",
       "3  CompShg     Wd Sdng     Wd Shng       None         0.0        TA        TA   \n",
       "4  CompShg     VinylSd     VinylSd    BrkFace       350.0        Gd        TA   \n",
       "\n",
       "  Foundation BsmtQual BsmtCond BsmtExposure BsmtFinType1  BsmtFinSF1  \\\n",
       "0      PConc       Gd       TA           No          GLQ         706   \n",
       "1     CBlock       Gd       TA           Gd          ALQ         978   \n",
       "2      PConc       Gd       TA           Mn          GLQ         486   \n",
       "3     BrkTil       TA       Gd           No          ALQ         216   \n",
       "4      PConc       Gd       TA           Av          GLQ         655   \n",
       "\n",
       "  BsmtFinType2  BsmtFinSF2  BsmtUnfSF  TotalBsmtSF Heating HeatingQC  \\\n",
       "0          Unf           0        150          856    GasA        Ex   \n",
       "1          Unf           0        284         1262    GasA        Ex   \n",
       "2          Unf           0        434          920    GasA        Ex   \n",
       "3          Unf           0        540          756    GasA        Gd   \n",
       "4          Unf           0        490         1145    GasA        Ex   \n",
       "\n",
       "  CentralAir Electrical  1stFlrSF  2ndFlrSF  LowQualFinSF  GrLivArea  \\\n",
       "0          Y      SBrkr       856       854             0       1710   \n",
       "1          Y      SBrkr      1262         0             0       1262   \n",
       "2          Y      SBrkr       920       866             0       1786   \n",
       "3          Y      SBrkr       961       756             0       1717   \n",
       "4          Y      SBrkr      1145      1053             0       2198   \n",
       "\n",
       "   BsmtFullBath  BsmtHalfBath  FullBath  HalfBath  BedroomAbvGr  KitchenAbvGr  \\\n",
       "0             1             0         2         1             3             1   \n",
       "1             0             1         2         0             3             1   \n",
       "2             1             0         2         1             3             1   \n",
       "3             1             0         1         0             3             1   \n",
       "4             1             0         2         1             4             1   \n",
       "\n",
       "  KitchenQual  TotRmsAbvGrd Functional  Fireplaces FireplaceQu GarageType  \\\n",
       "0          Gd             8        Typ           0         NaN     Attchd   \n",
       "1          TA             6        Typ           1          TA     Attchd   \n",
       "2          Gd             6        Typ           1          TA     Attchd   \n",
       "3          Gd             7        Typ           1          Gd     Detchd   \n",
       "4          Gd             9        Typ           1          TA     Attchd   \n",
       "\n",
       "   GarageYrBlt GarageFinish  GarageCars  GarageArea GarageQual GarageCond  \\\n",
       "0       2003.0          RFn           2         548         TA         TA   \n",
       "1       1976.0          RFn           2         460         TA         TA   \n",
       "2       2001.0          RFn           2         608         TA         TA   \n",
       "3       1998.0          Unf           3         642         TA         TA   \n",
       "4       2000.0          RFn           3         836         TA         TA   \n",
       "\n",
       "  PavedDrive  WoodDeckSF  OpenPorchSF  EnclosedPorch  3SsnPorch  ScreenPorch  \\\n",
       "0          Y           0           61              0          0            0   \n",
       "1          Y         298            0              0          0            0   \n",
       "2          Y           0           42              0          0            0   \n",
       "3          Y           0           35            272          0            0   \n",
       "4          Y         192           84              0          0            0   \n",
       "\n",
       "   PoolArea  MiscVal  MoSold  YrSold SaleType SaleCondition  SalePrice  \n",
       "0         0        0       2    2008       WD        Normal     208500  \n",
       "1         0        0       5    2007       WD        Normal     181500  \n",
       "2         0        0       9    2008       WD        Normal     223500  \n",
       "3         0        0       2    2006       WD       Abnorml     140000  \n",
       "4         0        0      12    2008       WD        Normal     250000  "
      ]
     },
     "execution_count": 7,
     "metadata": {},
     "output_type": "execute_result"
    }
   ],
   "source": [
    "df.head()"
   ]
  },
  {
   "cell_type": "code",
   "execution_count": 8,
   "metadata": {},
   "outputs": [],
   "source": [
    "df[\"LotFrontage\"] = df[\"LotFrontage\"].fillna(df[\"LotFrontage\"].mean())"
   ]
  },
  {
   "cell_type": "code",
   "execution_count": 9,
   "metadata": {},
   "outputs": [
    {
     "data": {
      "text/plain": [
       "None       864\n",
       "BrkFace    445\n",
       "Stone      128\n",
       "BrkCmn      15\n",
       "Name: MasVnrType, dtype: int64"
      ]
     },
     "execution_count": 9,
     "metadata": {},
     "output_type": "execute_result"
    }
   ],
   "source": [
    "df[\"MasVnrType\"].value_counts()"
   ]
  },
  {
   "cell_type": "code",
   "execution_count": 10,
   "metadata": {},
   "outputs": [],
   "source": [
    "df[\"MasVnrType\"] = df[\"MasVnrType\"].fillna(df[\"MasVnrType\"].mode()[0])"
   ]
  },
  {
   "cell_type": "code",
   "execution_count": 11,
   "metadata": {},
   "outputs": [],
   "source": [
    "df[\"MasVnrArea\"] = df[\"MasVnrArea\"].fillna(df[\"MasVnrArea\"].mean())"
   ]
  },
  {
   "cell_type": "code",
   "execution_count": 12,
   "metadata": {},
   "outputs": [
    {
     "data": {
      "text/plain": [
       "Gd    380\n",
       "TA    313\n",
       "Fa     33\n",
       "Ex     24\n",
       "Po     20\n",
       "Name: FireplaceQu, dtype: int64"
      ]
     },
     "execution_count": 12,
     "metadata": {},
     "output_type": "execute_result"
    }
   ],
   "source": [
    "df[\"FireplaceQu\"].value_counts()"
   ]
  },
  {
   "cell_type": "code",
   "execution_count": 13,
   "metadata": {},
   "outputs": [
    {
     "data": {
      "text/plain": [
       "SalePrice        1.000000\n",
       "OverallQual      0.790982\n",
       "GrLivArea        0.708624\n",
       "GarageCars       0.640409\n",
       "GarageArea       0.623431\n",
       "TotalBsmtSF      0.613581\n",
       "1stFlrSF         0.605852\n",
       "FullBath         0.560664\n",
       "TotRmsAbvGrd     0.533723\n",
       "YearBuilt        0.522897\n",
       "YearRemodAdd     0.507101\n",
       "GarageYrBlt      0.486362\n",
       "MasVnrArea       0.475241\n",
       "Fireplaces       0.466929\n",
       "BsmtFinSF1       0.386420\n",
       "LotFrontage      0.334901\n",
       "WoodDeckSF       0.324413\n",
       "2ndFlrSF         0.319334\n",
       "OpenPorchSF      0.315856\n",
       "HalfBath         0.284108\n",
       "LotArea          0.263843\n",
       "BsmtFullBath     0.227122\n",
       "BsmtUnfSF        0.214479\n",
       "BedroomAbvGr     0.168213\n",
       "ScreenPorch      0.111447\n",
       "PoolArea         0.092404\n",
       "MoSold           0.046432\n",
       "3SsnPorch        0.044584\n",
       "BsmtFinSF2      -0.011378\n",
       "BsmtHalfBath    -0.016844\n",
       "MiscVal         -0.021190\n",
       "Id              -0.021917\n",
       "LowQualFinSF    -0.025606\n",
       "YrSold          -0.028923\n",
       "OverallCond     -0.077856\n",
       "MSSubClass      -0.084284\n",
       "EnclosedPorch   -0.128578\n",
       "KitchenAbvGr    -0.135907\n",
       "Name: SalePrice, dtype: float64"
      ]
     },
     "execution_count": 13,
     "metadata": {},
     "output_type": "execute_result"
    }
   ],
   "source": [
    "data_corr = df.corr()\n",
    "data_corr[\"SalePrice\"].sort_values(ascending=False)"
   ]
  },
  {
   "cell_type": "code",
   "execution_count": 14,
   "metadata": {},
   "outputs": [],
   "source": [
    "df.drop(\"FireplaceQu\",axis=1,inplace=True)"
   ]
  },
  {
   "cell_type": "code",
   "execution_count": 15,
   "metadata": {},
   "outputs": [
    {
     "data": {
      "text/plain": [
       "Attchd     870\n",
       "Detchd     387\n",
       "BuiltIn     88\n",
       "Basment     19\n",
       "CarPort      9\n",
       "2Types       6\n",
       "Name: GarageType, dtype: int64"
      ]
     },
     "execution_count": 15,
     "metadata": {},
     "output_type": "execute_result"
    }
   ],
   "source": [
    "df[\"GarageType\"].value_counts()"
   ]
  },
  {
   "cell_type": "code",
   "execution_count": 16,
   "metadata": {},
   "outputs": [],
   "source": [
    "df[\"GarageType\"] = df[\"GarageType\"].fillna(df[\"GarageType\"].mode()[0])"
   ]
  },
  {
   "cell_type": "code",
   "execution_count": 17,
   "metadata": {},
   "outputs": [],
   "source": [
    "df[\"GarageYrBlt\"] = df[\"GarageYrBlt\"].fillna(df[\"GarageYrBlt\"].mean())"
   ]
  },
  {
   "cell_type": "code",
   "execution_count": 18,
   "metadata": {},
   "outputs": [],
   "source": [
    "def x(columns_int):\n",
    "    for col in columns_list:\n",
    "        df[\"col\"] = df[\"col\"].fillna(df[\"col\"].mean())\n",
    "    return df"
   ]
  },
  {
   "cell_type": "code",
   "execution_count": 19,
   "metadata": {},
   "outputs": [
    {
     "data": {
      "text/plain": [
       "Unf    605\n",
       "RFn    422\n",
       "Fin    352\n",
       "Name: GarageFinish, dtype: int64"
      ]
     },
     "execution_count": 19,
     "metadata": {},
     "output_type": "execute_result"
    }
   ],
   "source": [
    "df[\"GarageFinish\"].value_counts()"
   ]
  },
  {
   "cell_type": "code",
   "execution_count": 20,
   "metadata": {},
   "outputs": [],
   "source": [
    "df[\"GarageFinish\"] = df[\"GarageFinish\"].fillna(df[\"GarageFinish\"].mode()[0])"
   ]
  },
  {
   "cell_type": "code",
   "execution_count": 21,
   "metadata": {},
   "outputs": [],
   "source": [
    "df[\"GarageQual\"] = df[\"GarageQual\"].fillna(df[\"GarageQual\"].mode()[0])\n",
    "df[\"GarageCond\"] = df[\"GarageCond\"].fillna(df[\"GarageCond\"].mode()[0])"
   ]
  },
  {
   "cell_type": "code",
   "execution_count": 22,
   "metadata": {},
   "outputs": [
    {
     "data": {
      "application/javascript": [
       "\n",
       "        if (window._pyforest_update_imports_cell) { window._pyforest_update_imports_cell('import seaborn as sns\\nimport pandas as pd'); }\n",
       "    "
      ],
      "text/plain": [
       "<IPython.core.display.Javascript object>"
      ]
     },
     "metadata": {},
     "output_type": "display_data"
    },
    {
     "data": {
      "text/plain": [
       "<matplotlib.axes._subplots.AxesSubplot at 0x16af3bfbd68>"
      ]
     },
     "execution_count": 22,
     "metadata": {},
     "output_type": "execute_result"
    },
    {
     "data": {
      "image/png": "[encoded data removed]",
      "text/plain": [
       "<Figure size 432x288 with 1 Axes>"
      ]
     },
     "metadata": {
      "needs_background": "light"
     },
     "output_type": "display_data"
    }
   ],
   "source": [
    "sns.heatmap(df.isnull(),yticklabels=False,cmap=\"YlGnBu\",cbar=False)"
   ]
  },
  {
   "cell_type": "code",
   "execution_count": 23,
   "metadata": {},
   "outputs": [
    {
     "name": "stdout",
     "output_type": "stream",
     "text": [
      "<class 'pandas.core.frame.DataFrame'>\n",
      "RangeIndex: 1460 entries, 0 to 1459\n",
      "Data columns (total 76 columns):\n",
      "Id               1460 non-null int64\n",
      "MSSubClass       1460 non-null int64\n",
      "MSZoning         1460 non-null object\n",
      "LotFrontage      1460 non-null float64\n",
      "LotArea          1460 non-null int64\n",
      "Street           1460 non-null object\n",
      "LotShape         1460 non-null object\n",
      "LandContour      1460 non-null object\n",
      "Utilities        1460 non-null object\n",
      "LotConfig        1460 non-null object\n",
      "LandSlope        1460 non-null object\n",
      "Neighborhood     1460 non-null object\n",
      "Condition1       1460 non-null object\n",
      "Condition2       1460 non-null object\n",
      "BldgType         1460 non-null object\n",
      "HouseStyle       1460 non-null object\n",
      "OverallQual      1460 non-null int64\n",
      "OverallCond      1460 non-null int64\n",
      "YearBuilt        1460 non-null int64\n",
      "YearRemodAdd     1460 non-null int64\n",
      "RoofStyle        1460 non-null object\n",
      "RoofMatl         1460 non-null object\n",
      "Exterior1st      1460 non-null object\n",
      "Exterior2nd      1460 non-null object\n",
      "MasVnrType       1460 non-null object\n",
      "MasVnrArea       1460 non-null float64\n",
      "ExterQual        1460 non-null object\n",
      "ExterCond        1460 non-null object\n",
      "Foundation       1460 non-null object\n",
      "BsmtQual         1423 non-null object\n",
      "BsmtCond         1423 non-null object\n",
      "BsmtExposure     1422 non-null object\n",
      "BsmtFinType1     1423 non-null object\n",
      "BsmtFinSF1       1460 non-null int64\n",
      "BsmtFinType2     1422 non-null object\n",
      "BsmtFinSF2       1460 non-null int64\n",
      "BsmtUnfSF        1460 non-null int64\n",
      "TotalBsmtSF      1460 non-null int64\n",
      "Heating          1460 non-null object\n",
      "HeatingQC        1460 non-null object\n",
      "CentralAir       1460 non-null object\n",
      "Electrical       1459 non-null object\n",
      "1stFlrSF         1460 non-null int64\n",
      "2ndFlrSF         1460 non-null int64\n",
      "LowQualFinSF     1460 non-null int64\n",
      "GrLivArea        1460 non-null int64\n",
      "BsmtFullBath     1460 non-null int64\n",
      "BsmtHalfBath     1460 non-null int64\n",
      "FullBath         1460 non-null int64\n",
      "HalfBath         1460 non-null int64\n",
      "BedroomAbvGr     1460 non-null int64\n",
      "KitchenAbvGr     1460 non-null int64\n",
      "KitchenQual      1460 non-null object\n",
      "TotRmsAbvGrd     1460 non-null int64\n",
      "Functional       1460 non-null object\n",
      "Fireplaces       1460 non-null int64\n",
      "GarageType       1460 non-null object\n",
      "GarageYrBlt      1460 non-null float64\n",
      "GarageFinish     1460 non-null object\n",
      "GarageCars       1460 non-null int64\n",
      "GarageArea       1460 non-null int64\n",
      "GarageQual       1460 non-null object\n",
      "GarageCond       1460 non-null object\n",
      "PavedDrive       1460 non-null object\n",
      "WoodDeckSF       1460 non-null int64\n",
      "OpenPorchSF      1460 non-null int64\n",
      "EnclosedPorch    1460 non-null int64\n",
      "3SsnPorch        1460 non-null int64\n",
      "ScreenPorch      1460 non-null int64\n",
      "PoolArea         1460 non-null int64\n",
      "MiscVal          1460 non-null int64\n",
      "MoSold           1460 non-null int64\n",
      "YrSold           1460 non-null int64\n",
      "SaleType         1460 non-null object\n",
      "SaleCondition    1460 non-null object\n",
      "SalePrice        1460 non-null int64\n",
      "dtypes: float64(3), int64(35), object(38)\n",
      "memory usage: 867.0+ KB\n"
     ]
    }
   ],
   "source": [
    "df.info(verbose=None)"
   ]
  },
  {
   "cell_type": "code",
   "execution_count": 24,
   "metadata": {},
   "outputs": [
    {
     "name": "stdout",
     "output_type": "stream",
     "text": [
      "<class 'pandas.core.frame.DataFrame'>\n",
      "RangeIndex: 1460 entries, 0 to 1459\n",
      "Data columns (total 76 columns):\n",
      "Id               1460 non-null int64\n",
      "MSSubClass       1460 non-null int64\n",
      "MSZoning         1460 non-null object\n",
      "LotFrontage      1460 non-null float64\n",
      "LotArea          1460 non-null int64\n",
      "Street           1460 non-null object\n",
      "LotShape         1460 non-null object\n",
      "LandContour      1460 non-null object\n",
      "Utilities        1460 non-null object\n",
      "LotConfig        1460 non-null object\n",
      "LandSlope        1460 non-null object\n",
      "Neighborhood     1460 non-null object\n",
      "Condition1       1460 non-null object\n",
      "Condition2       1460 non-null object\n",
      "BldgType         1460 non-null object\n",
      "HouseStyle       1460 non-null object\n",
      "OverallQual      1460 non-null int64\n",
      "OverallCond      1460 non-null int64\n",
      "YearBuilt        1460 non-null int64\n",
      "YearRemodAdd     1460 non-null int64\n",
      "RoofStyle        1460 non-null object\n",
      "RoofMatl         1460 non-null object\n",
      "Exterior1st      1460 non-null object\n",
      "Exterior2nd      1460 non-null object\n",
      "MasVnrType       1460 non-null object\n",
      "MasVnrArea       1460 non-null float64\n",
      "ExterQual        1460 non-null object\n",
      "ExterCond        1460 non-null object\n",
      "Foundation       1460 non-null object\n",
      "BsmtQual         1460 non-null object\n",
      "BsmtCond         1460 non-null object\n",
      "BsmtExposure     1460 non-null object\n",
      "BsmtFinType1     1460 non-null object\n",
      "BsmtFinSF1       1460 non-null int64\n",
      "BsmtFinType2     1460 non-null object\n",
      "BsmtFinSF2       1460 non-null int64\n",
      "BsmtUnfSF        1460 non-null int64\n",
      "TotalBsmtSF      1460 non-null int64\n",
      "Heating          1460 non-null object\n",
      "HeatingQC        1460 non-null object\n",
      "CentralAir       1460 non-null object\n",
      "Electrical       1459 non-null object\n",
      "1stFlrSF         1460 non-null int64\n",
      "2ndFlrSF         1460 non-null int64\n",
      "LowQualFinSF     1460 non-null int64\n",
      "GrLivArea        1460 non-null int64\n",
      "BsmtFullBath     1460 non-null int64\n",
      "BsmtHalfBath     1460 non-null int64\n",
      "FullBath         1460 non-null int64\n",
      "HalfBath         1460 non-null int64\n",
      "BedroomAbvGr     1460 non-null int64\n",
      "KitchenAbvGr     1460 non-null int64\n",
      "KitchenQual      1460 non-null object\n",
      "TotRmsAbvGrd     1460 non-null int64\n",
      "Functional       1460 non-null object\n",
      "Fireplaces       1460 non-null int64\n",
      "GarageType       1460 non-null object\n",
      "GarageYrBlt      1460 non-null float64\n",
      "GarageFinish     1460 non-null object\n",
      "GarageCars       1460 non-null int64\n",
      "GarageArea       1460 non-null int64\n",
      "GarageQual       1460 non-null object\n",
      "GarageCond       1460 non-null object\n",
      "PavedDrive       1460 non-null object\n",
      "WoodDeckSF       1460 non-null int64\n",
      "OpenPorchSF      1460 non-null int64\n",
      "EnclosedPorch    1460 non-null int64\n",
      "3SsnPorch        1460 non-null int64\n",
      "ScreenPorch      1460 non-null int64\n",
      "PoolArea         1460 non-null int64\n",
      "MiscVal          1460 non-null int64\n",
      "MoSold           1460 non-null int64\n",
      "YrSold           1460 non-null int64\n",
      "SaleType         1460 non-null object\n",
      "SaleCondition    1460 non-null object\n",
      "SalePrice        1460 non-null int64\n",
      "dtypes: float64(3), int64(35), object(38)\n",
      "memory usage: 867.0+ KB\n"
     ]
    }
   ],
   "source": [
    "df[\"BsmtQual\"] = df[\"BsmtQual\"].fillna(df[\"BsmtQual\"].mode()[0])\n",
    "df[\"BsmtCond\"] = df[\"BsmtCond\"].fillna(df[\"BsmtCond\"].mode()[0])\n",
    "df[\"BsmtExposure\"] = df[\"BsmtExposure\"].fillna(df[\"BsmtExposure\"].mode()[0])\n",
    "df[\"BsmtFinType1\"] = df[\"BsmtFinType1\"].fillna(df[\"BsmtFinType1\"].mode()[0])\n",
    "df[\"BsmtFinType2\"] = df[\"BsmtFinType2\"].fillna(df[\"BsmtFinType2\"].mode()[0])\n",
    "df.info(verbose=None)"
   ]
  },
  {
   "cell_type": "code",
   "execution_count": 25,
   "metadata": {},
   "outputs": [],
   "source": [
    "df[\"Electrical\"] = df[\"Electrical\"].fillna(df[\"Electrical\"].mode()[0])"
   ]
  },
  {
   "cell_type": "code",
   "execution_count": 26,
   "metadata": {},
   "outputs": [
    {
     "data": {
      "application/javascript": [
       "\n",
       "        if (window._pyforest_update_imports_cell) { window._pyforest_update_imports_cell('import seaborn as sns\\nimport pandas as pd'); }\n",
       "    "
      ],
      "text/plain": [
       "<IPython.core.display.Javascript object>"
      ]
     },
     "metadata": {},
     "output_type": "display_data"
    },
    {
     "data": {
      "text/plain": [
       "<matplotlib.axes._subplots.AxesSubplot at 0x16af3c2bfd0>"
      ]
     },
     "execution_count": 26,
     "metadata": {},
     "output_type": "execute_result"
    },
    {
     "data": {
      "image/png": "[encoded data removed]",
      "text/plain": [
       "<Figure size 432x288 with 1 Axes>"
      ]
     },
     "metadata": {
      "needs_background": "light"
     },
     "output_type": "display_data"
    }
   ],
   "source": [
    "sns.heatmap(df.isnull(),yticklabels=False,cbar=False)"
   ]
  },
  {
   "cell_type": "code",
   "execution_count": 27,
   "metadata": {},
   "outputs": [],
   "source": [
    "df_objects = df.select_dtypes(include=['object']).copy()"
   ]
  },
  {
   "cell_type": "code",
   "execution_count": 28,
   "metadata": {},
   "outputs": [
    {
     "data": {
      "text/plain": [
       "(1460, 38)"
      ]
     },
     "execution_count": 28,
     "metadata": {},
     "output_type": "execute_result"
    }
   ],
   "source": [
    "df_objects.shape"
   ]
  },
  {
   "cell_type": "code",
   "execution_count": 29,
   "metadata": {},
   "outputs": [
    {
     "data": {
      "text/plain": [
       "Index(['MSZoning', 'Street', 'LotShape', 'LandContour', 'Utilities',\n",
       "       'LotConfig', 'LandSlope', 'Neighborhood', 'Condition1', 'Condition2',\n",
       "       'BldgType', 'HouseStyle', 'RoofStyle', 'RoofMatl', 'Exterior1st',\n",
       "       'Exterior2nd', 'MasVnrType', 'ExterQual', 'ExterCond', 'Foundation',\n",
       "       'BsmtQual', 'BsmtCond', 'BsmtExposure', 'BsmtFinType1', 'BsmtFinType2',\n",
       "       'Heating', 'HeatingQC', 'CentralAir', 'Electrical', 'KitchenQual',\n",
       "       'Functional', 'GarageType', 'GarageFinish', 'GarageQual', 'GarageCond',\n",
       "       'PavedDrive', 'SaleType', 'SaleCondition'],\n",
       "      dtype='object')"
      ]
     },
     "execution_count": 29,
     "metadata": {},
     "output_type": "execute_result"
    }
   ],
   "source": [
    "df_objects.columns"
   ]
  },
  {
   "cell_type": "code",
   "execution_count": 30,
   "metadata": {},
   "outputs": [],
   "source": [
    "columns = ['MSZoning', 'Street', 'LotShape', 'LandContour', 'Utilities',\n",
    "       'LotConfig', 'LandSlope', 'Neighborhood', 'Condition1', 'Condition2',\n",
    "       'BldgType', 'HouseStyle', 'RoofStyle', 'RoofMatl', 'Exterior1st',\n",
    "       'Exterior2nd', 'MasVnrType', 'ExterQual', 'ExterCond', 'Foundation',\n",
    "       'BsmtQual', 'BsmtCond', 'BsmtExposure', 'BsmtFinType1', 'BsmtFinType2',\n",
    "       'Heating', 'HeatingQC', 'CentralAir', 'Electrical', 'KitchenQual',\n",
    "       'Functional', 'GarageType', 'GarageFinish', 'GarageQual', 'GarageCond',\n",
    "       'PavedDrive', 'SaleType', 'SaleCondition']"
   ]
  },
  {
   "cell_type": "code",
   "execution_count": 31,
   "metadata": {},
   "outputs": [],
   "source": [
    "df.dropna(inplace=True)"
   ]
  },
  {
   "cell_type": "code",
   "execution_count": 32,
   "metadata": {},
   "outputs": [
    {
     "data": {
      "text/plain": [
       "(1460, 76)"
      ]
     },
     "execution_count": 32,
     "metadata": {},
     "output_type": "execute_result"
    }
   ],
   "source": [
    "df.shape"
   ]
  },
  {
   "cell_type": "code",
   "execution_count": 33,
   "metadata": {},
   "outputs": [
    {
     "data": {
      "text/plain": [
       "38"
      ]
     },
     "execution_count": 33,
     "metadata": {},
     "output_type": "execute_result"
    }
   ],
   "source": [
    "len(columns)"
   ]
  },
  {
   "cell_type": "code",
   "execution_count": 34,
   "metadata": {},
   "outputs": [
    {
     "data": {
      "application/javascript": [
       "\n",
       "        if (window._pyforest_update_imports_cell) { window._pyforest_update_imports_cell('import seaborn as sns\\nimport pandas as pd'); }\n",
       "    "
      ],
      "text/plain": [
       "<IPython.core.display.Javascript object>"
      ]
     },
     "metadata": {},
     "output_type": "display_data"
    },
    {
     "data": {
      "text/html": [
       "<div>\n",
       "<style scoped>\n",
       "    .dataframe tbody tr th:only-of-type {\n",
       "        vertical-align: middle;\n",
       "    }\n",
       "\n",
       "    .dataframe tbody tr th {\n",
       "        vertical-align: top;\n",
       "    }\n",
       "\n",
       "    .dataframe thead th {\n",
       "        text-align: right;\n",
       "    }\n",
       "</style>\n",
       "<table border=\"1\" class=\"dataframe\">\n",
       "  <thead>\n",
       "    <tr style=\"text-align: right;\">\n",
       "      <th></th>\n",
       "      <th>Id</th>\n",
       "      <th>MSSubClass</th>\n",
       "      <th>MSZoning</th>\n",
       "      <th>LotFrontage</th>\n",
       "      <th>LotArea</th>\n",
       "      <th>Street</th>\n",
       "      <th>LotShape</th>\n",
       "      <th>LandContour</th>\n",
       "      <th>Utilities</th>\n",
       "      <th>LotConfig</th>\n",
       "      <th>LandSlope</th>\n",
       "      <th>Neighborhood</th>\n",
       "      <th>Condition1</th>\n",
       "      <th>Condition2</th>\n",
       "      <th>BldgType</th>\n",
       "      <th>HouseStyle</th>\n",
       "      <th>OverallQual</th>\n",
       "      <th>OverallCond</th>\n",
       "      <th>YearBuilt</th>\n",
       "      <th>YearRemodAdd</th>\n",
       "      <th>RoofStyle</th>\n",
       "      <th>RoofMatl</th>\n",
       "      <th>Exterior1st</th>\n",
       "      <th>Exterior2nd</th>\n",
       "      <th>MasVnrType</th>\n",
       "      <th>MasVnrArea</th>\n",
       "      <th>ExterQual</th>\n",
       "      <th>ExterCond</th>\n",
       "      <th>Foundation</th>\n",
       "      <th>BsmtQual</th>\n",
       "      <th>BsmtCond</th>\n",
       "      <th>BsmtExposure</th>\n",
       "      <th>BsmtFinType1</th>\n",
       "      <th>BsmtFinSF1</th>\n",
       "      <th>BsmtFinType2</th>\n",
       "      <th>BsmtFinSF2</th>\n",
       "      <th>BsmtUnfSF</th>\n",
       "      <th>TotalBsmtSF</th>\n",
       "      <th>Heating</th>\n",
       "      <th>HeatingQC</th>\n",
       "      <th>CentralAir</th>\n",
       "      <th>Electrical</th>\n",
       "      <th>1stFlrSF</th>\n",
       "      <th>2ndFlrSF</th>\n",
       "      <th>LowQualFinSF</th>\n",
       "      <th>GrLivArea</th>\n",
       "      <th>BsmtFullBath</th>\n",
       "      <th>BsmtHalfBath</th>\n",
       "      <th>FullBath</th>\n",
       "      <th>HalfBath</th>\n",
       "      <th>BedroomAbvGr</th>\n",
       "      <th>KitchenAbvGr</th>\n",
       "      <th>KitchenQual</th>\n",
       "      <th>TotRmsAbvGrd</th>\n",
       "      <th>Functional</th>\n",
       "      <th>Fireplaces</th>\n",
       "      <th>GarageType</th>\n",
       "      <th>GarageYrBlt</th>\n",
       "      <th>GarageFinish</th>\n",
       "      <th>GarageCars</th>\n",
       "      <th>GarageArea</th>\n",
       "      <th>GarageQual</th>\n",
       "      <th>GarageCond</th>\n",
       "      <th>PavedDrive</th>\n",
       "      <th>WoodDeckSF</th>\n",
       "      <th>OpenPorchSF</th>\n",
       "      <th>EnclosedPorch</th>\n",
       "      <th>3SsnPorch</th>\n",
       "      <th>ScreenPorch</th>\n",
       "      <th>PoolArea</th>\n",
       "      <th>MiscVal</th>\n",
       "      <th>MoSold</th>\n",
       "      <th>YrSold</th>\n",
       "      <th>SaleType</th>\n",
       "      <th>SaleCondition</th>\n",
       "    </tr>\n",
       "  </thead>\n",
       "  <tbody>\n",
       "    <tr>\n",
       "      <th>0</th>\n",
       "      <td>1461</td>\n",
       "      <td>20</td>\n",
       "      <td>RH</td>\n",
       "      <td>80.0</td>\n",
       "      <td>11622</td>\n",
       "      <td>Pave</td>\n",
       "      <td>Reg</td>\n",
       "      <td>Lvl</td>\n",
       "      <td>AllPub</td>\n",
       "      <td>Inside</td>\n",
       "      <td>Gtl</td>\n",
       "      <td>NAmes</td>\n",
       "      <td>Feedr</td>\n",
       "      <td>Norm</td>\n",
       "      <td>1Fam</td>\n",
       "      <td>1Story</td>\n",
       "      <td>5</td>\n",
       "      <td>6</td>\n",
       "      <td>1961</td>\n",
       "      <td>1961</td>\n",
       "      <td>Gable</td>\n",
       "      <td>CompShg</td>\n",
       "      <td>VinylSd</td>\n",
       "      <td>VinylSd</td>\n",
       "      <td>None</td>\n",
       "      <td>0.0</td>\n",
       "      <td>TA</td>\n",
       "      <td>TA</td>\n",
       "      <td>CBlock</td>\n",
       "      <td>TA</td>\n",
       "      <td>TA</td>\n",
       "      <td>No</td>\n",
       "      <td>Rec</td>\n",
       "      <td>468.0</td>\n",
       "      <td>LwQ</td>\n",
       "      <td>144.0</td>\n",
       "      <td>270.0</td>\n",
       "      <td>882.0</td>\n",
       "      <td>GasA</td>\n",
       "      <td>TA</td>\n",
       "      <td>Y</td>\n",
       "      <td>SBrkr</td>\n",
       "      <td>896</td>\n",
       "      <td>0</td>\n",
       "      <td>0</td>\n",
       "      <td>896</td>\n",
       "      <td>0.0</td>\n",
       "      <td>0.0</td>\n",
       "      <td>1</td>\n",
       "      <td>0</td>\n",
       "      <td>2</td>\n",
       "      <td>1</td>\n",
       "      <td>TA</td>\n",
       "      <td>5</td>\n",
       "      <td>Typ</td>\n",
       "      <td>0</td>\n",
       "      <td>Attchd</td>\n",
       "      <td>1961.0</td>\n",
       "      <td>Unf</td>\n",
       "      <td>1.0</td>\n",
       "      <td>730.0</td>\n",
       "      <td>TA</td>\n",
       "      <td>TA</td>\n",
       "      <td>Y</td>\n",
       "      <td>140</td>\n",
       "      <td>0</td>\n",
       "      <td>0</td>\n",
       "      <td>0</td>\n",
       "      <td>120</td>\n",
       "      <td>0</td>\n",
       "      <td>0</td>\n",
       "      <td>6</td>\n",
       "      <td>2010</td>\n",
       "      <td>WD</td>\n",
       "      <td>Normal</td>\n",
       "    </tr>\n",
       "    <tr>\n",
       "      <th>1</th>\n",
       "      <td>1462</td>\n",
       "      <td>20</td>\n",
       "      <td>RL</td>\n",
       "      <td>81.0</td>\n",
       "      <td>14267</td>\n",
       "      <td>Pave</td>\n",
       "      <td>IR1</td>\n",
       "      <td>Lvl</td>\n",
       "      <td>AllPub</td>\n",
       "      <td>Corner</td>\n",
       "      <td>Gtl</td>\n",
       "      <td>NAmes</td>\n",
       "      <td>Norm</td>\n",
       "      <td>Norm</td>\n",
       "      <td>1Fam</td>\n",
       "      <td>1Story</td>\n",
       "      <td>6</td>\n",
       "      <td>6</td>\n",
       "      <td>1958</td>\n",
       "      <td>1958</td>\n",
       "      <td>Hip</td>\n",
       "      <td>CompShg</td>\n",
       "      <td>Wd Sdng</td>\n",
       "      <td>Wd Sdng</td>\n",
       "      <td>BrkFace</td>\n",
       "      <td>108.0</td>\n",
       "      <td>TA</td>\n",
       "      <td>TA</td>\n",
       "      <td>CBlock</td>\n",
       "      <td>TA</td>\n",
       "      <td>TA</td>\n",
       "      <td>No</td>\n",
       "      <td>ALQ</td>\n",
       "      <td>923.0</td>\n",
       "      <td>Unf</td>\n",
       "      <td>0.0</td>\n",
       "      <td>406.0</td>\n",
       "      <td>1329.0</td>\n",
       "      <td>GasA</td>\n",
       "      <td>TA</td>\n",
       "      <td>Y</td>\n",
       "      <td>SBrkr</td>\n",
       "      <td>1329</td>\n",
       "      <td>0</td>\n",
       "      <td>0</td>\n",
       "      <td>1329</td>\n",
       "      <td>0.0</td>\n",
       "      <td>0.0</td>\n",
       "      <td>1</td>\n",
       "      <td>1</td>\n",
       "      <td>3</td>\n",
       "      <td>1</td>\n",
       "      <td>Gd</td>\n",
       "      <td>6</td>\n",
       "      <td>Typ</td>\n",
       "      <td>0</td>\n",
       "      <td>Attchd</td>\n",
       "      <td>1958.0</td>\n",
       "      <td>Unf</td>\n",
       "      <td>1.0</td>\n",
       "      <td>312.0</td>\n",
       "      <td>TA</td>\n",
       "      <td>TA</td>\n",
       "      <td>Y</td>\n",
       "      <td>393</td>\n",
       "      <td>36</td>\n",
       "      <td>0</td>\n",
       "      <td>0</td>\n",
       "      <td>0</td>\n",
       "      <td>0</td>\n",
       "      <td>12500</td>\n",
       "      <td>6</td>\n",
       "      <td>2010</td>\n",
       "      <td>WD</td>\n",
       "      <td>Normal</td>\n",
       "    </tr>\n",
       "    <tr>\n",
       "      <th>2</th>\n",
       "      <td>1463</td>\n",
       "      <td>60</td>\n",
       "      <td>RL</td>\n",
       "      <td>74.0</td>\n",
       "      <td>13830</td>\n",
       "      <td>Pave</td>\n",
       "      <td>IR1</td>\n",
       "      <td>Lvl</td>\n",
       "      <td>AllPub</td>\n",
       "      <td>Inside</td>\n",
       "      <td>Gtl</td>\n",
       "      <td>Gilbert</td>\n",
       "      <td>Norm</td>\n",
       "      <td>Norm</td>\n",
       "      <td>1Fam</td>\n",
       "      <td>2Story</td>\n",
       "      <td>5</td>\n",
       "      <td>5</td>\n",
       "      <td>1997</td>\n",
       "      <td>1998</td>\n",
       "      <td>Gable</td>\n",
       "      <td>CompShg</td>\n",
       "      <td>VinylSd</td>\n",
       "      <td>VinylSd</td>\n",
       "      <td>None</td>\n",
       "      <td>0.0</td>\n",
       "      <td>TA</td>\n",
       "      <td>TA</td>\n",
       "      <td>PConc</td>\n",
       "      <td>Gd</td>\n",
       "      <td>TA</td>\n",
       "      <td>No</td>\n",
       "      <td>GLQ</td>\n",
       "      <td>791.0</td>\n",
       "      <td>Unf</td>\n",
       "      <td>0.0</td>\n",
       "      <td>137.0</td>\n",
       "      <td>928.0</td>\n",
       "      <td>GasA</td>\n",
       "      <td>Gd</td>\n",
       "      <td>Y</td>\n",
       "      <td>SBrkr</td>\n",
       "      <td>928</td>\n",
       "      <td>701</td>\n",
       "      <td>0</td>\n",
       "      <td>1629</td>\n",
       "      <td>0.0</td>\n",
       "      <td>0.0</td>\n",
       "      <td>2</td>\n",
       "      <td>1</td>\n",
       "      <td>3</td>\n",
       "      <td>1</td>\n",
       "      <td>TA</td>\n",
       "      <td>6</td>\n",
       "      <td>Typ</td>\n",
       "      <td>1</td>\n",
       "      <td>Attchd</td>\n",
       "      <td>1997.0</td>\n",
       "      <td>Fin</td>\n",
       "      <td>2.0</td>\n",
       "      <td>482.0</td>\n",
       "      <td>TA</td>\n",
       "      <td>TA</td>\n",
       "      <td>Y</td>\n",
       "      <td>212</td>\n",
       "      <td>34</td>\n",
       "      <td>0</td>\n",
       "      <td>0</td>\n",
       "      <td>0</td>\n",
       "      <td>0</td>\n",
       "      <td>0</td>\n",
       "      <td>3</td>\n",
       "      <td>2010</td>\n",
       "      <td>WD</td>\n",
       "      <td>Normal</td>\n",
       "    </tr>\n",
       "    <tr>\n",
       "      <th>3</th>\n",
       "      <td>1464</td>\n",
       "      <td>60</td>\n",
       "      <td>RL</td>\n",
       "      <td>78.0</td>\n",
       "      <td>9978</td>\n",
       "      <td>Pave</td>\n",
       "      <td>IR1</td>\n",
       "      <td>Lvl</td>\n",
       "      <td>AllPub</td>\n",
       "      <td>Inside</td>\n",
       "      <td>Gtl</td>\n",
       "      <td>Gilbert</td>\n",
       "      <td>Norm</td>\n",
       "      <td>Norm</td>\n",
       "      <td>1Fam</td>\n",
       "      <td>2Story</td>\n",
       "      <td>6</td>\n",
       "      <td>6</td>\n",
       "      <td>1998</td>\n",
       "      <td>1998</td>\n",
       "      <td>Gable</td>\n",
       "      <td>CompShg</td>\n",
       "      <td>VinylSd</td>\n",
       "      <td>VinylSd</td>\n",
       "      <td>BrkFace</td>\n",
       "      <td>20.0</td>\n",
       "      <td>TA</td>\n",
       "      <td>TA</td>\n",
       "      <td>PConc</td>\n",
       "      <td>TA</td>\n",
       "      <td>TA</td>\n",
       "      <td>No</td>\n",
       "      <td>GLQ</td>\n",
       "      <td>602.0</td>\n",
       "      <td>Unf</td>\n",
       "      <td>0.0</td>\n",
       "      <td>324.0</td>\n",
       "      <td>926.0</td>\n",
       "      <td>GasA</td>\n",
       "      <td>Ex</td>\n",
       "      <td>Y</td>\n",
       "      <td>SBrkr</td>\n",
       "      <td>926</td>\n",
       "      <td>678</td>\n",
       "      <td>0</td>\n",
       "      <td>1604</td>\n",
       "      <td>0.0</td>\n",
       "      <td>0.0</td>\n",
       "      <td>2</td>\n",
       "      <td>1</td>\n",
       "      <td>3</td>\n",
       "      <td>1</td>\n",
       "      <td>Gd</td>\n",
       "      <td>7</td>\n",
       "      <td>Typ</td>\n",
       "      <td>1</td>\n",
       "      <td>Attchd</td>\n",
       "      <td>1998.0</td>\n",
       "      <td>Fin</td>\n",
       "      <td>2.0</td>\n",
       "      <td>470.0</td>\n",
       "      <td>TA</td>\n",
       "      <td>TA</td>\n",
       "      <td>Y</td>\n",
       "      <td>360</td>\n",
       "      <td>36</td>\n",
       "      <td>0</td>\n",
       "      <td>0</td>\n",
       "      <td>0</td>\n",
       "      <td>0</td>\n",
       "      <td>0</td>\n",
       "      <td>6</td>\n",
       "      <td>2010</td>\n",
       "      <td>WD</td>\n",
       "      <td>Normal</td>\n",
       "    </tr>\n",
       "    <tr>\n",
       "      <th>4</th>\n",
       "      <td>1465</td>\n",
       "      <td>120</td>\n",
       "      <td>RL</td>\n",
       "      <td>43.0</td>\n",
       "      <td>5005</td>\n",
       "      <td>Pave</td>\n",
       "      <td>IR1</td>\n",
       "      <td>HLS</td>\n",
       "      <td>AllPub</td>\n",
       "      <td>Inside</td>\n",
       "      <td>Gtl</td>\n",
       "      <td>StoneBr</td>\n",
       "      <td>Norm</td>\n",
       "      <td>Norm</td>\n",
       "      <td>TwnhsE</td>\n",
       "      <td>1Story</td>\n",
       "      <td>8</td>\n",
       "      <td>5</td>\n",
       "      <td>1992</td>\n",
       "      <td>1992</td>\n",
       "      <td>Gable</td>\n",
       "      <td>CompShg</td>\n",
       "      <td>HdBoard</td>\n",
       "      <td>HdBoard</td>\n",
       "      <td>None</td>\n",
       "      <td>0.0</td>\n",
       "      <td>Gd</td>\n",
       "      <td>TA</td>\n",
       "      <td>PConc</td>\n",
       "      <td>Gd</td>\n",
       "      <td>TA</td>\n",
       "      <td>No</td>\n",
       "      <td>ALQ</td>\n",
       "      <td>263.0</td>\n",
       "      <td>Unf</td>\n",
       "      <td>0.0</td>\n",
       "      <td>1017.0</td>\n",
       "      <td>1280.0</td>\n",
       "      <td>GasA</td>\n",
       "      <td>Ex</td>\n",
       "      <td>Y</td>\n",
       "      <td>SBrkr</td>\n",
       "      <td>1280</td>\n",
       "      <td>0</td>\n",
       "      <td>0</td>\n",
       "      <td>1280</td>\n",
       "      <td>0.0</td>\n",
       "      <td>0.0</td>\n",
       "      <td>2</td>\n",
       "      <td>0</td>\n",
       "      <td>2</td>\n",
       "      <td>1</td>\n",
       "      <td>Gd</td>\n",
       "      <td>5</td>\n",
       "      <td>Typ</td>\n",
       "      <td>0</td>\n",
       "      <td>Attchd</td>\n",
       "      <td>1992.0</td>\n",
       "      <td>RFn</td>\n",
       "      <td>2.0</td>\n",
       "      <td>506.0</td>\n",
       "      <td>TA</td>\n",
       "      <td>TA</td>\n",
       "      <td>Y</td>\n",
       "      <td>0</td>\n",
       "      <td>82</td>\n",
       "      <td>0</td>\n",
       "      <td>0</td>\n",
       "      <td>144</td>\n",
       "      <td>0</td>\n",
       "      <td>0</td>\n",
       "      <td>1</td>\n",
       "      <td>2010</td>\n",
       "      <td>WD</td>\n",
       "      <td>Normal</td>\n",
       "    </tr>\n",
       "  </tbody>\n",
       "</table>\n",
       "</div>"
      ],
      "text/plain": [
       "     Id  MSSubClass MSZoning  LotFrontage  LotArea Street LotShape  \\\n",
       "0  1461          20       RH         80.0    11622   Pave      Reg   \n",
       "1  1462          20       RL         81.0    14267   Pave      IR1   \n",
       "2  1463          60       RL         74.0    13830   Pave      IR1   \n",
       "3  1464          60       RL         78.0     9978   Pave      IR1   \n",
       "4  1465         120       RL         43.0     5005   Pave      IR1   \n",
       "\n",
       "  LandContour Utilities LotConfig LandSlope Neighborhood Condition1  \\\n",
       "0         Lvl    AllPub    Inside       Gtl        NAmes      Feedr   \n",
       "1         Lvl    AllPub    Corner       Gtl        NAmes       Norm   \n",
       "2         Lvl    AllPub    Inside       Gtl      Gilbert       Norm   \n",
       "3         Lvl    AllPub    Inside       Gtl      Gilbert       Norm   \n",
       "4         HLS    AllPub    Inside       Gtl      StoneBr       Norm   \n",
       "\n",
       "  Condition2 BldgType HouseStyle  OverallQual  OverallCond  YearBuilt  \\\n",
       "0       Norm     1Fam     1Story            5            6       1961   \n",
       "1       Norm     1Fam     1Story            6            6       1958   \n",
       "2       Norm     1Fam     2Story            5            5       1997   \n",
       "3       Norm     1Fam     2Story            6            6       1998   \n",
       "4       Norm   TwnhsE     1Story            8            5       1992   \n",
       "\n",
       "   YearRemodAdd RoofStyle RoofMatl Exterior1st Exterior2nd MasVnrType  \\\n",
       "0          1961     Gable  CompShg     VinylSd     VinylSd       None   \n",
       "1          1958       Hip  CompShg     Wd Sdng     Wd Sdng    BrkFace   \n",
       "2          1998     Gable  CompShg     VinylSd     VinylSd       None   \n",
       "3          1998     Gable  CompShg     VinylSd     VinylSd    BrkFace   \n",
       "4          1992     Gable  CompShg     HdBoard     HdBoard       None   \n",
       "\n",
       "   MasVnrArea ExterQual ExterCond Foundation BsmtQual BsmtCond BsmtExposure  \\\n",
       "0         0.0        TA        TA     CBlock       TA       TA           No   \n",
       "1       108.0        TA        TA     CBlock       TA       TA           No   \n",
       "2         0.0        TA        TA      PConc       Gd       TA           No   \n",
       "3        20.0        TA        TA      PConc       TA       TA           No   \n",
       "4         0.0        Gd        TA      PConc       Gd       TA           No   \n",
       "\n",
       "  BsmtFinType1  BsmtFinSF1 BsmtFinType2  BsmtFinSF2  BsmtUnfSF  TotalBsmtSF  \\\n",
       "0          Rec       468.0          LwQ       144.0      270.0        882.0   \n",
       "1          ALQ       923.0          Unf         0.0      406.0       1329.0   \n",
       "2          GLQ       791.0          Unf         0.0      137.0        928.0   \n",
       "3          GLQ       602.0          Unf         0.0      324.0        926.0   \n",
       "4          ALQ       263.0          Unf         0.0     1017.0       1280.0   \n",
       "\n",
       "  Heating HeatingQC CentralAir Electrical  1stFlrSF  2ndFlrSF  LowQualFinSF  \\\n",
       "0    GasA        TA          Y      SBrkr       896         0             0   \n",
       "1    GasA        TA          Y      SBrkr      1329         0             0   \n",
       "2    GasA        Gd          Y      SBrkr       928       701             0   \n",
       "3    GasA        Ex          Y      SBrkr       926       678             0   \n",
       "4    GasA        Ex          Y      SBrkr      1280         0             0   \n",
       "\n",
       "   GrLivArea  BsmtFullBath  BsmtHalfBath  FullBath  HalfBath  BedroomAbvGr  \\\n",
       "0        896           0.0           0.0         1         0             2   \n",
       "1       1329           0.0           0.0         1         1             3   \n",
       "2       1629           0.0           0.0         2         1             3   \n",
       "3       1604           0.0           0.0         2         1             3   \n",
       "4       1280           0.0           0.0         2         0             2   \n",
       "\n",
       "   KitchenAbvGr KitchenQual  TotRmsAbvGrd Functional  Fireplaces GarageType  \\\n",
       "0             1          TA             5        Typ           0     Attchd   \n",
       "1             1          Gd             6        Typ           0     Attchd   \n",
       "2             1          TA             6        Typ           1     Attchd   \n",
       "3             1          Gd             7        Typ           1     Attchd   \n",
       "4             1          Gd             5        Typ           0     Attchd   \n",
       "\n",
       "   GarageYrBlt GarageFinish  GarageCars  GarageArea GarageQual GarageCond  \\\n",
       "0       1961.0          Unf         1.0       730.0         TA         TA   \n",
       "1       1958.0          Unf         1.0       312.0         TA         TA   \n",
       "2       1997.0          Fin         2.0       482.0         TA         TA   \n",
       "3       1998.0          Fin         2.0       470.0         TA         TA   \n",
       "4       1992.0          RFn         2.0       506.0         TA         TA   \n",
       "\n",
       "  PavedDrive  WoodDeckSF  OpenPorchSF  EnclosedPorch  3SsnPorch  ScreenPorch  \\\n",
       "0          Y         140            0              0          0          120   \n",
       "1          Y         393           36              0          0            0   \n",
       "2          Y         212           34              0          0            0   \n",
       "3          Y         360           36              0          0            0   \n",
       "4          Y           0           82              0          0          144   \n",
       "\n",
       "   PoolArea  MiscVal  MoSold  YrSold SaleType SaleCondition  \n",
       "0         0        0       6    2010       WD        Normal  \n",
       "1         0    12500       6    2010       WD        Normal  \n",
       "2         0        0       3    2010       WD        Normal  \n",
       "3         0        0       6    2010       WD        Normal  \n",
       "4         0        0       1    2010       WD        Normal  "
      ]
     },
     "execution_count": 34,
     "metadata": {},
     "output_type": "execute_result"
    }
   ],
   "source": [
    "test_df = pd.read_csv(\"finaltest.csv\")\n",
    "test_df.head()"
   ]
  },
  {
   "cell_type": "code",
   "execution_count": 35,
   "metadata": {},
   "outputs": [
    {
     "data": {
      "application/javascript": [
       "\n",
       "        if (window._pyforest_update_imports_cell) { window._pyforest_update_imports_cell('import seaborn as sns\\nimport pandas as pd'); }\n",
       "    "
      ],
      "text/plain": [
       "<IPython.core.display.Javascript object>"
      ]
     },
     "metadata": {},
     "output_type": "display_data"
    },
    {
     "name": "stderr",
     "output_type": "stream",
     "text": [
      "C:\\Users\\vikasbhadoria\\Anaconda3\\lib\\site-packages\\ipykernel_launcher.py:1: FutureWarning: Sorting because non-concatenation axis is not aligned. A future version\n",
      "of pandas will change to not sort by default.\n",
      "\n",
      "To accept the future behavior, pass 'sort=False'.\n",
      "\n",
      "To retain the current behavior and silence the warning, pass 'sort=True'.\n",
      "\n",
      "  \"\"\"Entry point for launching an IPython kernel.\n"
     ]
    }
   ],
   "source": [
    "final_df = pd.concat([df,test_df],axis=0)"
   ]
  },
  {
   "cell_type": "code",
   "execution_count": 36,
   "metadata": {},
   "outputs": [
    {
     "data": {
      "text/plain": [
       "(2919, 76)"
      ]
     },
     "execution_count": 36,
     "metadata": {},
     "output_type": "execute_result"
    }
   ],
   "source": [
    "final_df.shape"
   ]
  },
  {
   "cell_type": "code",
   "execution_count": 37,
   "metadata": {},
   "outputs": [],
   "source": [
    "def category_onehot_multcols(multcolumns):\n",
    "    df_final=final_df\n",
    "    i=0\n",
    "    for fields in multcolumns:\n",
    "        \n",
    "        print(fields)\n",
    "        df1=pd.get_dummies(final_df[fields],drop_first=True)\n",
    "        \n",
    "        final_df.drop([fields],axis=1,inplace=True)\n",
    "        if i==0:\n",
    "            df_final=df1.copy()\n",
    "        else:\n",
    "            \n",
    "            df_final=pd.concat([df_final,df1],axis=1)\n",
    "        i=i+1\n",
    "       \n",
    "        \n",
    "    df_final=pd.concat([final_df,df_final],axis=1)\n",
    "        \n",
    "    return df_final"
   ]
  },
  {
   "cell_type": "code",
   "execution_count": 38,
   "metadata": {},
   "outputs": [
    {
     "name": "stdout",
     "output_type": "stream",
     "text": [
      "MSZoning\n"
     ]
    },
    {
     "data": {
      "application/javascript": [
       "\n",
       "        if (window._pyforest_update_imports_cell) { window._pyforest_update_imports_cell('import seaborn as sns\\nimport pandas as pd'); }\n",
       "    "
      ],
      "text/plain": [
       "<IPython.core.display.Javascript object>"
      ]
     },
     "metadata": {},
     "output_type": "display_data"
    },
    {
     "name": "stdout",
     "output_type": "stream",
     "text": [
      "Street\n"
     ]
    },
    {
     "data": {
      "application/javascript": [
       "\n",
       "        if (window._pyforest_update_imports_cell) { window._pyforest_update_imports_cell('import seaborn as sns\\nimport pandas as pd'); }\n",
       "    "
      ],
      "text/plain": [
       "<IPython.core.display.Javascript object>"
      ]
     },
     "metadata": {},
     "output_type": "display_data"
    },
    {
     "data": {
      "application/javascript": [
       "\n",
       "        if (window._pyforest_update_imports_cell) { window._pyforest_update_imports_cell('import seaborn as sns\\nimport pandas as pd'); }\n",
       "    "
      ],
      "text/plain": [
       "<IPython.core.display.Javascript object>"
      ]
     },
     "metadata": {},
     "output_type": "display_data"
    },
    {
     "name": "stdout",
     "output_type": "stream",
     "text": [
      "LotShape\n"
     ]
    },
    {
     "data": {
      "application/javascript": [
       "\n",
       "        if (window._pyforest_update_imports_cell) { window._pyforest_update_imports_cell('import seaborn as sns\\nimport pandas as pd'); }\n",
       "    "
      ],
      "text/plain": [
       "<IPython.core.display.Javascript object>"
      ]
     },
     "metadata": {},
     "output_type": "display_data"
    },
    {
     "data": {
      "application/javascript": [
       "\n",
       "        if (window._pyforest_update_imports_cell) { window._pyforest_update_imports_cell('import seaborn as sns\\nimport pandas as pd'); }\n",
       "    "
      ],
      "text/plain": [
       "<IPython.core.display.Javascript object>"
      ]
     },
     "metadata": {},
     "output_type": "display_data"
    },
    {
     "name": "stdout",
     "output_type": "stream",
     "text": [
      "LandContour\n"
     ]
    },
    {
     "data": {
      "application/javascript": [
       "\n",
       "        if (window._pyforest_update_imports_cell) { window._pyforest_update_imports_cell('import seaborn as sns\\nimport pandas as pd'); }\n",
       "    "
      ],
      "text/plain": [
       "<IPython.core.display.Javascript object>"
      ]
     },
     "metadata": {},
     "output_type": "display_data"
    },
    {
     "data": {
      "application/javascript": [
       "\n",
       "        if (window._pyforest_update_imports_cell) { window._pyforest_update_imports_cell('import seaborn as sns\\nimport pandas as pd'); }\n",
       "    "
      ],
      "text/plain": [
       "<IPython.core.display.Javascript object>"
      ]
     },
     "metadata": {},
     "output_type": "display_data"
    },
    {
     "name": "stdout",
     "output_type": "stream",
     "text": [
      "Utilities\n"
     ]
    },
    {
     "data": {
      "application/javascript": [
       "\n",
       "        if (window._pyforest_update_imports_cell) { window._pyforest_update_imports_cell('import seaborn as sns\\nimport pandas as pd'); }\n",
       "    "
      ],
      "text/plain": [
       "<IPython.core.display.Javascript object>"
      ]
     },
     "metadata": {},
     "output_type": "display_data"
    },
    {
     "data": {
      "application/javascript": [
       "\n",
       "        if (window._pyforest_update_imports_cell) { window._pyforest_update_imports_cell('import seaborn as sns\\nimport pandas as pd'); }\n",
       "    "
      ],
      "text/plain": [
       "<IPython.core.display.Javascript object>"
      ]
     },
     "metadata": {},
     "output_type": "display_data"
    },
    {
     "name": "stdout",
     "output_type": "stream",
     "text": [
      "LotConfig\n"
     ]
    },
    {
     "data": {
      "application/javascript": [
       "\n",
       "        if (window._pyforest_update_imports_cell) { window._pyforest_update_imports_cell('import seaborn as sns\\nimport pandas as pd'); }\n",
       "    "
      ],
      "text/plain": [
       "<IPython.core.display.Javascript object>"
      ]
     },
     "metadata": {},
     "output_type": "display_data"
    },
    {
     "data": {
      "application/javascript": [
       "\n",
       "        if (window._pyforest_update_imports_cell) { window._pyforest_update_imports_cell('import seaborn as sns\\nimport pandas as pd'); }\n",
       "    "
      ],
      "text/plain": [
       "<IPython.core.display.Javascript object>"
      ]
     },
     "metadata": {},
     "output_type": "display_data"
    },
    {
     "name": "stdout",
     "output_type": "stream",
     "text": [
      "LandSlope\n"
     ]
    },
    {
     "data": {
      "application/javascript": [
       "\n",
       "        if (window._pyforest_update_imports_cell) { window._pyforest_update_imports_cell('import seaborn as sns\\nimport pandas as pd'); }\n",
       "    "
      ],
      "text/plain": [
       "<IPython.core.display.Javascript object>"
      ]
     },
     "metadata": {},
     "output_type": "display_data"
    },
    {
     "data": {
      "application/javascript": [
       "\n",
       "        if (window._pyforest_update_imports_cell) { window._pyforest_update_imports_cell('import seaborn as sns\\nimport pandas as pd'); }\n",
       "    "
      ],
      "text/plain": [
       "<IPython.core.display.Javascript object>"
      ]
     },
     "metadata": {},
     "output_type": "display_data"
    },
    {
     "name": "stdout",
     "output_type": "stream",
     "text": [
      "Neighborhood\n"
     ]
    },
    {
     "data": {
      "application/javascript": [
       "\n",
       "        if (window._pyforest_update_imports_cell) { window._pyforest_update_imports_cell('import seaborn as sns\\nimport pandas as pd'); }\n",
       "    "
      ],
      "text/plain": [
       "<IPython.core.display.Javascript object>"
      ]
     },
     "metadata": {},
     "output_type": "display_data"
    },
    {
     "data": {
      "application/javascript": [
       "\n",
       "        if (window._pyforest_update_imports_cell) { window._pyforest_update_imports_cell('import seaborn as sns\\nimport pandas as pd'); }\n",
       "    "
      ],
      "text/plain": [
       "<IPython.core.display.Javascript object>"
      ]
     },
     "metadata": {},
     "output_type": "display_data"
    },
    {
     "name": "stdout",
     "output_type": "stream",
     "text": [
      "Condition1\n"
     ]
    },
    {
     "data": {
      "application/javascript": [
       "\n",
       "        if (window._pyforest_update_imports_cell) { window._pyforest_update_imports_cell('import seaborn as sns\\nimport pandas as pd'); }\n",
       "    "
      ],
      "text/plain": [
       "<IPython.core.display.Javascript object>"
      ]
     },
     "metadata": {},
     "output_type": "display_data"
    },
    {
     "data": {
      "application/javascript": [
       "\n",
       "        if (window._pyforest_update_imports_cell) { window._pyforest_update_imports_cell('import seaborn as sns\\nimport pandas as pd'); }\n",
       "    "
      ],
      "text/plain": [
       "<IPython.core.display.Javascript object>"
      ]
     },
     "metadata": {},
     "output_type": "display_data"
    },
    {
     "name": "stdout",
     "output_type": "stream",
     "text": [
      "Condition2\n"
     ]
    },
    {
     "data": {
      "application/javascript": [
       "\n",
       "        if (window._pyforest_update_imports_cell) { window._pyforest_update_imports_cell('import seaborn as sns\\nimport pandas as pd'); }\n",
       "    "
      ],
      "text/plain": [
       "<IPython.core.display.Javascript object>"
      ]
     },
     "metadata": {},
     "output_type": "display_data"
    },
    {
     "data": {
      "application/javascript": [
       "\n",
       "        if (window._pyforest_update_imports_cell) { window._pyforest_update_imports_cell('import seaborn as sns\\nimport pandas as pd'); }\n",
       "    "
      ],
      "text/plain": [
       "<IPython.core.display.Javascript object>"
      ]
     },
     "metadata": {},
     "output_type": "display_data"
    },
    {
     "name": "stdout",
     "output_type": "stream",
     "text": [
      "BldgType\n"
     ]
    },
    {
     "data": {
      "application/javascript": [
       "\n",
       "        if (window._pyforest_update_imports_cell) { window._pyforest_update_imports_cell('import seaborn as sns\\nimport pandas as pd'); }\n",
       "    "
      ],
      "text/plain": [
       "<IPython.core.display.Javascript object>"
      ]
     },
     "metadata": {},
     "output_type": "display_data"
    },
    {
     "data": {
      "application/javascript": [
       "\n",
       "        if (window._pyforest_update_imports_cell) { window._pyforest_update_imports_cell('import seaborn as sns\\nimport pandas as pd'); }\n",
       "    "
      ],
      "text/plain": [
       "<IPython.core.display.Javascript object>"
      ]
     },
     "metadata": {},
     "output_type": "display_data"
    },
    {
     "name": "stdout",
     "output_type": "stream",
     "text": [
      "HouseStyle\n"
     ]
    },
    {
     "data": {
      "application/javascript": [
       "\n",
       "        if (window._pyforest_update_imports_cell) { window._pyforest_update_imports_cell('import seaborn as sns\\nimport pandas as pd'); }\n",
       "    "
      ],
      "text/plain": [
       "<IPython.core.display.Javascript object>"
      ]
     },
     "metadata": {},
     "output_type": "display_data"
    },
    {
     "data": {
      "application/javascript": [
       "\n",
       "        if (window._pyforest_update_imports_cell) { window._pyforest_update_imports_cell('import seaborn as sns\\nimport pandas as pd'); }\n",
       "    "
      ],
      "text/plain": [
       "<IPython.core.display.Javascript object>"
      ]
     },
     "metadata": {},
     "output_type": "display_data"
    },
    {
     "name": "stdout",
     "output_type": "stream",
     "text": [
      "RoofStyle\n"
     ]
    },
    {
     "data": {
      "application/javascript": [
       "\n",
       "        if (window._pyforest_update_imports_cell) { window._pyforest_update_imports_cell('import seaborn as sns\\nimport pandas as pd'); }\n",
       "    "
      ],
      "text/plain": [
       "<IPython.core.display.Javascript object>"
      ]
     },
     "metadata": {},
     "output_type": "display_data"
    },
    {
     "data": {
      "application/javascript": [
       "\n",
       "        if (window._pyforest_update_imports_cell) { window._pyforest_update_imports_cell('import seaborn as sns\\nimport pandas as pd'); }\n",
       "    "
      ],
      "text/plain": [
       "<IPython.core.display.Javascript object>"
      ]
     },
     "metadata": {},
     "output_type": "display_data"
    },
    {
     "name": "stdout",
     "output_type": "stream",
     "text": [
      "RoofMatl\n"
     ]
    },
    {
     "data": {
      "application/javascript": [
       "\n",
       "        if (window._pyforest_update_imports_cell) { window._pyforest_update_imports_cell('import seaborn as sns\\nimport pandas as pd'); }\n",
       "    "
      ],
      "text/plain": [
       "<IPython.core.display.Javascript object>"
      ]
     },
     "metadata": {},
     "output_type": "display_data"
    },
    {
     "data": {
      "application/javascript": [
       "\n",
       "        if (window._pyforest_update_imports_cell) { window._pyforest_update_imports_cell('import seaborn as sns\\nimport pandas as pd'); }\n",
       "    "
      ],
      "text/plain": [
       "<IPython.core.display.Javascript object>"
      ]
     },
     "metadata": {},
     "output_type": "display_data"
    },
    {
     "name": "stdout",
     "output_type": "stream",
     "text": [
      "Exterior1st\n"
     ]
    },
    {
     "data": {
      "application/javascript": [
       "\n",
       "        if (window._pyforest_update_imports_cell) { window._pyforest_update_imports_cell('import seaborn as sns\\nimport pandas as pd'); }\n",
       "    "
      ],
      "text/plain": [
       "<IPython.core.display.Javascript object>"
      ]
     },
     "metadata": {},
     "output_type": "display_data"
    },
    {
     "data": {
      "application/javascript": [
       "\n",
       "        if (window._pyforest_update_imports_cell) { window._pyforest_update_imports_cell('import seaborn as sns\\nimport pandas as pd'); }\n",
       "    "
      ],
      "text/plain": [
       "<IPython.core.display.Javascript object>"
      ]
     },
     "metadata": {},
     "output_type": "display_data"
    },
    {
     "name": "stdout",
     "output_type": "stream",
     "text": [
      "Exterior2nd\n"
     ]
    },
    {
     "data": {
      "application/javascript": [
       "\n",
       "        if (window._pyforest_update_imports_cell) { window._pyforest_update_imports_cell('import seaborn as sns\\nimport pandas as pd'); }\n",
       "    "
      ],
      "text/plain": [
       "<IPython.core.display.Javascript object>"
      ]
     },
     "metadata": {},
     "output_type": "display_data"
    },
    {
     "data": {
      "application/javascript": [
       "\n",
       "        if (window._pyforest_update_imports_cell) { window._pyforest_update_imports_cell('import seaborn as sns\\nimport pandas as pd'); }\n",
       "    "
      ],
      "text/plain": [
       "<IPython.core.display.Javascript object>"
      ]
     },
     "metadata": {},
     "output_type": "display_data"
    },
    {
     "name": "stdout",
     "output_type": "stream",
     "text": [
      "MasVnrType\n"
     ]
    },
    {
     "data": {
      "application/javascript": [
       "\n",
       "        if (window._pyforest_update_imports_cell) { window._pyforest_update_imports_cell('import seaborn as sns\\nimport pandas as pd'); }\n",
       "    "
      ],
      "text/plain": [
       "<IPython.core.display.Javascript object>"
      ]
     },
     "metadata": {},
     "output_type": "display_data"
    },
    {
     "data": {
      "application/javascript": [
       "\n",
       "        if (window._pyforest_update_imports_cell) { window._pyforest_update_imports_cell('import seaborn as sns\\nimport pandas as pd'); }\n",
       "    "
      ],
      "text/plain": [
       "<IPython.core.display.Javascript object>"
      ]
     },
     "metadata": {},
     "output_type": "display_data"
    },
    {
     "name": "stdout",
     "output_type": "stream",
     "text": [
      "ExterQual\n"
     ]
    },
    {
     "data": {
      "application/javascript": [
       "\n",
       "        if (window._pyforest_update_imports_cell) { window._pyforest_update_imports_cell('import seaborn as sns\\nimport pandas as pd'); }\n",
       "    "
      ],
      "text/plain": [
       "<IPython.core.display.Javascript object>"
      ]
     },
     "metadata": {},
     "output_type": "display_data"
    },
    {
     "data": {
      "application/javascript": [
       "\n",
       "        if (window._pyforest_update_imports_cell) { window._pyforest_update_imports_cell('import seaborn as sns\\nimport pandas as pd'); }\n",
       "    "
      ],
      "text/plain": [
       "<IPython.core.display.Javascript object>"
      ]
     },
     "metadata": {},
     "output_type": "display_data"
    },
    {
     "name": "stdout",
     "output_type": "stream",
     "text": [
      "ExterCond\n"
     ]
    },
    {
     "data": {
      "application/javascript": [
       "\n",
       "        if (window._pyforest_update_imports_cell) { window._pyforest_update_imports_cell('import seaborn as sns\\nimport pandas as pd'); }\n",
       "    "
      ],
      "text/plain": [
       "<IPython.core.display.Javascript object>"
      ]
     },
     "metadata": {},
     "output_type": "display_data"
    },
    {
     "data": {
      "application/javascript": [
       "\n",
       "        if (window._pyforest_update_imports_cell) { window._pyforest_update_imports_cell('import seaborn as sns\\nimport pandas as pd'); }\n",
       "    "
      ],
      "text/plain": [
       "<IPython.core.display.Javascript object>"
      ]
     },
     "metadata": {},
     "output_type": "display_data"
    },
    {
     "name": "stdout",
     "output_type": "stream",
     "text": [
      "Foundation\n"
     ]
    },
    {
     "data": {
      "application/javascript": [
       "\n",
       "        if (window._pyforest_update_imports_cell) { window._pyforest_update_imports_cell('import seaborn as sns\\nimport pandas as pd'); }\n",
       "    "
      ],
      "text/plain": [
       "<IPython.core.display.Javascript object>"
      ]
     },
     "metadata": {},
     "output_type": "display_data"
    },
    {
     "data": {
      "application/javascript": [
       "\n",
       "        if (window._pyforest_update_imports_cell) { window._pyforest_update_imports_cell('import seaborn as sns\\nimport pandas as pd'); }\n",
       "    "
      ],
      "text/plain": [
       "<IPython.core.display.Javascript object>"
      ]
     },
     "metadata": {},
     "output_type": "display_data"
    },
    {
     "name": "stdout",
     "output_type": "stream",
     "text": [
      "BsmtQual\n"
     ]
    },
    {
     "data": {
      "application/javascript": [
       "\n",
       "        if (window._pyforest_update_imports_cell) { window._pyforest_update_imports_cell('import seaborn as sns\\nimport pandas as pd'); }\n",
       "    "
      ],
      "text/plain": [
       "<IPython.core.display.Javascript object>"
      ]
     },
     "metadata": {},
     "output_type": "display_data"
    },
    {
     "data": {
      "application/javascript": [
       "\n",
       "        if (window._pyforest_update_imports_cell) { window._pyforest_update_imports_cell('import seaborn as sns\\nimport pandas as pd'); }\n",
       "    "
      ],
      "text/plain": [
       "<IPython.core.display.Javascript object>"
      ]
     },
     "metadata": {},
     "output_type": "display_data"
    },
    {
     "name": "stdout",
     "output_type": "stream",
     "text": [
      "BsmtCond\n"
     ]
    },
    {
     "data": {
      "application/javascript": [
       "\n",
       "        if (window._pyforest_update_imports_cell) { window._pyforest_update_imports_cell('import seaborn as sns\\nimport pandas as pd'); }\n",
       "    "
      ],
      "text/plain": [
       "<IPython.core.display.Javascript object>"
      ]
     },
     "metadata": {},
     "output_type": "display_data"
    },
    {
     "data": {
      "application/javascript": [
       "\n",
       "        if (window._pyforest_update_imports_cell) { window._pyforest_update_imports_cell('import seaborn as sns\\nimport pandas as pd'); }\n",
       "    "
      ],
      "text/plain": [
       "<IPython.core.display.Javascript object>"
      ]
     },
     "metadata": {},
     "output_type": "display_data"
    },
    {
     "name": "stdout",
     "output_type": "stream",
     "text": [
      "BsmtExposure\n"
     ]
    },
    {
     "data": {
      "application/javascript": [
       "\n",
       "        if (window._pyforest_update_imports_cell) { window._pyforest_update_imports_cell('import seaborn as sns\\nimport pandas as pd'); }\n",
       "    "
      ],
      "text/plain": [
       "<IPython.core.display.Javascript object>"
      ]
     },
     "metadata": {},
     "output_type": "display_data"
    },
    {
     "data": {
      "application/javascript": [
       "\n",
       "        if (window._pyforest_update_imports_cell) { window._pyforest_update_imports_cell('import seaborn as sns\\nimport pandas as pd'); }\n",
       "    "
      ],
      "text/plain": [
       "<IPython.core.display.Javascript object>"
      ]
     },
     "metadata": {},
     "output_type": "display_data"
    },
    {
     "name": "stdout",
     "output_type": "stream",
     "text": [
      "BsmtFinType1\n"
     ]
    },
    {
     "data": {
      "application/javascript": [
       "\n",
       "        if (window._pyforest_update_imports_cell) { window._pyforest_update_imports_cell('import seaborn as sns\\nimport pandas as pd'); }\n",
       "    "
      ],
      "text/plain": [
       "<IPython.core.display.Javascript object>"
      ]
     },
     "metadata": {},
     "output_type": "display_data"
    },
    {
     "data": {
      "application/javascript": [
       "\n",
       "        if (window._pyforest_update_imports_cell) { window._pyforest_update_imports_cell('import seaborn as sns\\nimport pandas as pd'); }\n",
       "    "
      ],
      "text/plain": [
       "<IPython.core.display.Javascript object>"
      ]
     },
     "metadata": {},
     "output_type": "display_data"
    },
    {
     "name": "stdout",
     "output_type": "stream",
     "text": [
      "BsmtFinType2\n"
     ]
    },
    {
     "data": {
      "application/javascript": [
       "\n",
       "        if (window._pyforest_update_imports_cell) { window._pyforest_update_imports_cell('import seaborn as sns\\nimport pandas as pd'); }\n",
       "    "
      ],
      "text/plain": [
       "<IPython.core.display.Javascript object>"
      ]
     },
     "metadata": {},
     "output_type": "display_data"
    },
    {
     "data": {
      "application/javascript": [
       "\n",
       "        if (window._pyforest_update_imports_cell) { window._pyforest_update_imports_cell('import seaborn as sns\\nimport pandas as pd'); }\n",
       "    "
      ],
      "text/plain": [
       "<IPython.core.display.Javascript object>"
      ]
     },
     "metadata": {},
     "output_type": "display_data"
    },
    {
     "name": "stdout",
     "output_type": "stream",
     "text": [
      "Heating\n"
     ]
    },
    {
     "data": {
      "application/javascript": [
       "\n",
       "        if (window._pyforest_update_imports_cell) { window._pyforest_update_imports_cell('import seaborn as sns\\nimport pandas as pd'); }\n",
       "    "
      ],
      "text/plain": [
       "<IPython.core.display.Javascript object>"
      ]
     },
     "metadata": {},
     "output_type": "display_data"
    },
    {
     "data": {
      "application/javascript": [
       "\n",
       "        if (window._pyforest_update_imports_cell) { window._pyforest_update_imports_cell('import seaborn as sns\\nimport pandas as pd'); }\n",
       "    "
      ],
      "text/plain": [
       "<IPython.core.display.Javascript object>"
      ]
     },
     "metadata": {},
     "output_type": "display_data"
    },
    {
     "name": "stdout",
     "output_type": "stream",
     "text": [
      "HeatingQC\n"
     ]
    },
    {
     "data": {
      "application/javascript": [
       "\n",
       "        if (window._pyforest_update_imports_cell) { window._pyforest_update_imports_cell('import seaborn as sns\\nimport pandas as pd'); }\n",
       "    "
      ],
      "text/plain": [
       "<IPython.core.display.Javascript object>"
      ]
     },
     "metadata": {},
     "output_type": "display_data"
    },
    {
     "data": {
      "application/javascript": [
       "\n",
       "        if (window._pyforest_update_imports_cell) { window._pyforest_update_imports_cell('import seaborn as sns\\nimport pandas as pd'); }\n",
       "    "
      ],
      "text/plain": [
       "<IPython.core.display.Javascript object>"
      ]
     },
     "metadata": {},
     "output_type": "display_data"
    },
    {
     "name": "stdout",
     "output_type": "stream",
     "text": [
      "CentralAir\n"
     ]
    },
    {
     "data": {
      "application/javascript": [
       "\n",
       "        if (window._pyforest_update_imports_cell) { window._pyforest_update_imports_cell('import seaborn as sns\\nimport pandas as pd'); }\n",
       "    "
      ],
      "text/plain": [
       "<IPython.core.display.Javascript object>"
      ]
     },
     "metadata": {},
     "output_type": "display_data"
    },
    {
     "data": {
      "application/javascript": [
       "\n",
       "        if (window._pyforest_update_imports_cell) { window._pyforest_update_imports_cell('import seaborn as sns\\nimport pandas as pd'); }\n",
       "    "
      ],
      "text/plain": [
       "<IPython.core.display.Javascript object>"
      ]
     },
     "metadata": {},
     "output_type": "display_data"
    },
    {
     "name": "stdout",
     "output_type": "stream",
     "text": [
      "Electrical\n"
     ]
    },
    {
     "data": {
      "application/javascript": [
       "\n",
       "        if (window._pyforest_update_imports_cell) { window._pyforest_update_imports_cell('import seaborn as sns\\nimport pandas as pd'); }\n",
       "    "
      ],
      "text/plain": [
       "<IPython.core.display.Javascript object>"
      ]
     },
     "metadata": {},
     "output_type": "display_data"
    },
    {
     "data": {
      "application/javascript": [
       "\n",
       "        if (window._pyforest_update_imports_cell) { window._pyforest_update_imports_cell('import seaborn as sns\\nimport pandas as pd'); }\n",
       "    "
      ],
      "text/plain": [
       "<IPython.core.display.Javascript object>"
      ]
     },
     "metadata": {},
     "output_type": "display_data"
    },
    {
     "name": "stdout",
     "output_type": "stream",
     "text": [
      "KitchenQual\n"
     ]
    },
    {
     "data": {
      "application/javascript": [
       "\n",
       "        if (window._pyforest_update_imports_cell) { window._pyforest_update_imports_cell('import seaborn as sns\\nimport pandas as pd'); }\n",
       "    "
      ],
      "text/plain": [
       "<IPython.core.display.Javascript object>"
      ]
     },
     "metadata": {},
     "output_type": "display_data"
    },
    {
     "data": {
      "application/javascript": [
       "\n",
       "        if (window._pyforest_update_imports_cell) { window._pyforest_update_imports_cell('import seaborn as sns\\nimport pandas as pd'); }\n",
       "    "
      ],
      "text/plain": [
       "<IPython.core.display.Javascript object>"
      ]
     },
     "metadata": {},
     "output_type": "display_data"
    },
    {
     "name": "stdout",
     "output_type": "stream",
     "text": [
      "Functional\n"
     ]
    },
    {
     "data": {
      "application/javascript": [
       "\n",
       "        if (window._pyforest_update_imports_cell) { window._pyforest_update_imports_cell('import seaborn as sns\\nimport pandas as pd'); }\n",
       "    "
      ],
      "text/plain": [
       "<IPython.core.display.Javascript object>"
      ]
     },
     "metadata": {},
     "output_type": "display_data"
    },
    {
     "data": {
      "application/javascript": [
       "\n",
       "        if (window._pyforest_update_imports_cell) { window._pyforest_update_imports_cell('import seaborn as sns\\nimport pandas as pd'); }\n",
       "    "
      ],
      "text/plain": [
       "<IPython.core.display.Javascript object>"
      ]
     },
     "metadata": {},
     "output_type": "display_data"
    },
    {
     "name": "stdout",
     "output_type": "stream",
     "text": [
      "GarageType\n"
     ]
    },
    {
     "data": {
      "application/javascript": [
       "\n",
       "        if (window._pyforest_update_imports_cell) { window._pyforest_update_imports_cell('import seaborn as sns\\nimport pandas as pd'); }\n",
       "    "
      ],
      "text/plain": [
       "<IPython.core.display.Javascript object>"
      ]
     },
     "metadata": {},
     "output_type": "display_data"
    },
    {
     "data": {
      "application/javascript": [
       "\n",
       "        if (window._pyforest_update_imports_cell) { window._pyforest_update_imports_cell('import seaborn as sns\\nimport pandas as pd'); }\n",
       "    "
      ],
      "text/plain": [
       "<IPython.core.display.Javascript object>"
      ]
     },
     "metadata": {},
     "output_type": "display_data"
    },
    {
     "name": "stdout",
     "output_type": "stream",
     "text": [
      "GarageFinish\n"
     ]
    },
    {
     "data": {
      "application/javascript": [
       "\n",
       "        if (window._pyforest_update_imports_cell) { window._pyforest_update_imports_cell('import seaborn as sns\\nimport pandas as pd'); }\n",
       "    "
      ],
      "text/plain": [
       "<IPython.core.display.Javascript object>"
      ]
     },
     "metadata": {},
     "output_type": "display_data"
    },
    {
     "data": {
      "application/javascript": [
       "\n",
       "        if (window._pyforest_update_imports_cell) { window._pyforest_update_imports_cell('import seaborn as sns\\nimport pandas as pd'); }\n",
       "    "
      ],
      "text/plain": [
       "<IPython.core.display.Javascript object>"
      ]
     },
     "metadata": {},
     "output_type": "display_data"
    },
    {
     "name": "stdout",
     "output_type": "stream",
     "text": [
      "GarageQual\n"
     ]
    },
    {
     "data": {
      "application/javascript": [
       "\n",
       "        if (window._pyforest_update_imports_cell) { window._pyforest_update_imports_cell('import seaborn as sns\\nimport pandas as pd'); }\n",
       "    "
      ],
      "text/plain": [
       "<IPython.core.display.Javascript object>"
      ]
     },
     "metadata": {},
     "output_type": "display_data"
    },
    {
     "data": {
      "application/javascript": [
       "\n",
       "        if (window._pyforest_update_imports_cell) { window._pyforest_update_imports_cell('import seaborn as sns\\nimport pandas as pd'); }\n",
       "    "
      ],
      "text/plain": [
       "<IPython.core.display.Javascript object>"
      ]
     },
     "metadata": {},
     "output_type": "display_data"
    },
    {
     "name": "stdout",
     "output_type": "stream",
     "text": [
      "GarageCond\n"
     ]
    },
    {
     "data": {
      "application/javascript": [
       "\n",
       "        if (window._pyforest_update_imports_cell) { window._pyforest_update_imports_cell('import seaborn as sns\\nimport pandas as pd'); }\n",
       "    "
      ],
      "text/plain": [
       "<IPython.core.display.Javascript object>"
      ]
     },
     "metadata": {},
     "output_type": "display_data"
    },
    {
     "data": {
      "application/javascript": [
       "\n",
       "        if (window._pyforest_update_imports_cell) { window._pyforest_update_imports_cell('import seaborn as sns\\nimport pandas as pd'); }\n",
       "    "
      ],
      "text/plain": [
       "<IPython.core.display.Javascript object>"
      ]
     },
     "metadata": {},
     "output_type": "display_data"
    },
    {
     "name": "stdout",
     "output_type": "stream",
     "text": [
      "PavedDrive\n"
     ]
    },
    {
     "data": {
      "application/javascript": [
       "\n",
       "        if (window._pyforest_update_imports_cell) { window._pyforest_update_imports_cell('import seaborn as sns\\nimport pandas as pd'); }\n",
       "    "
      ],
      "text/plain": [
       "<IPython.core.display.Javascript object>"
      ]
     },
     "metadata": {},
     "output_type": "display_data"
    },
    {
     "data": {
      "application/javascript": [
       "\n",
       "        if (window._pyforest_update_imports_cell) { window._pyforest_update_imports_cell('import seaborn as sns\\nimport pandas as pd'); }\n",
       "    "
      ],
      "text/plain": [
       "<IPython.core.display.Javascript object>"
      ]
     },
     "metadata": {},
     "output_type": "display_data"
    },
    {
     "name": "stdout",
     "output_type": "stream",
     "text": [
      "SaleType\n"
     ]
    },
    {
     "data": {
      "application/javascript": [
       "\n",
       "        if (window._pyforest_update_imports_cell) { window._pyforest_update_imports_cell('import seaborn as sns\\nimport pandas as pd'); }\n",
       "    "
      ],
      "text/plain": [
       "<IPython.core.display.Javascript object>"
      ]
     },
     "metadata": {},
     "output_type": "display_data"
    },
    {
     "data": {
      "application/javascript": [
       "\n",
       "        if (window._pyforest_update_imports_cell) { window._pyforest_update_imports_cell('import seaborn as sns\\nimport pandas as pd'); }\n",
       "    "
      ],
      "text/plain": [
       "<IPython.core.display.Javascript object>"
      ]
     },
     "metadata": {},
     "output_type": "display_data"
    },
    {
     "name": "stdout",
     "output_type": "stream",
     "text": [
      "SaleCondition\n"
     ]
    },
    {
     "data": {
      "application/javascript": [
       "\n",
       "        if (window._pyforest_update_imports_cell) { window._pyforest_update_imports_cell('import seaborn as sns\\nimport pandas as pd'); }\n",
       "    "
      ],
      "text/plain": [
       "<IPython.core.display.Javascript object>"
      ]
     },
     "metadata": {},
     "output_type": "display_data"
    },
    {
     "data": {
      "application/javascript": [
       "\n",
       "        if (window._pyforest_update_imports_cell) { window._pyforest_update_imports_cell('import seaborn as sns\\nimport pandas as pd'); }\n",
       "    "
      ],
      "text/plain": [
       "<IPython.core.display.Javascript object>"
      ]
     },
     "metadata": {},
     "output_type": "display_data"
    },
    {
     "data": {
      "application/javascript": [
       "\n",
       "        if (window._pyforest_update_imports_cell) { window._pyforest_update_imports_cell('import seaborn as sns\\nimport pandas as pd'); }\n",
       "    "
      ],
      "text/plain": [
       "<IPython.core.display.Javascript object>"
      ]
     },
     "metadata": {},
     "output_type": "display_data"
    }
   ],
   "source": [
    "final_df_hot=category_onehot_multcols(columns)"
   ]
  },
  {
   "cell_type": "code",
   "execution_count": 39,
   "metadata": {},
   "outputs": [
    {
     "data": {
      "text/plain": [
       "(2919, 234)"
      ]
     },
     "execution_count": 39,
     "metadata": {},
     "output_type": "execute_result"
    }
   ],
   "source": [
    "final_df_hot.shape"
   ]
  },
  {
   "cell_type": "code",
   "execution_count": 40,
   "metadata": {},
   "outputs": [],
   "source": [
    "final_df_hot =final_df_hot.loc[:,~final_df_hot.columns.duplicated()]"
   ]
  },
  {
   "cell_type": "code",
   "execution_count": 41,
   "metadata": {},
   "outputs": [
    {
     "data": {
      "text/plain": [
       "(2919, 178)"
      ]
     },
     "execution_count": 41,
     "metadata": {},
     "output_type": "execute_result"
    }
   ],
   "source": [
    "final_df_hot.shape"
   ]
  },
  {
   "cell_type": "code",
   "execution_count": 42,
   "metadata": {},
   "outputs": [],
   "source": [
    "df_Train=final_df_hot.iloc[:1460,:]\n",
    "df_Test=final_df_hot.iloc[1460:,:]"
   ]
  },
  {
   "cell_type": "code",
   "execution_count": 43,
   "metadata": {},
   "outputs": [
    {
     "name": "stderr",
     "output_type": "stream",
     "text": [
      "C:\\Users\\vikasbhadoria\\Anaconda3\\lib\\site-packages\\pandas\\core\\frame.py:3940: SettingWithCopyWarning: \n",
      "A value is trying to be set on a copy of a slice from a DataFrame\n",
      "\n",
      "See the caveats in the documentation: http://pandas.pydata.org/pandas-docs/stable/indexing.html#indexing-view-versus-copy\n",
      "  errors=errors)\n"
     ]
    }
   ],
   "source": [
    "df_Test.drop(['SalePrice'],axis=1,inplace=True)"
   ]
  },
  {
   "cell_type": "code",
   "execution_count": 44,
   "metadata": {},
   "outputs": [],
   "source": [
    "X_train=df_Train.drop(['SalePrice'],axis=1)\n",
    "y_train=df_Train['SalePrice']"
   ]
  },
  {
   "cell_type": "markdown",
   "metadata": {},
   "source": [
    "## Use XGB regressor as our model. The predictions with normal XGB were good but when we fine tune the hyperparameters using RandomSearchCV we get better results"
   ]
  },
  {
   "cell_type": "code",
   "execution_count": 45,
   "metadata": {},
   "outputs": [
    {
     "data": {
      "text/plain": [
       "XGBRegressor(base_score=0.5, booster=None, colsample_bylevel=1,\n",
       "             colsample_bynode=1, colsample_bytree=1, gamma=0, gpu_id=-1,\n",
       "             importance_type='gain', interaction_constraints=None,\n",
       "             learning_rate=0.300000012, max_delta_step=0, max_depth=6,\n",
       "             min_child_weight=1, missing=nan, monotone_constraints=None,\n",
       "             n_estimators=100, n_jobs=0, num_parallel_tree=1,\n",
       "             objective='reg:squarederror', random_state=0, reg_alpha=0,\n",
       "             reg_lambda=1, scale_pos_weight=1, subsample=1, tree_method=None,\n",
       "             validate_parameters=False, verbosity=None)"
      ]
     },
     "execution_count": 45,
     "metadata": {},
     "output_type": "execute_result"
    }
   ],
   "source": [
    "import xgboost\n",
    "clf=xgboost.XGBRegressor()\n",
    "clf.fit(X_train,y_train)"
   ]
  },
  {
   "cell_type": "code",
   "execution_count": 46,
   "metadata": {},
   "outputs": [],
   "source": [
    "import pickle\n",
    "filename = 'finalized_model.pkl'\n",
    "pickle.dump(clf, open(filename, 'wb'))"
   ]
  },
  {
   "cell_type": "code",
   "execution_count": 47,
   "metadata": {},
   "outputs": [
    {
     "data": {
      "text/plain": [
       "array([123273.51, 152423.53, 187626.66, ..., 168481.73, 106902.15,\n",
       "       225062.3 ], dtype=float32)"
      ]
     },
     "execution_count": 47,
     "metadata": {},
     "output_type": "execute_result"
    }
   ],
   "source": [
    "y_pred = clf.predict(df_Test)\n",
    "y_pred"
   ]
  },
  {
   "cell_type": "code",
   "execution_count": 48,
   "metadata": {},
   "outputs": [
    {
     "data": {
      "application/javascript": [
       "\n",
       "        if (window._pyforest_update_imports_cell) { window._pyforest_update_imports_cell('import seaborn as sns\\nimport pandas as pd'); }\n",
       "    "
      ],
      "text/plain": [
       "<IPython.core.display.Javascript object>"
      ]
     },
     "metadata": {},
     "output_type": "display_data"
    },
    {
     "data": {
      "application/javascript": [
       "\n",
       "        if (window._pyforest_update_imports_cell) { window._pyforest_update_imports_cell('import seaborn as sns\\nimport pandas as pd'); }\n",
       "    "
      ],
      "text/plain": [
       "<IPython.core.display.Javascript object>"
      ]
     },
     "metadata": {},
     "output_type": "display_data"
    },
    {
     "data": {
      "application/javascript": [
       "\n",
       "        if (window._pyforest_update_imports_cell) { window._pyforest_update_imports_cell('import seaborn as sns\\nimport pandas as pd'); }\n",
       "    "
      ],
      "text/plain": [
       "<IPython.core.display.Javascript object>"
      ]
     },
     "metadata": {},
     "output_type": "display_data"
    }
   ],
   "source": [
    "pred = pd.DataFrame(y_pred)\n",
    "sub_df=pd.read_csv(\"sample_submission.csv\")\n",
    "datasets = pd.concat([sub_df['Id'],pred],axis=1)\n",
    "datasets.columns = ['Id','SalePrice']\n",
    "datasets.to_csv(\"sample_submission1.csv\",index=False)"
   ]
  },
  {
   "cell_type": "code",
   "execution_count": 49,
   "metadata": {},
   "outputs": [],
   "source": [
    "import xgboost\n",
    "regressor=xgboost.XGBRegressor()"
   ]
  },
  {
   "cell_type": "code",
   "execution_count": 50,
   "metadata": {},
   "outputs": [],
   "source": [
    "booster=['gbtree','gblinear']\n",
    "base_score=[0.25,0.5,0.75,1]\n",
    "\n",
    "n_estimators = [100, 500, 900, 1100, 1500]\n",
    "max_depth = [2, 3, 5, 10, 15]\n",
    "booster=['gbtree','gblinear']\n",
    "learning_rate=[0.05,0.1,0.15,0.20]\n",
    "min_child_weight=[1,2,3,4]\n",
    "\n",
    "# Define the grid of hyperparameters to search\n",
    "hyperparameter_grid = {\n",
    "    'n_estimators': n_estimators,\n",
    "    'max_depth':max_depth,\n",
    "    'learning_rate':learning_rate,\n",
    "    'min_child_weight':min_child_weight,\n",
    "    'booster':booster,\n",
    "    'base_score':base_score\n",
    "    }\n",
    "from sklearn.model_selection import RandomizedSearchCV"
   ]
  },
  {
   "cell_type": "code",
   "execution_count": 51,
   "metadata": {},
   "outputs": [],
   "source": [
    "# Set up the random search with 4-fold cross validation\n",
    "random_cv = RandomizedSearchCV(estimator=regressor,\n",
    "            param_distributions=hyperparameter_grid,\n",
    "            cv=3, n_iter=20,\n",
    "            scoring = 'neg_mean_absolute_error',n_jobs = 4,\n",
    "            verbose = 5, \n",
    "            return_train_score = True,\n",
    "            random_state=42)"
   ]
  },
  {
   "cell_type": "code",
   "execution_count": 52,
   "metadata": {},
   "outputs": [
    {
     "name": "stdout",
     "output_type": "stream",
     "text": [
      "Fitting 3 folds for each of 20 candidates, totalling 60 fits\n"
     ]
    },
    {
     "name": "stderr",
     "output_type": "stream",
     "text": [
      "[Parallel(n_jobs=4)]: Using backend LokyBackend with 4 concurrent workers.\n",
      "[Parallel(n_jobs=4)]: Done  10 tasks      | elapsed:   46.1s\n",
      "[Parallel(n_jobs=4)]: Done  60 out of  60 | elapsed:  3.4min finished\n"
     ]
    },
    {
     "data": {
      "text/plain": [
       "RandomizedSearchCV(cv=3, error_score=nan,\n",
       "                   estimator=XGBRegressor(base_score=None, booster=None,\n",
       "                                          colsample_bylevel=None,\n",
       "                                          colsample_bynode=None,\n",
       "                                          colsample_bytree=None, gamma=None,\n",
       "                                          gpu_id=None, importance_type='gain',\n",
       "                                          interaction_constraints=None,\n",
       "                                          learning_rate=None,\n",
       "                                          max_delta_step=None, max_depth=None,\n",
       "                                          min_child_weight=None, missing=nan,\n",
       "                                          monotone_constraints=None,\n",
       "                                          n_...\n",
       "                   iid='deprecated', n_iter=20, n_jobs=4,\n",
       "                   param_distributions={'base_score': [0.25, 0.5, 0.75, 1],\n",
       "                                        'booster': ['gbtree', 'gblinear'],\n",
       "                                        'learning_rate': [0.05, 0.1, 0.15, 0.2],\n",
       "                                        'max_depth': [2, 3, 5, 10, 15],\n",
       "                                        'min_child_weight': [1, 2, 3, 4],\n",
       "                                        'n_estimators': [100, 500, 900, 1100,\n",
       "                                                         1500]},\n",
       "                   pre_dispatch='2*n_jobs', random_state=42, refit=True,\n",
       "                   return_train_score=True, scoring='neg_mean_absolute_error',\n",
       "                   verbose=5)"
      ]
     },
     "execution_count": 52,
     "metadata": {},
     "output_type": "execute_result"
    }
   ],
   "source": [
    "random_cv.fit(X_train,y_train)"
   ]
  },
  {
   "cell_type": "code",
   "execution_count": 53,
   "metadata": {},
   "outputs": [
    {
     "data": {
      "text/plain": [
       "XGBRegressor(base_score=0.25, booster='gbtree', colsample_bylevel=1,\n",
       "             colsample_bynode=1, colsample_bytree=1, gamma=0, gpu_id=-1,\n",
       "             importance_type='gain', interaction_constraints=None,\n",
       "             learning_rate=0.1, max_delta_step=0, max_depth=3,\n",
       "             min_child_weight=3, missing=nan, monotone_constraints=None,\n",
       "             n_estimators=100, n_jobs=0, num_parallel_tree=1,\n",
       "             objective='reg:squarederror', random_state=0, reg_alpha=0,\n",
       "             reg_lambda=1, scale_pos_weight=1, subsample=1, tree_method=None,\n",
       "             validate_parameters=False, verbosity=None)"
      ]
     },
     "execution_count": 53,
     "metadata": {},
     "output_type": "execute_result"
    }
   ],
   "source": [
    "random_cv.best_estimator_"
   ]
  },
  {
   "cell_type": "code",
   "execution_count": 54,
   "metadata": {},
   "outputs": [],
   "source": [
    "clf_new_xg=xgboost.XGBRegressor(base_score=0.25, booster='gbtree', colsample_bylevel=1,\n",
    "             colsample_bynode=1, colsample_bytree=1, gamma=0, gpu_id=-1,\n",
    "             importance_type='gain', interaction_constraints=None,\n",
    "             learning_rate=0.1, max_delta_step=0, max_depth=3,\n",
    "             min_child_weight=3, monotone_constraints=None,\n",
    "             n_estimators=100, n_jobs=0, num_parallel_tree=1,\n",
    "             objective='reg:squarederror', random_state=0, reg_alpha=0,\n",
    "             reg_lambda=1, scale_pos_weight=1, subsample=1, tree_method=None,\n",
    "             validate_parameters=False, verbosity=None)"
   ]
  },
  {
   "cell_type": "code",
   "execution_count": 56,
   "metadata": {},
   "outputs": [
    {
     "data": {
      "text/plain": [
       "XGBRegressor(base_score=0.25, booster='gbtree', colsample_bylevel=1,\n",
       "             colsample_bynode=1, colsample_bytree=1, gamma=0, gpu_id=-1,\n",
       "             importance_type='gain', interaction_constraints=None,\n",
       "             learning_rate=0.1, max_delta_step=0, max_depth=3,\n",
       "             min_child_weight=3, missing=nan, monotone_constraints=None,\n",
       "             n_estimators=100, n_jobs=0, num_parallel_tree=1,\n",
       "             objective='reg:squarederror', random_state=0, reg_alpha=0,\n",
       "             reg_lambda=1, scale_pos_weight=1, subsample=1, tree_method=None,\n",
       "             validate_parameters=False, verbosity=None)"
      ]
     },
     "execution_count": 56,
     "metadata": {},
     "output_type": "execute_result"
    }
   ],
   "source": [
    "clf_new_xg.fit(X_train,y_train)"
   ]
  },
  {
   "cell_type": "code",
   "execution_count": 57,
   "metadata": {},
   "outputs": [],
   "source": [
    "import pickle\n",
    "filename = 'finalized_model_xg_para_opt.pkl'\n",
    "pickle.dump(clf, open(filename, 'wb'))"
   ]
  },
  {
   "cell_type": "code",
   "execution_count": 58,
   "metadata": {},
   "outputs": [
    {
     "data": {
      "text/plain": [
       "array([123701.61, 152150.73, 176333.9 , ..., 167371.45, 121717.15,\n",
       "       242946.03], dtype=float32)"
      ]
     },
     "execution_count": 58,
     "metadata": {},
     "output_type": "execute_result"
    }
   ],
   "source": [
    "y_pred_new = clf_new_xg.predict(df_Test)\n",
    "y_pred_new"
   ]
  },
  {
   "cell_type": "code",
   "execution_count": 59,
   "metadata": {},
   "outputs": [
    {
     "data": {
      "application/javascript": [
       "\n",
       "        if (window._pyforest_update_imports_cell) { window._pyforest_update_imports_cell('import seaborn as sns\\nimport pandas as pd'); }\n",
       "    "
      ],
      "text/plain": [
       "<IPython.core.display.Javascript object>"
      ]
     },
     "metadata": {},
     "output_type": "display_data"
    },
    {
     "data": {
      "application/javascript": [
       "\n",
       "        if (window._pyforest_update_imports_cell) { window._pyforest_update_imports_cell('import seaborn as sns\\nimport pandas as pd'); }\n",
       "    "
      ],
      "text/plain": [
       "<IPython.core.display.Javascript object>"
      ]
     },
     "metadata": {},
     "output_type": "display_data"
    },
    {
     "data": {
      "application/javascript": [
       "\n",
       "        if (window._pyforest_update_imports_cell) { window._pyforest_update_imports_cell('import seaborn as sns\\nimport pandas as pd'); }\n",
       "    "
      ],
      "text/plain": [
       "<IPython.core.display.Javascript object>"
      ]
     },
     "metadata": {},
     "output_type": "display_data"
    }
   ],
   "source": [
    "pred_new = pd.DataFrame(y_pred_new)\n",
    "sub_df=pd.read_csv(\"sample_submission.csv\")\n",
    "datasets = pd.concat([sub_df['Id'],pred_new],axis=1)\n",
    "datasets.columns = ['Id','SalePrice']\n",
    "datasets.to_csv(\"sample_submission_xgb_para_opt.csv\",index=False)"
   ]
  },
  {
   "cell_type": "markdown",
   "metadata": {},
   "source": [
    "## Next I used ANN to solve this problem, looks like with more hyper param tuning I can achieve better results."
   ]
  },
  {
   "cell_type": "code",
   "execution_count": 61,
   "metadata": {},
   "outputs": [
    {
     "name": "stderr",
     "output_type": "stream",
     "text": [
      "Using TensorFlow backend.\n"
     ]
    }
   ],
   "source": [
    "X_train.shape,y_train.shape\n",
    "from keras import backend as K\n",
    "def root_mean_squared_error(y_true, y_pred):\n",
    "        return K.sqrt(K.mean(K.square(y_pred - y_true)))"
   ]
  },
  {
   "cell_type": "code",
   "execution_count": 62,
   "metadata": {},
   "outputs": [
    {
     "name": "stderr",
     "output_type": "stream",
     "text": [
      "C:\\Users\\vikasbhadoria\\Anaconda3\\lib\\site-packages\\ipykernel_launcher.py:8: UserWarning: Update your `Dense` call to the Keras 2 API: `Dense(activation=\"relu\", input_dim=177, units=50, kernel_initializer=\"he_uniform\")`\n",
      "  \n",
      "C:\\Users\\vikasbhadoria\\Anaconda3\\lib\\site-packages\\ipykernel_launcher.py:9: UserWarning: Update your `Dense` call to the Keras 2 API: `Dense(activation=\"relu\", units=25, kernel_initializer=\"he_uniform\")`\n",
      "  if __name__ == '__main__':\n",
      "C:\\Users\\vikasbhadoria\\Anaconda3\\lib\\site-packages\\ipykernel_launcher.py:10: UserWarning: Update your `Dense` call to the Keras 2 API: `Dense(activation=\"relu\", units=50, kernel_initializer=\"he_uniform\")`\n",
      "  # Remove the CWD from sys.path while we load stuff.\n",
      "C:\\Users\\vikasbhadoria\\Anaconda3\\lib\\site-packages\\ipykernel_launcher.py:11: UserWarning: Update your `Dense` call to the Keras 2 API: `Dense(units=1, kernel_initializer=\"he_uniform\")`\n",
      "  # This is added back by InteractiveShellApp.init_path()\n",
      "C:\\Users\\vikasbhadoria\\Anaconda3\\lib\\site-packages\\ipykernel_launcher.py:14: UserWarning: The `nb_epoch` argument in `fit` has been renamed `epochs`.\n",
      "  \n"
     ]
    },
    {
     "name": "stdout",
     "output_type": "stream",
     "text": [
      "Train on 1168 samples, validate on 292 samples\n",
      "Epoch 1/1000\n",
      "1168/1168 [==============================] - 1s 457us/step - loss: 152186.0860 - val_loss: 66866.9737\n",
      "Epoch 2/1000\n",
      "1168/1168 [==============================] - 0s 239us/step - loss: 64680.0033 - val_loss: 62904.6173\n",
      "Epoch 3/1000\n",
      "1168/1168 [==============================] - 0s 308us/step - loss: 60220.9175 - val_loss: 62114.7932\n",
      "Epoch 4/1000\n",
      "1168/1168 [==============================] - 0s 273us/step - loss: 57962.0814 - val_loss: 58168.9510\n",
      "Epoch 5/1000\n",
      "1168/1168 [==============================] - 0s 246us/step - loss: 53905.8420 - val_loss: 56035.0963\n",
      "Epoch 6/1000\n",
      "1168/1168 [==============================] - 0s 286us/step - loss: 51477.9651 - val_loss: 53946.4427\n",
      "Epoch 7/1000\n",
      "1168/1168 [==============================] - 0s 388us/step - loss: 48323.4757 - val_loss: 51521.1758\n",
      "Epoch 8/1000\n",
      "1168/1168 [==============================] - 0s 336us/step - loss: 44573.8595 - val_loss: 50145.9044\n",
      "Epoch 9/1000\n",
      "1168/1168 [==============================] - 0s 378us/step - loss: 41964.4413 - val_loss: 48343.3793\n",
      "Epoch 10/1000\n",
      "1168/1168 [==============================] - 0s 382us/step - loss: 39875.3930 - val_loss: 46703.6858\n",
      "Epoch 11/1000\n",
      "1168/1168 [==============================] - 0s 388us/step - loss: 38480.5033 - val_loss: 45816.8028\n",
      "Epoch 12/1000\n",
      "1168/1168 [==============================] - 0s 372us/step - loss: 36875.0433 - val_loss: 46796.7499\n",
      "Epoch 13/1000\n",
      "1168/1168 [==============================] - 0s 322us/step - loss: 36646.0445 - val_loss: 46161.4769\n",
      "Epoch 14/1000\n",
      "1168/1168 [==============================] - 0s 330us/step - loss: 36804.6020 - val_loss: 45889.1594\n",
      "Epoch 15/1000\n",
      "1168/1168 [==============================] - 0s 322us/step - loss: 36336.2354 - val_loss: 45515.2960\n",
      "Epoch 16/1000\n",
      "1168/1168 [==============================] - 0s 318us/step - loss: 35825.0581 - val_loss: 45348.5353\n",
      "Epoch 17/1000\n",
      "1168/1168 [==============================] - 0s 287us/step - loss: 36222.2694 - val_loss: 45585.6774\n",
      "Epoch 18/1000\n",
      "1168/1168 [==============================] - 0s 290us/step - loss: 36214.5372 - val_loss: 45665.9535\n",
      "Epoch 19/1000\n",
      "1168/1168 [==============================] - 0s 292us/step - loss: 36139.2748 - val_loss: 45475.3011\n",
      "Epoch 20/1000\n",
      "1168/1168 [==============================] - 0s 327us/step - loss: 35866.2444 - val_loss: 45246.2090\n",
      "Epoch 21/1000\n",
      "1168/1168 [==============================] - 0s 247us/step - loss: 35928.5498 - val_loss: 45420.0928\n",
      "Epoch 22/1000\n",
      "1168/1168 [==============================] - 0s 238us/step - loss: 35579.5562 - val_loss: 45551.0014\n",
      "Epoch 23/1000\n",
      "1168/1168 [==============================] - 0s 230us/step - loss: 36007.2984 - val_loss: 45201.2077\n",
      "Epoch 24/1000\n",
      "1168/1168 [==============================] - 0s 253us/step - loss: 35820.9607 - val_loss: 45872.0886\n",
      "Epoch 25/1000\n",
      "1168/1168 [==============================] - 0s 383us/step - loss: 36113.9001 - val_loss: 44981.6604\n",
      "Epoch 26/1000\n",
      "1168/1168 [==============================] - 0s 256us/step - loss: 34891.8785 - val_loss: 45069.3735\n",
      "Epoch 27/1000\n",
      "1168/1168 [==============================] - 0s 238us/step - loss: 35891.1559 - val_loss: 45020.1701\n",
      "Epoch 28/1000\n",
      "1168/1168 [==============================] - 0s 247us/step - loss: 35023.4518 - val_loss: 45978.1904\n",
      "Epoch 29/1000\n",
      "1168/1168 [==============================] - 0s 231us/step - loss: 35063.0909 - val_loss: 45001.6299\n",
      "Epoch 30/1000\n",
      "1168/1168 [==============================] - 0s 235us/step - loss: 35246.4964 - val_loss: 45220.7926\n",
      "Epoch 31/1000\n",
      "1168/1168 [==============================] - 0s 318us/step - loss: 34908.1807 - val_loss: 45079.1663\n",
      "Epoch 32/1000\n",
      "1168/1168 [==============================] - 0s 334us/step - loss: 34987.4991 - val_loss: 44817.8441\n",
      "Epoch 33/1000\n",
      "1168/1168 [==============================] - 0s 297us/step - loss: 35060.9504 - val_loss: 45370.4145\n",
      "Epoch 34/1000\n",
      "1168/1168 [==============================] - 0s 217us/step - loss: 34972.4180 - val_loss: 44980.2091\n",
      "Epoch 35/1000\n",
      "1168/1168 [==============================] - 0s 220us/step - loss: 34499.9086 - val_loss: 44682.8425\n",
      "Epoch 36/1000\n",
      "1168/1168 [==============================] - 0s 308us/step - loss: 34912.4981 - val_loss: 44653.1555\n",
      "Epoch 37/1000\n",
      "1168/1168 [==============================] - 0s 213us/step - loss: 34636.2822 - val_loss: 45142.5405\n",
      "Epoch 38/1000\n",
      "1168/1168 [==============================] - 0s 215us/step - loss: 34656.7052 - val_loss: 44520.8656\n",
      "Epoch 39/1000\n",
      "1168/1168 [==============================] - 0s 245us/step - loss: 34590.6625 - val_loss: 44482.1479\n",
      "Epoch 40/1000\n",
      "1168/1168 [==============================] - 0s 216us/step - loss: 34937.5052 - val_loss: 44664.6982\n",
      "Epoch 41/1000\n",
      "1168/1168 [==============================] - 0s 208us/step - loss: 34283.6793 - val_loss: 44574.2562\n",
      "Epoch 42/1000\n",
      "1168/1168 [==============================] - 0s 209us/step - loss: 34939.0464 - val_loss: 44746.9261\n",
      "Epoch 43/1000\n",
      "1168/1168 [==============================] - 0s 216us/step - loss: 34521.0334 - val_loss: 44710.2913\n",
      "Epoch 44/1000\n",
      "1168/1168 [==============================] - 0s 207us/step - loss: 34324.8805 - val_loss: 45321.0081\n",
      "Epoch 45/1000\n",
      "1168/1168 [==============================] - 0s 215us/step - loss: 34303.6238 - val_loss: 45044.9439\n",
      "Epoch 46/1000\n",
      "1168/1168 [==============================] - 0s 209us/step - loss: 34204.5019 - val_loss: 44610.3931\n",
      "Epoch 47/1000\n",
      "1168/1168 [==============================] - 0s 215us/step - loss: 34533.1943 - val_loss: 44660.8659\n",
      "Epoch 48/1000\n",
      "1168/1168 [==============================] - 0s 201us/step - loss: 34267.3495 - val_loss: 44484.0405\n",
      "Epoch 49/1000\n",
      "1168/1168 [==============================] - 0s 199us/step - loss: 34172.7391 - val_loss: 45922.4241\n",
      "Epoch 50/1000\n",
      "1168/1168 [==============================] - 0s 205us/step - loss: 34508.7632 - val_loss: 44322.8182\n",
      "Epoch 51/1000\n",
      "1168/1168 [==============================] - 0s 201us/step - loss: 33802.6099 - val_loss: 45810.1373\n",
      "Epoch 52/1000\n",
      "1168/1168 [==============================] - 0s 218us/step - loss: 33951.7106 - val_loss: 44789.2992\n",
      "Epoch 53/1000\n",
      "1168/1168 [==============================] - 0s 202us/step - loss: 33975.4832 - val_loss: 46381.5843\n",
      "Epoch 54/1000\n",
      "1168/1168 [==============================] - 0s 204us/step - loss: 34010.5460 - val_loss: 44850.6269\n",
      "Epoch 55/1000\n",
      "1168/1168 [==============================] - 0s 209us/step - loss: 33701.9095 - val_loss: 44578.6958\n",
      "Epoch 56/1000\n",
      "1168/1168 [==============================] - 0s 213us/step - loss: 33498.7082 - val_loss: 44292.0280\n",
      "Epoch 57/1000\n",
      "1168/1168 [==============================] - 0s 201us/step - loss: 33642.1422 - val_loss: 44899.1837\n",
      "Epoch 58/1000\n",
      "1168/1168 [==============================] - 0s 203us/step - loss: 33754.2027 - val_loss: 44869.8131\n",
      "Epoch 59/1000\n",
      "1168/1168 [==============================] - 0s 203us/step - loss: 33156.2508 - val_loss: 44250.2551\n",
      "Epoch 60/1000\n",
      "1168/1168 [==============================] - 0s 214us/step - loss: 33002.0293 - val_loss: 44546.4601\n",
      "Epoch 61/1000\n",
      "1168/1168 [==============================] - 0s 201us/step - loss: 33201.5176 - val_loss: 44894.9480\n",
      "Epoch 62/1000\n",
      "1168/1168 [==============================] - 0s 203us/step - loss: 33332.8586 - val_loss: 44329.1301\n",
      "Epoch 63/1000\n",
      "1168/1168 [==============================] - 0s 203us/step - loss: 33593.1899 - val_loss: 44234.3538\n",
      "Epoch 64/1000\n",
      "1168/1168 [==============================] - 0s 212us/step - loss: 32707.5765 - val_loss: 44250.0359\n",
      "Epoch 65/1000\n",
      "1168/1168 [==============================] - 0s 199us/step - loss: 33129.7994 - val_loss: 45169.8346\n",
      "Epoch 66/1000\n",
      "1168/1168 [==============================] - 0s 210us/step - loss: 32787.7479 - val_loss: 44708.8266\n",
      "Epoch 67/1000\n",
      "1168/1168 [==============================] - 0s 199us/step - loss: 32437.0984 - val_loss: 44304.6329\n",
      "Epoch 68/1000\n",
      "1168/1168 [==============================] - 0s 216us/step - loss: 32911.6618 - val_loss: 45304.7915\n",
      "Epoch 69/1000\n",
      "1168/1168 [==============================] - 0s 202us/step - loss: 33276.8198 - val_loss: 44686.0907\n",
      "Epoch 70/1000\n",
      "1168/1168 [==============================] - 0s 205us/step - loss: 33014.1429 - val_loss: 44531.0055\n",
      "Epoch 71/1000\n",
      "1168/1168 [==============================] - 0s 210us/step - loss: 32782.5246 - val_loss: 45217.9828\n"
     ]
    },
    {
     "name": "stdout",
     "output_type": "stream",
     "text": [
      "Epoch 72/1000\n",
      "1168/1168 [==============================] - 0s 214us/step - loss: 32603.0992 - val_loss: 44753.5025\n",
      "Epoch 73/1000\n",
      "1168/1168 [==============================] - 0s 207us/step - loss: 32536.8207 - val_loss: 44890.7966\n",
      "Epoch 74/1000\n",
      "1168/1168 [==============================] - 0s 205us/step - loss: 32525.7454 - val_loss: 44322.7204\n",
      "Epoch 75/1000\n",
      "1168/1168 [==============================] - 0s 206us/step - loss: 32384.8500 - val_loss: 46676.0254\n",
      "Epoch 76/1000\n",
      "1168/1168 [==============================] - 0s 215us/step - loss: 32734.7461 - val_loss: 44496.3141\n",
      "Epoch 77/1000\n",
      "1168/1168 [==============================] - 0s 202us/step - loss: 32348.0674 - val_loss: 44516.2051\n",
      "Epoch 78/1000\n",
      "1168/1168 [==============================] - 0s 200us/step - loss: 32117.9408 - val_loss: 44357.9524\n",
      "Epoch 79/1000\n",
      "1168/1168 [==============================] - 0s 205us/step - loss: 32191.8551 - val_loss: 44394.5109\n",
      "Epoch 80/1000\n",
      "1168/1168 [==============================] - 0s 214us/step - loss: 32398.0796 - val_loss: 44581.4933\n",
      "Epoch 81/1000\n",
      "1168/1168 [==============================] - 0s 199us/step - loss: 32218.7035 - val_loss: 44526.6790\n",
      "Epoch 82/1000\n",
      "1168/1168 [==============================] - 0s 209us/step - loss: 32872.5029 - val_loss: 44480.7985\n",
      "Epoch 83/1000\n",
      "1168/1168 [==============================] - 0s 201us/step - loss: 32077.5005 - val_loss: 46481.9406\n",
      "Epoch 84/1000\n",
      "1168/1168 [==============================] - 0s 200us/step - loss: 32053.1192 - val_loss: 46164.2716\n",
      "Epoch 85/1000\n",
      "1168/1168 [==============================] - 0s 212us/step - loss: 32107.3738 - val_loss: 44589.8765\n",
      "Epoch 86/1000\n",
      "1168/1168 [==============================] - 0s 199us/step - loss: 31872.2861 - val_loss: 45001.1576\n",
      "Epoch 87/1000\n",
      "1168/1168 [==============================] - 0s 205us/step - loss: 31858.5568 - val_loss: 44745.0644\n",
      "Epoch 88/1000\n",
      "1168/1168 [==============================] - 0s 199us/step - loss: 31549.2914 - val_loss: 44903.1508\n",
      "Epoch 89/1000\n",
      "1168/1168 [==============================] - 0s 214us/step - loss: 31658.0370 - val_loss: 44656.5509\n",
      "Epoch 90/1000\n",
      "1168/1168 [==============================] - 0s 201us/step - loss: 32019.9443 - val_loss: 44361.3485\n",
      "Epoch 91/1000\n",
      "1168/1168 [==============================] - 0s 222us/step - loss: 31573.8803 - val_loss: 44417.4583\n",
      "Epoch 92/1000\n",
      "1168/1168 [==============================] - 0s 226us/step - loss: 31979.4479 - val_loss: 44375.6553\n",
      "Epoch 93/1000\n",
      "1168/1168 [==============================] - 0s 227us/step - loss: 31838.7767 - val_loss: 45036.7960\n",
      "Epoch 94/1000\n",
      "1168/1168 [==============================] - 0s 199us/step - loss: 31912.7649 - val_loss: 44405.2726\n",
      "Epoch 95/1000\n",
      "1168/1168 [==============================] - 0s 228us/step - loss: 31913.2994 - val_loss: 44259.0588\n",
      "Epoch 96/1000\n",
      "1168/1168 [==============================] - 0s 221us/step - loss: 31583.3902 - val_loss: 47153.5219\n",
      "Epoch 97/1000\n",
      "1168/1168 [==============================] - 0s 213us/step - loss: 31838.8819 - val_loss: 44324.5627\n",
      "Epoch 98/1000\n",
      "1168/1168 [==============================] - 0s 203us/step - loss: 31366.5095 - val_loss: 44644.8325\n",
      "Epoch 99/1000\n",
      "1168/1168 [==============================] - 0s 293us/step - loss: 31408.4361 - val_loss: 45444.9754\n",
      "Epoch 100/1000\n",
      "1168/1168 [==============================] - 0s 218us/step - loss: 31953.9669 - val_loss: 44488.5303\n",
      "Epoch 101/1000\n",
      "1168/1168 [==============================] - 0s 286us/step - loss: 31620.3663 - val_loss: 44947.1017\n",
      "Epoch 102/1000\n",
      "1168/1168 [==============================] - 0s 294us/step - loss: 31517.5490 - val_loss: 44566.0709\n",
      "Epoch 103/1000\n",
      "1168/1168 [==============================] - 0s 325us/step - loss: 30865.9854 - val_loss: 44312.4049\n",
      "Epoch 104/1000\n",
      "1168/1168 [==============================] - 0s 300us/step - loss: 31501.5121 - val_loss: 45341.5582\n",
      "Epoch 105/1000\n",
      "1168/1168 [==============================] - 0s 324us/step - loss: 31451.4697 - val_loss: 44255.4717\n",
      "Epoch 106/1000\n",
      "1168/1168 [==============================] - 0s 314us/step - loss: 31267.8002 - val_loss: 44666.2480\n",
      "Epoch 107/1000\n",
      "1168/1168 [==============================] - 0s 340us/step - loss: 31836.6619 - val_loss: 46689.8146\n",
      "Epoch 108/1000\n",
      "1168/1168 [==============================] - 0s 314us/step - loss: 31289.4653 - val_loss: 44845.0116\n",
      "Epoch 109/1000\n",
      "1168/1168 [==============================] - 0s 328us/step - loss: 31574.9283 - val_loss: 44647.1112\n",
      "Epoch 110/1000\n",
      "1168/1168 [==============================] - 0s 324us/step - loss: 31337.1729 - val_loss: 44198.2488\n",
      "Epoch 111/1000\n",
      "1168/1168 [==============================] - 0s 335us/step - loss: 31302.6509 - val_loss: 44997.2109\n",
      "Epoch 112/1000\n",
      "1168/1168 [==============================] - 0s 328us/step - loss: 31325.9764 - val_loss: 44948.0626\n",
      "Epoch 113/1000\n",
      "1168/1168 [==============================] - 0s 314us/step - loss: 31025.1453 - val_loss: 44880.1442\n",
      "Epoch 114/1000\n",
      "1168/1168 [==============================] - 0s 338us/step - loss: 30719.3876 - val_loss: 44359.6847\n",
      "Epoch 115/1000\n",
      "1168/1168 [==============================] - 0s 300us/step - loss: 31121.5841 - val_loss: 44350.7270\n",
      "Epoch 116/1000\n",
      "1168/1168 [==============================] - 0s 347us/step - loss: 31405.7824 - val_loss: 45145.3267\n",
      "Epoch 117/1000\n",
      "1168/1168 [==============================] - 0s 321us/step - loss: 30930.5857 - val_loss: 44199.4418\n",
      "Epoch 118/1000\n",
      "1168/1168 [==============================] - 0s 326us/step - loss: 30943.0669 - val_loss: 44843.0425\n",
      "Epoch 119/1000\n",
      "1168/1168 [==============================] - 0s 297us/step - loss: 30864.9505 - val_loss: 44014.5923\n",
      "Epoch 120/1000\n",
      "1168/1168 [==============================] - 0s 344us/step - loss: 30952.4996 - val_loss: 44378.8054\n",
      "Epoch 121/1000\n",
      "1168/1168 [==============================] - 0s 330us/step - loss: 30503.1227 - val_loss: 44357.5736\n",
      "Epoch 122/1000\n",
      "1168/1168 [==============================] - 0s 375us/step - loss: 31058.5020 - val_loss: 44100.0142\n",
      "Epoch 123/1000\n",
      "1168/1168 [==============================] - 0s 313us/step - loss: 30620.0841 - val_loss: 44078.0047\n",
      "Epoch 124/1000\n",
      "1168/1168 [==============================] - 0s 300us/step - loss: 30420.7493 - val_loss: 45905.5985\n",
      "Epoch 125/1000\n",
      "1168/1168 [==============================] - 0s 231us/step - loss: 31195.5586 - val_loss: 44251.8690\n",
      "Epoch 126/1000\n",
      "1168/1168 [==============================] - 0s 213us/step - loss: 30879.3330 - val_loss: 44356.4639\n",
      "Epoch 127/1000\n",
      "1168/1168 [==============================] - 0s 213us/step - loss: 30903.3421 - val_loss: 44408.9325\n",
      "Epoch 128/1000\n",
      "1168/1168 [==============================] - 0s 297us/step - loss: 30596.8995 - val_loss: 44371.3799\n",
      "Epoch 129/1000\n",
      "1168/1168 [==============================] - 0s 322us/step - loss: 30772.3060 - val_loss: 46257.6191\n",
      "Epoch 130/1000\n",
      "1168/1168 [==============================] - 0s 352us/step - loss: 30522.5061 - val_loss: 45040.3503\n",
      "Epoch 131/1000\n",
      "1168/1168 [==============================] - 0s 228us/step - loss: 30850.9068 - val_loss: 44385.5248\n",
      "Epoch 132/1000\n",
      "1168/1168 [==============================] - 0s 217us/step - loss: 30812.4224 - val_loss: 44097.7349\n",
      "Epoch 133/1000\n",
      "1168/1168 [==============================] - 0s 241us/step - loss: 30476.6627 - val_loss: 46198.1474\n",
      "Epoch 134/1000\n",
      "1168/1168 [==============================] - 0s 346us/step - loss: 30256.6684 - val_loss: 46176.7348\n",
      "Epoch 135/1000\n",
      "1168/1168 [==============================] - 0s 254us/step - loss: 30297.1669 - val_loss: 44284.1286\n",
      "Epoch 136/1000\n",
      "1168/1168 [==============================] - 0s 209us/step - loss: 30240.4344 - val_loss: 44919.6613\n",
      "Epoch 137/1000\n",
      "1168/1168 [==============================] - 0s 224us/step - loss: 30645.8451 - val_loss: 44549.4835\n",
      "Epoch 138/1000\n",
      "1168/1168 [==============================] - 0s 201us/step - loss: 30018.0332 - val_loss: 44017.0771\n",
      "Epoch 139/1000\n",
      "1168/1168 [==============================] - 0s 201us/step - loss: 30157.4302 - val_loss: 44198.9593\n",
      "Epoch 140/1000\n",
      "1168/1168 [==============================] - 0s 208us/step - loss: 30405.6307 - val_loss: 43918.1084\n",
      "Epoch 141/1000\n",
      "1168/1168 [==============================] - 0s 216us/step - loss: 29939.9078 - val_loss: 43902.4879\n",
      "Epoch 142/1000\n",
      "1168/1168 [==============================] - 0s 202us/step - loss: 30404.6924 - val_loss: 43760.2095\n"
     ]
    },
    {
     "name": "stdout",
     "output_type": "stream",
     "text": [
      "Epoch 143/1000\n",
      "1168/1168 [==============================] - 0s 205us/step - loss: 30034.3267 - val_loss: 43902.9478\n",
      "Epoch 144/1000\n",
      "1168/1168 [==============================] - 0s 220us/step - loss: 29885.1287 - val_loss: 43690.5451\n",
      "Epoch 145/1000\n",
      "1168/1168 [==============================] - 0s 293us/step - loss: 30006.0743 - val_loss: 44589.0108\n",
      "Epoch 146/1000\n",
      "1168/1168 [==============================] - 0s 211us/step - loss: 29958.2974 - val_loss: 43814.9618\n",
      "Epoch 147/1000\n",
      "1168/1168 [==============================] - 0s 211us/step - loss: 29977.6074 - val_loss: 45420.4501\n",
      "Epoch 148/1000\n",
      "1168/1168 [==============================] - 0s 206us/step - loss: 30137.5242 - val_loss: 43869.8156\n",
      "Epoch 149/1000\n",
      "1168/1168 [==============================] - 0s 226us/step - loss: 29833.6368 - val_loss: 44422.8381\n",
      "Epoch 150/1000\n",
      "1168/1168 [==============================] - 0s 217us/step - loss: 30035.1503 - val_loss: 43612.9769\n",
      "Epoch 151/1000\n",
      "1168/1168 [==============================] - 0s 223us/step - loss: 29898.3413 - val_loss: 43862.3030\n",
      "Epoch 152/1000\n",
      "1168/1168 [==============================] - 0s 219us/step - loss: 29705.6052 - val_loss: 43744.7678\n",
      "Epoch 153/1000\n",
      "1168/1168 [==============================] - 0s 231us/step - loss: 30020.7289 - val_loss: 43991.9797\n",
      "Epoch 154/1000\n",
      "1168/1168 [==============================] - 0s 210us/step - loss: 29528.5861 - val_loss: 43657.0247\n",
      "Epoch 155/1000\n",
      "1168/1168 [==============================] - 0s 215us/step - loss: 29465.3912 - val_loss: 43853.7943\n",
      "Epoch 156/1000\n",
      "1168/1168 [==============================] - 0s 207us/step - loss: 29314.0739 - val_loss: 45463.4257\n",
      "Epoch 157/1000\n",
      "1168/1168 [==============================] - 0s 212us/step - loss: 29294.5327 - val_loss: 43736.6159\n",
      "Epoch 158/1000\n",
      "1168/1168 [==============================] - 0s 205us/step - loss: 29887.7599 - val_loss: 44411.7317\n",
      "Epoch 159/1000\n",
      "1168/1168 [==============================] - 0s 206us/step - loss: 29795.6547 - val_loss: 44090.9839\n",
      "Epoch 160/1000\n",
      "1168/1168 [==============================] - 0s 328us/step - loss: 29654.6308 - val_loss: 44312.9962\n",
      "Epoch 161/1000\n",
      "1168/1168 [==============================] - 0s 283us/step - loss: 30079.3393 - val_loss: 44412.0321\n",
      "Epoch 162/1000\n",
      "1168/1168 [==============================] - 0s 234us/step - loss: 29131.5327 - val_loss: 43539.9207\n",
      "Epoch 163/1000\n",
      "1168/1168 [==============================] - 0s 262us/step - loss: 29315.4389 - val_loss: 43533.6388\n",
      "Epoch 164/1000\n",
      "1168/1168 [==============================] - 0s 206us/step - loss: 29303.7595 - val_loss: 43851.3808\n",
      "Epoch 165/1000\n",
      "1168/1168 [==============================] - 0s 209us/step - loss: 29616.6151 - val_loss: 44320.5514\n",
      "Epoch 166/1000\n",
      "1168/1168 [==============================] - 0s 207us/step - loss: 29420.6678 - val_loss: 44361.1986\n",
      "Epoch 167/1000\n",
      "1168/1168 [==============================] - 0s 288us/step - loss: 29043.1344 - val_loss: 43688.3033\n",
      "Epoch 168/1000\n",
      "1168/1168 [==============================] - 0s 205us/step - loss: 29553.6998 - val_loss: 43563.0020\n",
      "Epoch 169/1000\n",
      "1168/1168 [==============================] - 0s 209us/step - loss: 29361.7706 - val_loss: 44140.9407\n",
      "Epoch 170/1000\n",
      "1168/1168 [==============================] - 0s 207us/step - loss: 29476.9715 - val_loss: 43499.0073\n",
      "Epoch 171/1000\n",
      "1168/1168 [==============================] - 0s 219us/step - loss: 29268.2078 - val_loss: 44059.2050\n",
      "Epoch 172/1000\n",
      "1168/1168 [==============================] - 0s 208us/step - loss: 29605.2807 - val_loss: 43359.8459\n",
      "Epoch 173/1000\n",
      "1168/1168 [==============================] - 0s 200us/step - loss: 29284.0757 - val_loss: 46778.6318\n",
      "Epoch 174/1000\n",
      "1168/1168 [==============================] - 0s 204us/step - loss: 29445.7430 - val_loss: 43486.2915\n",
      "Epoch 175/1000\n",
      "1168/1168 [==============================] - 0s 215us/step - loss: 28958.0896 - val_loss: 43769.4357\n",
      "Epoch 176/1000\n",
      "1168/1168 [==============================] - 0s 201us/step - loss: 28936.6060 - val_loss: 43674.8656\n",
      "Epoch 177/1000\n",
      "1168/1168 [==============================] - 0s 202us/step - loss: 28889.9761 - val_loss: 43464.9063\n",
      "Epoch 178/1000\n",
      "1168/1168 [==============================] - 0s 211us/step - loss: 28930.7237 - val_loss: 45856.1971\n",
      "Epoch 179/1000\n",
      "1168/1168 [==============================] - 0s 215us/step - loss: 29376.2835 - val_loss: 43315.3368\n",
      "Epoch 180/1000\n",
      "1168/1168 [==============================] - 0s 199us/step - loss: 29250.2844 - val_loss: 43556.0560\n",
      "Epoch 181/1000\n",
      "1168/1168 [==============================] - 0s 206us/step - loss: 28887.8999 - val_loss: 44229.0702\n",
      "Epoch 182/1000\n",
      "1168/1168 [==============================] - 0s 204us/step - loss: 28630.2255 - val_loss: 43418.8808\n",
      "Epoch 183/1000\n",
      "1168/1168 [==============================] - 0s 206us/step - loss: 28897.9046 - val_loss: 43103.9944\n",
      "Epoch 184/1000\n",
      "1168/1168 [==============================] - 0s 214us/step - loss: 28535.9909 - val_loss: 43321.1325\n",
      "Epoch 185/1000\n",
      "1168/1168 [==============================] - 0s 205us/step - loss: 28877.8289 - val_loss: 43330.8654\n",
      "Epoch 186/1000\n",
      "1168/1168 [==============================] - 0s 205us/step - loss: 28829.6029 - val_loss: 43020.8882\n",
      "Epoch 187/1000\n",
      "1168/1168 [==============================] - 0s 207us/step - loss: 28569.7902 - val_loss: 43336.1094\n",
      "Epoch 188/1000\n",
      "1168/1168 [==============================] - 0s 215us/step - loss: 28307.8541 - val_loss: 43328.0847\n",
      "Epoch 189/1000\n",
      "1168/1168 [==============================] - 0s 197us/step - loss: 29585.5318 - val_loss: 43267.9603\n",
      "Epoch 190/1000\n",
      "1168/1168 [==============================] - 0s 209us/step - loss: 28944.8729 - val_loss: 44284.2461\n",
      "Epoch 191/1000\n",
      "1168/1168 [==============================] - 0s 203us/step - loss: 28866.3889 - val_loss: 42939.1458\n",
      "Epoch 192/1000\n",
      "1168/1168 [==============================] - 0s 213us/step - loss: 28867.5536 - val_loss: 43283.7857\n",
      "Epoch 193/1000\n",
      "1168/1168 [==============================] - 0s 200us/step - loss: 28471.9889 - val_loss: 43449.9764\n",
      "Epoch 194/1000\n",
      "1168/1168 [==============================] - 0s 207us/step - loss: 28170.0042 - val_loss: 46110.1348\n",
      "Epoch 195/1000\n",
      "1168/1168 [==============================] - 0s 203us/step - loss: 28670.5506 - val_loss: 44046.9163\n",
      "Epoch 196/1000\n",
      "1168/1168 [==============================] - 0s 212us/step - loss: 28453.3054 - val_loss: 44435.8003\n",
      "Epoch 197/1000\n",
      "1168/1168 [==============================] - 0s 206us/step - loss: 28457.5057 - val_loss: 43103.2525\n",
      "Epoch 198/1000\n",
      "1168/1168 [==============================] - 0s 211us/step - loss: 28246.8413 - val_loss: 43523.9483\n",
      "Epoch 199/1000\n",
      "1168/1168 [==============================] - 0s 206us/step - loss: 28484.8148 - val_loss: 43701.1704\n",
      "Epoch 200/1000\n",
      "1168/1168 [==============================] - 0s 217us/step - loss: 28076.2826 - val_loss: 42764.6050\n",
      "Epoch 201/1000\n",
      "1168/1168 [==============================] - 0s 205us/step - loss: 27819.9362 - val_loss: 43561.1492\n",
      "Epoch 202/1000\n",
      "1168/1168 [==============================] - 0s 207us/step - loss: 28629.2465 - val_loss: 43077.5361\n",
      "Epoch 203/1000\n",
      "1168/1168 [==============================] - 0s 208us/step - loss: 28278.7182 - val_loss: 42778.8842\n",
      "Epoch 204/1000\n",
      "1168/1168 [==============================] - 0s 221us/step - loss: 27504.9722 - val_loss: 43016.8791\n",
      "Epoch 205/1000\n",
      "1168/1168 [==============================] - 0s 200us/step - loss: 28289.8737 - val_loss: 43690.7514\n",
      "Epoch 206/1000\n",
      "1168/1168 [==============================] - 0s 206us/step - loss: 27813.5449 - val_loss: 42782.1331\n",
      "Epoch 207/1000\n",
      "1168/1168 [==============================] - 0s 208us/step - loss: 27999.4140 - val_loss: 43424.8163\n",
      "Epoch 208/1000\n",
      "1168/1168 [==============================] - 0s 217us/step - loss: 27829.1358 - val_loss: 43151.9228\n",
      "Epoch 209/1000\n",
      "1168/1168 [==============================] - 0s 202us/step - loss: 28025.0751 - val_loss: 43090.6058\n",
      "Epoch 210/1000\n",
      "1168/1168 [==============================] - 0s 207us/step - loss: 27490.5797 - val_loss: 45409.0579\n",
      "Epoch 211/1000\n",
      "1168/1168 [==============================] - 0s 206us/step - loss: 28011.8568 - val_loss: 42665.6647\n",
      "Epoch 212/1000\n",
      "1168/1168 [==============================] - 0s 217us/step - loss: 27868.7974 - val_loss: 43172.1350\n",
      "Epoch 213/1000\n"
     ]
    },
    {
     "name": "stdout",
     "output_type": "stream",
     "text": [
      "1168/1168 [==============================] - 0s 201us/step - loss: 28041.3664 - val_loss: 42840.3024\n",
      "Epoch 214/1000\n",
      "1168/1168 [==============================] - 0s 205us/step - loss: 27317.7455 - val_loss: 42420.2117\n",
      "Epoch 215/1000\n",
      "1168/1168 [==============================] - 0s 210us/step - loss: 27222.9856 - val_loss: 42980.9162\n",
      "Epoch 216/1000\n",
      "1168/1168 [==============================] - 0s 226us/step - loss: 27598.0218 - val_loss: 44053.2006\n",
      "Epoch 217/1000\n",
      "1168/1168 [==============================] - 0s 202us/step - loss: 27373.6868 - val_loss: 43328.0510\n",
      "Epoch 218/1000\n",
      "1168/1168 [==============================] - 0s 205us/step - loss: 27318.1320 - val_loss: 42711.1997\n",
      "Epoch 219/1000\n",
      "1168/1168 [==============================] - 0s 206us/step - loss: 27771.9164 - val_loss: 44032.5569\n",
      "Epoch 220/1000\n",
      "1168/1168 [==============================] - 0s 217us/step - loss: 27359.0745 - val_loss: 42510.4215\n",
      "Epoch 221/1000\n",
      "1168/1168 [==============================] - 0s 205us/step - loss: 27353.3041 - val_loss: 42599.6441\n",
      "Epoch 222/1000\n",
      "1168/1168 [==============================] - 0s 206us/step - loss: 26981.8520 - val_loss: 42271.9950\n",
      "Epoch 223/1000\n",
      "1168/1168 [==============================] - 0s 208us/step - loss: 26975.5984 - val_loss: 42497.7991\n",
      "Epoch 224/1000\n",
      "1168/1168 [==============================] - 0s 217us/step - loss: 26933.0381 - val_loss: 42387.6680\n",
      "Epoch 225/1000\n",
      "1168/1168 [==============================] - 0s 213us/step - loss: 27050.0903 - val_loss: 42209.1656\n",
      "Epoch 226/1000\n",
      "1168/1168 [==============================] - 0s 205us/step - loss: 26987.2809 - val_loss: 42380.0583\n",
      "Epoch 227/1000\n",
      "1168/1168 [==============================] - 0s 212us/step - loss: 27086.8360 - val_loss: 43207.9889\n",
      "Epoch 228/1000\n",
      "1168/1168 [==============================] - 0s 215us/step - loss: 27229.6570 - val_loss: 42277.0812\n",
      "Epoch 229/1000\n",
      "1168/1168 [==============================] - 0s 206us/step - loss: 26819.2451 - val_loss: 44771.7759\n",
      "Epoch 230/1000\n",
      "1168/1168 [==============================] - 0s 214us/step - loss: 27106.4158 - val_loss: 42064.3024\n",
      "Epoch 231/1000\n",
      "1168/1168 [==============================] - 0s 240us/step - loss: 26770.9220 - val_loss: 42007.7583\n",
      "Epoch 232/1000\n",
      "1168/1168 [==============================] - 0s 222us/step - loss: 27333.9595 - val_loss: 43877.8052\n",
      "Epoch 233/1000\n",
      "1168/1168 [==============================] - 0s 204us/step - loss: 26946.5270 - val_loss: 42637.4742\n",
      "Epoch 234/1000\n",
      "1168/1168 [==============================] - 0s 228us/step - loss: 26601.8906 - val_loss: 42296.1453\n",
      "Epoch 235/1000\n",
      "1168/1168 [==============================] - 0s 205us/step - loss: 26843.3170 - val_loss: 41949.7925\n",
      "Epoch 236/1000\n",
      "1168/1168 [==============================] - 0s 217us/step - loss: 26691.2931 - val_loss: 41821.4219\n",
      "Epoch 237/1000\n",
      "1168/1168 [==============================] - 0s 200us/step - loss: 26537.1959 - val_loss: 42112.4732\n",
      "Epoch 238/1000\n",
      "1168/1168 [==============================] - 0s 204us/step - loss: 26421.9305 - val_loss: 41391.1365\n",
      "Epoch 239/1000\n",
      "1168/1168 [==============================] - 0s 207us/step - loss: 26312.6348 - val_loss: 42670.8275\n",
      "Epoch 240/1000\n",
      "1168/1168 [==============================] - 0s 214us/step - loss: 26714.8646 - val_loss: 42050.0702\n",
      "Epoch 241/1000\n",
      "1168/1168 [==============================] - 0s 201us/step - loss: 26189.5382 - val_loss: 42250.4758\n",
      "Epoch 242/1000\n",
      "1168/1168 [==============================] - 0s 201us/step - loss: 25982.6095 - val_loss: 42045.1448\n",
      "Epoch 243/1000\n",
      "1168/1168 [==============================] - 0s 206us/step - loss: 26266.5942 - val_loss: 41525.3955\n",
      "Epoch 244/1000\n",
      "1168/1168 [==============================] - 0s 211us/step - loss: 26618.6895 - val_loss: 42459.8575\n",
      "Epoch 245/1000\n",
      "1168/1168 [==============================] - 0s 200us/step - loss: 26642.9724 - val_loss: 41576.0691\n",
      "Epoch 246/1000\n",
      "1168/1168 [==============================] - 0s 205us/step - loss: 25853.2744 - val_loss: 41660.4667\n",
      "Epoch 247/1000\n",
      "1168/1168 [==============================] - 0s 210us/step - loss: 26406.2134 - val_loss: 41583.4761\n",
      "Epoch 248/1000\n",
      "1168/1168 [==============================] - 0s 203us/step - loss: 26054.7450 - val_loss: 41549.1737\n",
      "Epoch 249/1000\n",
      "1168/1168 [==============================] - 0s 222us/step - loss: 26538.8929 - val_loss: 41248.9233\n",
      "Epoch 250/1000\n",
      "1168/1168 [==============================] - 0s 330us/step - loss: 26362.9559 - val_loss: 41630.8806\n",
      "Epoch 251/1000\n",
      "1168/1168 [==============================] - 0s 259us/step - loss: 25801.4006 - val_loss: 41581.6933\n",
      "Epoch 252/1000\n",
      "1168/1168 [==============================] - 0s 332us/step - loss: 26065.6425 - val_loss: 41198.1131\n",
      "Epoch 253/1000\n",
      "1168/1168 [==============================] - 0s 217us/step - loss: 25589.8704 - val_loss: 41254.3181\n",
      "Epoch 254/1000\n",
      "1168/1168 [==============================] - 0s 272us/step - loss: 25519.6200 - val_loss: 41335.8243\n",
      "Epoch 255/1000\n",
      "1168/1168 [==============================] - 0s 218us/step - loss: 26009.0787 - val_loss: 41309.1996\n",
      "Epoch 256/1000\n",
      "1168/1168 [==============================] - 0s 203us/step - loss: 25808.4264 - val_loss: 40887.8503\n",
      "Epoch 257/1000\n",
      "1168/1168 [==============================] - 0s 296us/step - loss: 25459.8865 - val_loss: 41707.0637\n",
      "Epoch 258/1000\n",
      "1168/1168 [==============================] - 0s 258us/step - loss: 25524.1965 - val_loss: 40991.2518\n",
      "Epoch 259/1000\n",
      "1168/1168 [==============================] - 0s 249us/step - loss: 25158.7001 - val_loss: 41844.9360\n",
      "Epoch 260/1000\n",
      "1168/1168 [==============================] - 0s 209us/step - loss: 25425.0188 - val_loss: 41587.3094\n",
      "Epoch 261/1000\n",
      "1168/1168 [==============================] - 0s 211us/step - loss: 25353.9611 - val_loss: 40987.1912\n",
      "Epoch 262/1000\n",
      "1168/1168 [==============================] - 0s 223us/step - loss: 25668.9060 - val_loss: 40932.1367\n",
      "Epoch 263/1000\n",
      "1168/1168 [==============================] - 0s 205us/step - loss: 25340.4505 - val_loss: 42132.8232\n",
      "Epoch 264/1000\n",
      "1168/1168 [==============================] - 0s 205us/step - loss: 25320.5684 - val_loss: 41532.0399\n",
      "Epoch 265/1000\n",
      "1168/1168 [==============================] - 0s 207us/step - loss: 25454.6627 - val_loss: 41151.9993\n",
      "Epoch 266/1000\n",
      "1168/1168 [==============================] - 0s 217us/step - loss: 25290.2823 - val_loss: 40933.9299\n",
      "Epoch 267/1000\n",
      "1168/1168 [==============================] - 0s 209us/step - loss: 25469.4394 - val_loss: 41481.4679\n",
      "Epoch 268/1000\n",
      "1168/1168 [==============================] - 0s 236us/step - loss: 24911.7165 - val_loss: 40829.1378\n",
      "Epoch 269/1000\n",
      "1168/1168 [==============================] - 0s 273us/step - loss: 24986.6284 - val_loss: 40631.3416\n",
      "Epoch 270/1000\n",
      "1168/1168 [==============================] - 0s 216us/step - loss: 25298.3363 - val_loss: 40906.6369\n",
      "Epoch 271/1000\n",
      "1168/1168 [==============================] - 0s 240us/step - loss: 25486.3378 - val_loss: 40696.3718\n",
      "Epoch 272/1000\n",
      "1168/1168 [==============================] - 0s 270us/step - loss: 25038.5176 - val_loss: 41530.4653\n",
      "Epoch 273/1000\n",
      "1168/1168 [==============================] - 0s 220us/step - loss: 25292.6782 - val_loss: 40587.8913\n",
      "Epoch 274/1000\n",
      "1168/1168 [==============================] - 0s 218us/step - loss: 24936.3342 - val_loss: 40520.2834\n",
      "Epoch 275/1000\n",
      "1168/1168 [==============================] - 0s 282us/step - loss: 24802.0562 - val_loss: 41105.6126\n",
      "Epoch 276/1000\n",
      "1168/1168 [==============================] - 0s 205us/step - loss: 25012.2826 - val_loss: 41520.1973\n",
      "Epoch 277/1000\n",
      "1168/1168 [==============================] - 0s 217us/step - loss: 24719.3549 - val_loss: 42605.8713\n",
      "Epoch 278/1000\n",
      "1168/1168 [==============================] - 0s 206us/step - loss: 25206.9968 - val_loss: 40967.9801\n",
      "Epoch 279/1000\n",
      "1168/1168 [==============================] - 0s 211us/step - loss: 24556.2562 - val_loss: 40316.1227\n",
      "Epoch 280/1000\n",
      "1168/1168 [==============================] - 0s 219us/step - loss: 25281.0080 - val_loss: 40541.7507\n",
      "Epoch 281/1000\n",
      "1168/1168 [==============================] - 0s 246us/step - loss: 25016.1698 - val_loss: 40267.5011\n",
      "Epoch 282/1000\n",
      "1168/1168 [==============================] - 0s 233us/step - loss: 24998.0947 - val_loss: 41011.4241\n",
      "Epoch 283/1000\n",
      "1168/1168 [==============================] - 0s 220us/step - loss: 24686.3803 - val_loss: 40050.3235\n"
     ]
    },
    {
     "name": "stdout",
     "output_type": "stream",
     "text": [
      "Epoch 284/1000\n",
      "1168/1168 [==============================] - 0s 212us/step - loss: 24043.7890 - val_loss: 40528.8104\n",
      "Epoch 285/1000\n",
      "1168/1168 [==============================] - 0s 214us/step - loss: 24657.3542 - val_loss: 42024.3667\n",
      "Epoch 286/1000\n",
      "1168/1168 [==============================] - 0s 216us/step - loss: 24554.0881 - val_loss: 41632.2561\n",
      "Epoch 287/1000\n",
      "1168/1168 [==============================] - 0s 225us/step - loss: 24391.8915 - val_loss: 40193.6286\n",
      "Epoch 288/1000\n",
      "1168/1168 [==============================] - 0s 211us/step - loss: 24579.2057 - val_loss: 40408.6732\n",
      "Epoch 289/1000\n",
      "1168/1168 [==============================] - 0s 223us/step - loss: 24066.6691 - val_loss: 41709.0473\n",
      "Epoch 290/1000\n",
      "1168/1168 [==============================] - 0s 212us/step - loss: 24534.9274 - val_loss: 39942.2796\n",
      "Epoch 291/1000\n",
      "1168/1168 [==============================] - 0s 217us/step - loss: 24731.1305 - val_loss: 40237.0244\n",
      "Epoch 292/1000\n",
      "1168/1168 [==============================] - 0s 233us/step - loss: 24592.3594 - val_loss: 41833.5510\n",
      "Epoch 293/1000\n",
      "1168/1168 [==============================] - 0s 208us/step - loss: 24708.1525 - val_loss: 40227.0869\n",
      "Epoch 294/1000\n",
      "1168/1168 [==============================] - 0s 206us/step - loss: 24939.6975 - val_loss: 40282.5243\n",
      "Epoch 295/1000\n",
      "1168/1168 [==============================] - 0s 208us/step - loss: 25184.0754 - val_loss: 40730.2341\n",
      "Epoch 296/1000\n",
      "1168/1168 [==============================] - 0s 199us/step - loss: 24449.5294 - val_loss: 39807.6542\n",
      "Epoch 297/1000\n",
      "1168/1168 [==============================] - 0s 215us/step - loss: 24471.5709 - val_loss: 40323.7255\n",
      "Epoch 298/1000\n",
      "1168/1168 [==============================] - 0s 201us/step - loss: 23871.0254 - val_loss: 40142.7061\n",
      "Epoch 299/1000\n",
      "1168/1168 [==============================] - 0s 210us/step - loss: 23947.8288 - val_loss: 39943.4714\n",
      "Epoch 300/1000\n",
      "1168/1168 [==============================] - 0s 204us/step - loss: 24107.2566 - val_loss: 40396.0762\n",
      "Epoch 301/1000\n",
      "1168/1168 [==============================] - 0s 222us/step - loss: 24265.7827 - val_loss: 40300.7678\n",
      "Epoch 302/1000\n",
      "1168/1168 [==============================] - 0s 203us/step - loss: 24886.4043 - val_loss: 39417.6365\n",
      "Epoch 303/1000\n",
      "1168/1168 [==============================] - 0s 207us/step - loss: 23979.7927 - val_loss: 39566.9629\n",
      "Epoch 304/1000\n",
      "1168/1168 [==============================] - 0s 208us/step - loss: 23758.3269 - val_loss: 41537.4464\n",
      "Epoch 305/1000\n",
      "1168/1168 [==============================] - 0s 217us/step - loss: 24832.1244 - val_loss: 39848.5443\n",
      "Epoch 306/1000\n",
      "1168/1168 [==============================] - 0s 206us/step - loss: 24149.4285 - val_loss: 39551.1559\n",
      "Epoch 307/1000\n",
      "1168/1168 [==============================] - 0s 211us/step - loss: 24015.2829 - val_loss: 40053.2328\n",
      "Epoch 308/1000\n",
      "1168/1168 [==============================] - 0s 206us/step - loss: 23495.0033 - val_loss: 39397.9575\n",
      "Epoch 309/1000\n",
      "1168/1168 [==============================] - 0s 219us/step - loss: 23844.0618 - val_loss: 39907.9886\n",
      "Epoch 310/1000\n",
      "1168/1168 [==============================] - 0s 206us/step - loss: 24067.7057 - val_loss: 40239.2962\n",
      "Epoch 311/1000\n",
      "1168/1168 [==============================] - 0s 209us/step - loss: 24150.0514 - val_loss: 39633.9458\n",
      "Epoch 312/1000\n",
      "1168/1168 [==============================] - 0s 210us/step - loss: 23920.3215 - val_loss: 39618.8092\n",
      "Epoch 313/1000\n",
      "1168/1168 [==============================] - 0s 220us/step - loss: 23551.1001 - val_loss: 40009.2861\n",
      "Epoch 314/1000\n",
      "1168/1168 [==============================] - 0s 200us/step - loss: 24037.0379 - val_loss: 39537.0063\n",
      "Epoch 315/1000\n",
      "1168/1168 [==============================] - 0s 211us/step - loss: 23575.7556 - val_loss: 41879.2337\n",
      "Epoch 316/1000\n",
      "1168/1168 [==============================] - ETA: 0s - loss: 24086.607 - 0s 202us/step - loss: 23877.1824 - val_loss: 40821.4147\n",
      "Epoch 317/1000\n",
      "1168/1168 [==============================] - 0s 217us/step - loss: 24277.9430 - val_loss: 39718.6865\n",
      "Epoch 318/1000\n",
      "1168/1168 [==============================] - 0s 205us/step - loss: 23128.5898 - val_loss: 40486.8595\n",
      "Epoch 319/1000\n",
      "1168/1168 [==============================] - 0s 207us/step - loss: 23589.6568 - val_loss: 39914.3185\n",
      "Epoch 320/1000\n",
      "1168/1168 [==============================] - 0s 207us/step - loss: 24471.4317 - val_loss: 40070.0858\n",
      "Epoch 321/1000\n",
      "1168/1168 [==============================] - 0s 217us/step - loss: 23665.4816 - val_loss: 39226.9595\n",
      "Epoch 322/1000\n",
      "1168/1168 [==============================] - 0s 200us/step - loss: 23784.8716 - val_loss: 39868.5317\n",
      "Epoch 323/1000\n",
      "1168/1168 [==============================] - 0s 208us/step - loss: 23514.6967 - val_loss: 40067.9951\n",
      "Epoch 324/1000\n",
      "1168/1168 [==============================] - 0s 206us/step - loss: 23415.7100 - val_loss: 40188.9577\n",
      "Epoch 325/1000\n",
      "1168/1168 [==============================] - 0s 214us/step - loss: 23542.9813 - val_loss: 41225.7962\n",
      "Epoch 326/1000\n",
      "1168/1168 [==============================] - ETA: 0s - loss: 23675.525 - 0s 202us/step - loss: 23456.8463 - val_loss: 41835.6854\n",
      "Epoch 327/1000\n",
      "1168/1168 [==============================] - 0s 206us/step - loss: 23709.2724 - val_loss: 40201.2042\n",
      "Epoch 328/1000\n",
      "1168/1168 [==============================] - 0s 206us/step - loss: 23145.3387 - val_loss: 39540.6790\n",
      "Epoch 329/1000\n",
      "1168/1168 [==============================] - 0s 216us/step - loss: 23394.0391 - val_loss: 39793.3518\n",
      "Epoch 330/1000\n",
      "1168/1168 [==============================] - 0s 202us/step - loss: 23559.0298 - val_loss: 40107.6874\n",
      "Epoch 331/1000\n",
      "1168/1168 [==============================] - 0s 203us/step - loss: 23368.8577 - val_loss: 39865.0146\n",
      "Epoch 332/1000\n",
      "1168/1168 [==============================] - 0s 211us/step - loss: 23023.0152 - val_loss: 39955.5161\n",
      "Epoch 333/1000\n",
      "1168/1168 [==============================] - 0s 218us/step - loss: 23357.0512 - val_loss: 39236.2310\n",
      "Epoch 334/1000\n",
      "1168/1168 [==============================] - 0s 203us/step - loss: 24305.9319 - val_loss: 42459.7977\n",
      "Epoch 335/1000\n",
      "1168/1168 [==============================] - 0s 214us/step - loss: 23458.8539 - val_loss: 40057.7111\n",
      "Epoch 336/1000\n",
      "1168/1168 [==============================] - 0s 283us/step - loss: 23023.1792 - val_loss: 39380.3790\n",
      "Epoch 337/1000\n",
      "1168/1168 [==============================] - 0s 246us/step - loss: 23213.4893 - val_loss: 39597.5246\n",
      "Epoch 338/1000\n",
      "1168/1168 [==============================] - 0s 241us/step - loss: 22974.8121 - val_loss: 40765.1794\n",
      "Epoch 339/1000\n",
      "1168/1168 [==============================] - 0s 224us/step - loss: 23332.4062 - val_loss: 42714.6391\n",
      "Epoch 340/1000\n",
      "1168/1168 [==============================] - 0s 252us/step - loss: 23567.8394 - val_loss: 38737.7738\n",
      "Epoch 341/1000\n",
      "1168/1168 [==============================] - 0s 341us/step - loss: 23288.3580 - val_loss: 39719.7645\n",
      "Epoch 342/1000\n",
      "1168/1168 [==============================] - 0s 228us/step - loss: 23198.4744 - val_loss: 39019.2367\n",
      "Epoch 343/1000\n",
      "1168/1168 [==============================] - 0s 205us/step - loss: 22640.6661 - val_loss: 39393.0661\n",
      "Epoch 344/1000\n",
      "1168/1168 [==============================] - 0s 217us/step - loss: 23521.1375 - val_loss: 40653.6632\n",
      "Epoch 345/1000\n",
      "1168/1168 [==============================] - 0s 204us/step - loss: 23740.3622 - val_loss: 39293.7383\n",
      "Epoch 346/1000\n",
      "1168/1168 [==============================] - 0s 256us/step - loss: 22758.3640 - val_loss: 40206.6473\n",
      "Epoch 347/1000\n",
      "1168/1168 [==============================] - 0s 229us/step - loss: 23854.6159 - val_loss: 39054.8322\n",
      "Epoch 348/1000\n",
      "1168/1168 [==============================] - 0s 230us/step - loss: 23298.2564 - val_loss: 39314.1490\n",
      "Epoch 349/1000\n",
      "1168/1168 [==============================] - 0s 214us/step - loss: 22943.0625 - val_loss: 39846.9322\n",
      "Epoch 350/1000\n",
      "1168/1168 [==============================] - 0s 214us/step - loss: 22640.4848 - val_loss: 39720.4466\n",
      "Epoch 351/1000\n",
      "1168/1168 [==============================] - 0s 219us/step - loss: 23436.3116 - val_loss: 38916.6259\n",
      "Epoch 352/1000\n",
      "1168/1168 [==============================] - 0s 205us/step - loss: 22903.7252 - val_loss: 39445.8104\n",
      "Epoch 353/1000\n",
      "1168/1168 [==============================] - 0s 237us/step - loss: 23147.8141 - val_loss: 39077.6167\n",
      "Epoch 354/1000\n"
     ]
    },
    {
     "name": "stdout",
     "output_type": "stream",
     "text": [
      "1168/1168 [==============================] - 0s 209us/step - loss: 22679.8625 - val_loss: 38994.2422\n",
      "Epoch 355/1000\n",
      "1168/1168 [==============================] - 0s 217us/step - loss: 23062.9767 - val_loss: 38818.6290\n",
      "Epoch 356/1000\n",
      "1168/1168 [==============================] - 0s 203us/step - loss: 22630.2614 - val_loss: 38767.6248\n",
      "Epoch 357/1000\n",
      "1168/1168 [==============================] - 0s 206us/step - loss: 22584.5398 - val_loss: 40395.2559\n",
      "Epoch 358/1000\n",
      "1168/1168 [==============================] - 0s 207us/step - loss: 22592.2267 - val_loss: 38646.4420\n",
      "Epoch 359/1000\n",
      "1168/1168 [==============================] - 0s 216us/step - loss: 23060.7619 - val_loss: 38886.7632\n",
      "Epoch 360/1000\n",
      "1168/1168 [==============================] - 0s 270us/step - loss: 23051.4861 - val_loss: 38579.5887\n",
      "Epoch 361/1000\n",
      "1168/1168 [==============================] - 0s 208us/step - loss: 23105.0537 - val_loss: 38647.2518\n",
      "Epoch 362/1000\n",
      "1168/1168 [==============================] - 0s 211us/step - loss: 22581.6992 - val_loss: 41647.2032\n",
      "Epoch 363/1000\n",
      "1168/1168 [==============================] - 0s 241us/step - loss: 23127.5001 - val_loss: 39833.0121\n",
      "Epoch 364/1000\n",
      "1168/1168 [==============================] - 0s 201us/step - loss: 22925.3348 - val_loss: 38729.5477\n",
      "Epoch 365/1000\n",
      "1168/1168 [==============================] - 0s 203us/step - loss: 23009.8390 - val_loss: 41185.9349\n",
      "Epoch 366/1000\n",
      "1168/1168 [==============================] - 0s 207us/step - loss: 23503.2652 - val_loss: 40168.7693\n",
      "Epoch 367/1000\n",
      "1168/1168 [==============================] - 0s 215us/step - loss: 22639.7464 - val_loss: 38577.2743\n",
      "Epoch 368/1000\n",
      "1168/1168 [==============================] - 0s 203us/step - loss: 22721.1315 - val_loss: 43114.5401\n",
      "Epoch 369/1000\n",
      "1168/1168 [==============================] - 0s 200us/step - loss: 23400.7925 - val_loss: 40289.9735\n",
      "Epoch 370/1000\n",
      "1168/1168 [==============================] - 0s 240us/step - loss: 22726.5556 - val_loss: 39053.4029\n",
      "Epoch 371/1000\n",
      "1168/1168 [==============================] - 0s 256us/step - loss: 22538.0591 - val_loss: 41168.7586\n",
      "Epoch 372/1000\n",
      "1168/1168 [==============================] - 0s 254us/step - loss: 22382.8311 - val_loss: 39463.7161\n",
      "Epoch 373/1000\n",
      "1168/1168 [==============================] - 0s 229us/step - loss: 22498.9917 - val_loss: 39826.5222\n",
      "Epoch 374/1000\n",
      "1168/1168 [==============================] - 0s 271us/step - loss: 22606.7108 - val_loss: 38466.1638\n",
      "Epoch 375/1000\n",
      "1168/1168 [==============================] - 0s 214us/step - loss: 22011.8294 - val_loss: 38383.9317\n",
      "Epoch 376/1000\n",
      "1168/1168 [==============================] - 0s 219us/step - loss: 22826.1827 - val_loss: 39021.8988\n",
      "Epoch 377/1000\n",
      "1168/1168 [==============================] - 0s 218us/step - loss: 22216.8724 - val_loss: 38821.3365\n",
      "Epoch 378/1000\n",
      "1168/1168 [==============================] - 0s 218us/step - loss: 22812.3481 - val_loss: 38406.1286\n",
      "Epoch 379/1000\n",
      "1168/1168 [==============================] - 0s 209us/step - loss: 23347.8968 - val_loss: 38690.1053\n",
      "Epoch 380/1000\n",
      "1168/1168 [==============================] - 0s 205us/step - loss: 22509.6508 - val_loss: 39581.9286\n",
      "Epoch 381/1000\n",
      "1168/1168 [==============================] - 0s 211us/step - loss: 22282.4061 - val_loss: 38223.4907\n",
      "Epoch 382/1000\n",
      "1168/1168 [==============================] - 0s 225us/step - loss: 23116.4681 - val_loss: 38495.5713\n",
      "Epoch 383/1000\n",
      "1168/1168 [==============================] - 0s 201us/step - loss: 22093.3211 - val_loss: 38580.7682\n",
      "Epoch 384/1000\n",
      "1168/1168 [==============================] - 0s 208us/step - loss: 21715.6638 - val_loss: 39601.3552\n",
      "Epoch 385/1000\n",
      "1168/1168 [==============================] - 0s 212us/step - loss: 22641.9559 - val_loss: 38589.7879\n",
      "Epoch 386/1000\n",
      "1168/1168 [==============================] - 0s 214us/step - loss: 22885.4112 - val_loss: 38113.0369\n",
      "Epoch 387/1000\n",
      "1168/1168 [==============================] - 0s 206us/step - loss: 22181.1209 - val_loss: 38060.6253\n",
      "Epoch 388/1000\n",
      "1168/1168 [==============================] - 0s 215us/step - loss: 22103.7900 - val_loss: 38205.7570\n",
      "Epoch 389/1000\n",
      "1168/1168 [==============================] - 0s 208us/step - loss: 22905.0215 - val_loss: 37989.7339\n",
      "Epoch 390/1000\n",
      "1168/1168 [==============================] - 0s 217us/step - loss: 22589.9043 - val_loss: 39455.6907\n",
      "Epoch 391/1000\n",
      "1168/1168 [==============================] - 0s 204us/step - loss: 21917.3752 - val_loss: 39393.0820\n",
      "Epoch 392/1000\n",
      "1168/1168 [==============================] - 0s 207us/step - loss: 21848.8235 - val_loss: 39134.6830\n",
      "Epoch 393/1000\n",
      "1168/1168 [==============================] - 0s 211us/step - loss: 21547.6105 - val_loss: 38347.4444\n",
      "Epoch 394/1000\n",
      "1168/1168 [==============================] - 0s 232us/step - loss: 22452.9769 - val_loss: 38463.2420\n",
      "Epoch 395/1000\n",
      "1168/1168 [==============================] - 0s 291us/step - loss: 21662.4811 - val_loss: 38191.3798\n",
      "Epoch 396/1000\n",
      "1168/1168 [==============================] - 0s 208us/step - loss: 22856.4230 - val_loss: 38322.7526\n",
      "Epoch 397/1000\n",
      "1168/1168 [==============================] - 0s 207us/step - loss: 22067.3255 - val_loss: 39608.2727\n",
      "Epoch 398/1000\n",
      "1168/1168 [==============================] - 0s 214us/step - loss: 22355.2671 - val_loss: 39209.8025\n",
      "Epoch 399/1000\n",
      "1168/1168 [==============================] - 0s 201us/step - loss: 22110.2322 - val_loss: 38886.2515\n",
      "Epoch 400/1000\n",
      "1168/1168 [==============================] - 0s 208us/step - loss: 21829.4538 - val_loss: 38460.7926\n",
      "Epoch 401/1000\n",
      "1168/1168 [==============================] - 0s 207us/step - loss: 21885.2584 - val_loss: 37792.0995\n",
      "Epoch 402/1000\n",
      "1168/1168 [==============================] - 0s 215us/step - loss: 21676.2822 - val_loss: 38665.8558\n",
      "Epoch 403/1000\n",
      "1168/1168 [==============================] - 0s 203us/step - loss: 22282.8942 - val_loss: 39632.0619\n",
      "Epoch 404/1000\n",
      "1168/1168 [==============================] - 0s 303us/step - loss: 22807.1759 - val_loss: 39779.0842\n",
      "Epoch 405/1000\n",
      "1168/1168 [==============================] - 0s 202us/step - loss: 22163.2275 - val_loss: 38865.8412\n",
      "Epoch 406/1000\n",
      "1168/1168 [==============================] - 0s 216us/step - loss: 21969.6004 - val_loss: 40611.4762\n",
      "Epoch 407/1000\n",
      "1168/1168 [==============================] - 0s 283us/step - loss: 23357.0284 - val_loss: 38001.9393\n",
      "Epoch 408/1000\n",
      "1168/1168 [==============================] - 0s 211us/step - loss: 22082.0474 - val_loss: 39640.5259\n",
      "Epoch 409/1000\n",
      "1168/1168 [==============================] - 0s 297us/step - loss: 22169.7896 - val_loss: 38017.1235\n",
      "Epoch 410/1000\n",
      "1168/1168 [==============================] - 0s 209us/step - loss: 21849.5723 - val_loss: 38483.5486\n",
      "Epoch 411/1000\n",
      "1168/1168 [==============================] - 0s 212us/step - loss: 22069.7079 - val_loss: 37804.9571\n",
      "Epoch 412/1000\n",
      "1168/1168 [==============================] - 0s 280us/step - loss: 22413.8595 - val_loss: 38808.0343\n",
      "Epoch 413/1000\n",
      "1168/1168 [==============================] - 0s 250us/step - loss: 22260.6414 - val_loss: 37969.4867\n",
      "Epoch 414/1000\n",
      "1168/1168 [==============================] - 0s 278us/step - loss: 21882.2418 - val_loss: 37772.5064\n",
      "Epoch 415/1000\n",
      "1168/1168 [==============================] - 0s 208us/step - loss: 21627.1360 - val_loss: 38093.3525\n",
      "Epoch 416/1000\n",
      "1168/1168 [==============================] - 0s 217us/step - loss: 22148.8905 - val_loss: 39010.0420\n",
      "Epoch 417/1000\n",
      "1168/1168 [==============================] - 0s 201us/step - loss: 22557.1981 - val_loss: 37792.5631\n",
      "Epoch 418/1000\n",
      "1168/1168 [==============================] - 0s 207us/step - loss: 21668.2563 - val_loss: 39712.0075\n",
      "Epoch 419/1000\n",
      "1168/1168 [==============================] - 0s 210us/step - loss: 22579.2592 - val_loss: 38567.1174\n",
      "Epoch 420/1000\n",
      "1168/1168 [==============================] - 0s 217us/step - loss: 21441.0073 - val_loss: 38385.2181\n",
      "Epoch 421/1000\n",
      "1168/1168 [==============================] - 0s 201us/step - loss: 22184.8120 - val_loss: 38989.1403\n",
      "Epoch 422/1000\n",
      "1168/1168 [==============================] - 0s 200us/step - loss: 21560.5965 - val_loss: 41564.7558\n",
      "Epoch 423/1000\n",
      "1168/1168 [==============================] - 0s 205us/step - loss: 22885.6772 - val_loss: 40333.4702\n",
      "Epoch 424/1000\n",
      "1168/1168 [==============================] - 0s 217us/step - loss: 21297.2096 - val_loss: 38072.2212\n"
     ]
    },
    {
     "name": "stdout",
     "output_type": "stream",
     "text": [
      "Epoch 425/1000\n",
      "1168/1168 [==============================] - 0s 201us/step - loss: 22413.1286 - val_loss: 39437.2730\n",
      "Epoch 426/1000\n",
      "1168/1168 [==============================] - 0s 202us/step - loss: 22413.9963 - val_loss: 37510.3667\n",
      "Epoch 427/1000\n",
      "1168/1168 [==============================] - 0s 201us/step - loss: 21383.5193 - val_loss: 37697.8127\n",
      "Epoch 428/1000\n",
      "1168/1168 [==============================] - 0s 202us/step - loss: 21379.6008 - val_loss: 37197.8907\n",
      "Epoch 429/1000\n",
      "1168/1168 [==============================] - 0s 208us/step - loss: 21540.3107 - val_loss: 37486.3777\n",
      "Epoch 430/1000\n",
      "1168/1168 [==============================] - 0s 202us/step - loss: 21404.3412 - val_loss: 37632.4098\n",
      "Epoch 431/1000\n",
      "1168/1168 [==============================] - 0s 210us/step - loss: 21756.7227 - val_loss: 39187.4287\n",
      "Epoch 432/1000\n",
      "1168/1168 [==============================] - 0s 205us/step - loss: 21446.3883 - val_loss: 38333.9950\n",
      "Epoch 433/1000\n",
      "1168/1168 [==============================] - 0s 211us/step - loss: 21712.6999 - val_loss: 37824.0124\n",
      "Epoch 434/1000\n",
      "1168/1168 [==============================] - 0s 206us/step - loss: 21627.6451 - val_loss: 38829.2553\n",
      "Epoch 435/1000\n",
      "1168/1168 [==============================] - 0s 206us/step - loss: 21323.5112 - val_loss: 37715.4752\n",
      "Epoch 436/1000\n",
      "1168/1168 [==============================] - 0s 202us/step - loss: 21156.4088 - val_loss: 40784.4674\n",
      "Epoch 437/1000\n",
      "1168/1168 [==============================] - 0s 214us/step - loss: 22019.2528 - val_loss: 38578.7096\n",
      "Epoch 438/1000\n",
      "1168/1168 [==============================] - 0s 204us/step - loss: 21293.2345 - val_loss: 37530.7560\n",
      "Epoch 439/1000\n",
      "1168/1168 [==============================] - 0s 207us/step - loss: 21433.1174 - val_loss: 38903.6766\n",
      "Epoch 440/1000\n",
      "1168/1168 [==============================] - 0s 207us/step - loss: 21482.0976 - val_loss: 38421.5825\n",
      "Epoch 441/1000\n",
      "1168/1168 [==============================] - 0s 214us/step - loss: 21311.9939 - val_loss: 37576.3499\n",
      "Epoch 442/1000\n",
      "1168/1168 [==============================] - 0s 201us/step - loss: 22101.1700 - val_loss: 38073.7065\n",
      "Epoch 443/1000\n",
      "1168/1168 [==============================] - 0s 211us/step - loss: 21137.7041 - val_loss: 38361.0375\n",
      "Epoch 444/1000\n",
      "1168/1168 [==============================] - 0s 205us/step - loss: 21364.0357 - val_loss: 38133.1719\n",
      "Epoch 445/1000\n",
      "1168/1168 [==============================] - 0s 213us/step - loss: 20979.8454 - val_loss: 38066.2201\n",
      "Epoch 446/1000\n",
      "1168/1168 [==============================] - 0s 201us/step - loss: 21009.7351 - val_loss: 37607.4784\n",
      "Epoch 447/1000\n",
      "1168/1168 [==============================] - 0s 227us/step - loss: 21370.8463 - val_loss: 37687.6694\n",
      "Epoch 448/1000\n",
      "1168/1168 [==============================] - 0s 252us/step - loss: 21679.4520 - val_loss: 37468.9142\n",
      "Epoch 449/1000\n",
      "1168/1168 [==============================] - 0s 216us/step - loss: 21798.4821 - val_loss: 38859.3091\n",
      "Epoch 450/1000\n",
      "1168/1168 [==============================] - 0s 201us/step - loss: 21690.4054 - val_loss: 37647.1411\n",
      "Epoch 451/1000\n",
      "1168/1168 [==============================] - 0s 208us/step - loss: 21868.3487 - val_loss: 37586.2108\n",
      "Epoch 452/1000\n",
      "1168/1168 [==============================] - 0s 202us/step - loss: 21955.6841 - val_loss: 38640.9693\n",
      "Epoch 453/1000\n",
      "1168/1168 [==============================] - 0s 215us/step - loss: 20714.2779 - val_loss: 37487.0422\n",
      "Epoch 454/1000\n",
      "1168/1168 [==============================] - 0s 205us/step - loss: 20644.4184 - val_loss: 37629.1913\n",
      "Epoch 455/1000\n",
      "1168/1168 [==============================] - 0s 211us/step - loss: 21627.1852 - val_loss: 37631.2754\n",
      "Epoch 456/1000\n",
      "1168/1168 [==============================] - 0s 302us/step - loss: 21125.6351 - val_loss: 37576.2511\n",
      "Epoch 457/1000\n",
      "1168/1168 [==============================] - 0s 205us/step - loss: 20843.6875 - val_loss: 38291.3074\n",
      "Epoch 458/1000\n",
      "1168/1168 [==============================] - 0s 210us/step - loss: 21461.6353 - val_loss: 38559.5228\n",
      "Epoch 459/1000\n",
      "1168/1168 [==============================] - 0s 276us/step - loss: 20963.8044 - val_loss: 38188.4656\n",
      "Epoch 460/1000\n",
      "1168/1168 [==============================] - 0s 215us/step - loss: 21776.6768 - val_loss: 39123.6302\n",
      "Epoch 461/1000\n",
      "1168/1168 [==============================] - 0s 206us/step - loss: 21438.9659 - val_loss: 37271.7061\n",
      "Epoch 462/1000\n",
      "1168/1168 [==============================] - 0s 206us/step - loss: 21330.2078 - val_loss: 40039.6282\n",
      "Epoch 463/1000\n",
      "1168/1168 [==============================] - 0s 300us/step - loss: 21190.5353 - val_loss: 38599.5940\n",
      "Epoch 464/1000\n",
      "1168/1168 [==============================] - 0s 218us/step - loss: 20689.1162 - val_loss: 37949.9796\n",
      "Epoch 465/1000\n",
      "1168/1168 [==============================] - 0s 335us/step - loss: 20653.3834 - val_loss: 37761.7984\n",
      "Epoch 466/1000\n",
      "1168/1168 [==============================] - ETA: 0s - loss: 21450.225 - 0s 205us/step - loss: 21420.5816 - val_loss: 38447.4887\n",
      "Epoch 467/1000\n",
      "1168/1168 [==============================] - 0s 318us/step - loss: 21656.2040 - val_loss: 37010.1022\n",
      "Epoch 468/1000\n",
      "1168/1168 [==============================] - 0s 228us/step - loss: 21013.6744 - val_loss: 39550.2015\n",
      "Epoch 469/1000\n",
      "1168/1168 [==============================] - 0s 218us/step - loss: 21204.5020 - val_loss: 39746.6447\n",
      "Epoch 470/1000\n",
      "1168/1168 [==============================] - 0s 217us/step - loss: 21498.2141 - val_loss: 37450.2155\n",
      "Epoch 471/1000\n",
      "1168/1168 [==============================] - 0s 220us/step - loss: 20940.3713 - val_loss: 37013.0417\n",
      "Epoch 472/1000\n",
      "1168/1168 [==============================] - 0s 229us/step - loss: 21787.0286 - val_loss: 37747.8671\n",
      "Epoch 473/1000\n",
      "1168/1168 [==============================] - 1s 511us/step - loss: 21275.7227 - val_loss: 38692.1575\n",
      "Epoch 474/1000\n",
      "1168/1168 [==============================] - 0s 371us/step - loss: 21285.1033 - val_loss: 42944.9192\n",
      "Epoch 475/1000\n",
      "1168/1168 [==============================] - 0s 294us/step - loss: 21638.2065 - val_loss: 37841.7708\n",
      "Epoch 476/1000\n",
      "1168/1168 [==============================] - 0s 213us/step - loss: 21129.8754 - val_loss: 37534.2762\n",
      "Epoch 477/1000\n",
      "1168/1168 [==============================] - 0s 207us/step - loss: 21095.0899 - val_loss: 39429.7021\n",
      "Epoch 478/1000\n",
      "1168/1168 [==============================] - 0s 209us/step - loss: 20928.3707 - val_loss: 37555.0235\n",
      "Epoch 479/1000\n",
      "1168/1168 [==============================] - 0s 208us/step - loss: 20982.8098 - val_loss: 38423.8865\n",
      "Epoch 480/1000\n",
      "1168/1168 [==============================] - 0s 248us/step - loss: 20717.9004 - val_loss: 40266.0479\n",
      "Epoch 481/1000\n",
      "1168/1168 [==============================] - 0s 340us/step - loss: 21239.4299 - val_loss: 36863.0538\n",
      "Epoch 482/1000\n",
      "1168/1168 [==============================] - 0s 351us/step - loss: 20485.7959 - val_loss: 37845.4361\n",
      "Epoch 483/1000\n",
      "1168/1168 [==============================] - 0s 330us/step - loss: 21005.5516 - val_loss: 37097.4821\n",
      "Epoch 484/1000\n",
      "1168/1168 [==============================] - 0s 248us/step - loss: 20592.2358 - val_loss: 37151.9659\n",
      "Epoch 485/1000\n",
      "1168/1168 [==============================] - 0s 242us/step - loss: 21009.7878 - val_loss: 38374.7008\n",
      "Epoch 486/1000\n",
      "1168/1168 [==============================] - 0s 241us/step - loss: 20997.1549 - val_loss: 37539.3821\n",
      "Epoch 487/1000\n",
      "1168/1168 [==============================] - 0s 252us/step - loss: 20391.4676 - val_loss: 37861.2728\n",
      "Epoch 488/1000\n",
      "1168/1168 [==============================] - 0s 306us/step - loss: 21040.3627 - val_loss: 37454.3760\n",
      "Epoch 489/1000\n",
      "1168/1168 [==============================] - 0s 258us/step - loss: 20677.0883 - val_loss: 36940.4106\n",
      "Epoch 490/1000\n",
      "1168/1168 [==============================] - 0s 303us/step - loss: 21233.1458 - val_loss: 36980.1733\n",
      "Epoch 491/1000\n",
      "1168/1168 [==============================] - 0s 276us/step - loss: 20441.9021 - val_loss: 38002.0175\n",
      "Epoch 492/1000\n",
      "1168/1168 [==============================] - 0s 287us/step - loss: 20911.8308 - val_loss: 37290.0226\n",
      "Epoch 493/1000\n",
      "1168/1168 [==============================] - 0s 284us/step - loss: 20408.8657 - val_loss: 38652.4168\n",
      "Epoch 494/1000\n",
      "1168/1168 [==============================] - 0s 277us/step - loss: 20716.0394 - val_loss: 37023.9041\n",
      "Epoch 495/1000\n"
     ]
    },
    {
     "name": "stdout",
     "output_type": "stream",
     "text": [
      "1168/1168 [==============================] - 0s 261us/step - loss: 21211.3916 - val_loss: 36674.6757\n",
      "Epoch 496/1000\n",
      "1168/1168 [==============================] - 0s 282us/step - loss: 21241.8185 - val_loss: 37319.9738\n",
      "Epoch 497/1000\n",
      "1168/1168 [==============================] - 0s 322us/step - loss: 20550.5576 - val_loss: 37188.0907\n",
      "Epoch 498/1000\n",
      "1168/1168 [==============================] - 0s 246us/step - loss: 21261.3576 - val_loss: 37847.2695\n",
      "Epoch 499/1000\n",
      "1168/1168 [==============================] - 0s 264us/step - loss: 20593.3184 - val_loss: 37485.6763\n",
      "Epoch 500/1000\n",
      "1168/1168 [==============================] - 0s 246us/step - loss: 20899.6201 - val_loss: 37436.8498\n",
      "Epoch 501/1000\n",
      "1168/1168 [==============================] - 0s 320us/step - loss: 21617.4386 - val_loss: 37999.5967\n",
      "Epoch 502/1000\n",
      "1168/1168 [==============================] - 0s 323us/step - loss: 20641.4694 - val_loss: 37296.8772\n",
      "Epoch 503/1000\n",
      "1168/1168 [==============================] - 0s 286us/step - loss: 20867.3244 - val_loss: 41293.3775\n",
      "Epoch 504/1000\n",
      "1168/1168 [==============================] - 0s 238us/step - loss: 20364.7888 - val_loss: 38176.2709\n",
      "Epoch 505/1000\n",
      "1168/1168 [==============================] - 0s 234us/step - loss: 20532.9613 - val_loss: 38188.7952\n",
      "Epoch 506/1000\n",
      "1168/1168 [==============================] - 0s 233us/step - loss: 20616.3347 - val_loss: 37414.7003\n",
      "Epoch 507/1000\n",
      "1168/1168 [==============================] - 0s 301us/step - loss: 20640.7874 - val_loss: 37839.5379\n",
      "Epoch 508/1000\n",
      "1168/1168 [==============================] - 0s 233us/step - loss: 22280.9728 - val_loss: 37352.4516\n",
      "Epoch 509/1000\n",
      "1168/1168 [==============================] - 0s 229us/step - loss: 20611.4382 - val_loss: 36920.7095\n",
      "Epoch 510/1000\n",
      "1168/1168 [==============================] - 0s 229us/step - loss: 20513.0726 - val_loss: 38018.2280\n",
      "Epoch 511/1000\n",
      "1168/1168 [==============================] - 0s 315us/step - loss: 20730.8693 - val_loss: 36438.4105\n",
      "Epoch 512/1000\n",
      "1168/1168 [==============================] - 0s 238us/step - loss: 20724.8524 - val_loss: 36628.2888\n",
      "Epoch 513/1000\n",
      "1168/1168 [==============================] - 0s 284us/step - loss: 20725.7150 - val_loss: 37769.2171\n",
      "Epoch 514/1000\n",
      "1168/1168 [==============================] - 0s 241us/step - loss: 20701.4161 - val_loss: 38163.8616\n",
      "Epoch 515/1000\n",
      "1168/1168 [==============================] - 0s 236us/step - loss: 20670.7428 - val_loss: 38227.5306\n",
      "Epoch 516/1000\n",
      "1168/1168 [==============================] - 0s 239us/step - loss: 20861.3768 - val_loss: 40164.8750\n",
      "Epoch 517/1000\n",
      "1168/1168 [==============================] - 0s 230us/step - loss: 20803.5083 - val_loss: 37221.2690\n",
      "Epoch 518/1000\n",
      "1168/1168 [==============================] - 0s 236us/step - loss: 20706.2563 - val_loss: 36718.7896\n",
      "Epoch 519/1000\n",
      "1168/1168 [==============================] - 0s 235us/step - loss: 20209.5207 - val_loss: 37472.5035\n",
      "Epoch 520/1000\n",
      "1168/1168 [==============================] - 0s 237us/step - loss: 20574.1885 - val_loss: 37287.7063\n",
      "Epoch 521/1000\n",
      "1168/1168 [==============================] - 0s 319us/step - loss: 20191.9824 - val_loss: 36864.0884\n",
      "Epoch 522/1000\n",
      "1168/1168 [==============================] - 0s 272us/step - loss: 21405.3845 - val_loss: 38248.0183\n",
      "Epoch 523/1000\n",
      "1168/1168 [==============================] - 0s 232us/step - loss: 20554.3333 - val_loss: 36422.9479\n",
      "Epoch 524/1000\n",
      "1168/1168 [==============================] - 0s 243us/step - loss: 20720.6139 - val_loss: 37507.7950\n",
      "Epoch 525/1000\n",
      "1168/1168 [==============================] - 0s 258us/step - loss: 20678.4761 - val_loss: 37642.4658\n",
      "Epoch 526/1000\n",
      "1168/1168 [==============================] - 0s 270us/step - loss: 19937.0620 - val_loss: 37338.8368\n",
      "Epoch 527/1000\n",
      "1168/1168 [==============================] - 0s 318us/step - loss: 21292.3078 - val_loss: 37678.0277\n",
      "Epoch 528/1000\n",
      "1168/1168 [==============================] - 0s 295us/step - loss: 20504.7860 - val_loss: 37044.9805\n",
      "Epoch 529/1000\n",
      "1168/1168 [==============================] - 0s 241us/step - loss: 19831.1091 - val_loss: 36967.3671\n",
      "Epoch 530/1000\n",
      "1168/1168 [==============================] - 0s 246us/step - loss: 20531.7863 - val_loss: 36692.0675\n",
      "Epoch 531/1000\n",
      "1168/1168 [==============================] - 0s 243us/step - loss: 20502.2293 - val_loss: 37449.1624\n",
      "Epoch 532/1000\n",
      "1168/1168 [==============================] - 0s 285us/step - loss: 19924.5110 - val_loss: 37194.8309\n",
      "Epoch 533/1000\n",
      "1168/1168 [==============================] - 0s 283us/step - loss: 20126.8782 - val_loss: 37406.2731\n",
      "Epoch 534/1000\n",
      "1168/1168 [==============================] - 0s 291us/step - loss: 20395.6415 - val_loss: 39541.8925\n",
      "Epoch 535/1000\n",
      "1168/1168 [==============================] - 0s 246us/step - loss: 21163.4005 - val_loss: 38632.5054\n",
      "Epoch 536/1000\n",
      "1168/1168 [==============================] - 0s 285us/step - loss: 20373.9586 - val_loss: 36393.2826\n",
      "Epoch 537/1000\n",
      "1168/1168 [==============================] - 0s 261us/step - loss: 19570.1911 - val_loss: 38420.7578\n",
      "Epoch 538/1000\n",
      "1168/1168 [==============================] - 0s 293us/step - loss: 20145.6594 - val_loss: 36368.9125\n",
      "Epoch 539/1000\n",
      "1168/1168 [==============================] - 0s 265us/step - loss: 19778.9730 - val_loss: 36676.6257\n",
      "Epoch 540/1000\n",
      "1168/1168 [==============================] - 0s 271us/step - loss: 20369.7444 - val_loss: 36337.4259\n",
      "Epoch 541/1000\n",
      "1168/1168 [==============================] - 0s 239us/step - loss: 20847.0317 - val_loss: 38617.6721\n",
      "Epoch 542/1000\n",
      "1168/1168 [==============================] - 0s 235us/step - loss: 19977.4892 - val_loss: 36731.8506\n",
      "Epoch 543/1000\n",
      "1168/1168 [==============================] - 0s 233us/step - loss: 19865.2875 - val_loss: 36943.2489\n",
      "Epoch 544/1000\n",
      "1168/1168 [==============================] - 0s 240us/step - loss: 20557.2083 - val_loss: 36624.4022\n",
      "Epoch 545/1000\n",
      "1168/1168 [==============================] - 0s 241us/step - loss: 20213.9662 - val_loss: 37227.6497\n",
      "Epoch 546/1000\n",
      "1168/1168 [==============================] - 0s 237us/step - loss: 19736.2758 - val_loss: 37791.0232\n",
      "Epoch 547/1000\n",
      "1168/1168 [==============================] - 0s 246us/step - loss: 19947.0235 - val_loss: 36836.3838\n",
      "Epoch 548/1000\n",
      "1168/1168 [==============================] - 0s 258us/step - loss: 20461.5189 - val_loss: 36709.3437\n",
      "Epoch 549/1000\n",
      "1168/1168 [==============================] - 0s 264us/step - loss: 20493.3246 - val_loss: 40721.3134\n",
      "Epoch 550/1000\n",
      "1168/1168 [==============================] - 0s 301us/step - loss: 20645.3361 - val_loss: 36858.1327\n",
      "Epoch 551/1000\n",
      "1168/1168 [==============================] - 0s 239us/step - loss: 19794.5369 - val_loss: 37063.2783\n",
      "Epoch 552/1000\n",
      "1168/1168 [==============================] - 0s 241us/step - loss: 19899.8917 - val_loss: 36489.3322\n",
      "Epoch 553/1000\n",
      "1168/1168 [==============================] - 0s 251us/step - loss: 20890.6095 - val_loss: 37464.5957\n",
      "Epoch 554/1000\n",
      "1168/1168 [==============================] - 0s 270us/step - loss: 20031.5276 - val_loss: 37354.1444\n",
      "Epoch 555/1000\n",
      "1168/1168 [==============================] - 0s 229us/step - loss: 19970.3896 - val_loss: 36873.7268\n",
      "Epoch 556/1000\n",
      "1168/1168 [==============================] - 0s 235us/step - loss: 19725.9768 - val_loss: 37246.5987\n",
      "Epoch 557/1000\n",
      "1168/1168 [==============================] - 0s 258us/step - loss: 20193.7133 - val_loss: 37540.5541\n",
      "Epoch 558/1000\n",
      "1168/1168 [==============================] - 0s 262us/step - loss: 19975.4927 - val_loss: 36288.9791\n",
      "Epoch 559/1000\n",
      "1168/1168 [==============================] - 0s 242us/step - loss: 19511.5151 - val_loss: 38358.5330\n",
      "Epoch 560/1000\n",
      "1168/1168 [==============================] - 0s 251us/step - loss: 20066.9277 - val_loss: 37161.4654\n",
      "Epoch 561/1000\n",
      "1168/1168 [==============================] - 0s 244us/step - loss: 19585.3428 - val_loss: 37239.5596\n",
      "Epoch 562/1000\n",
      "1168/1168 [==============================] - 0s 247us/step - loss: 20100.9086 - val_loss: 40918.2671\n",
      "Epoch 563/1000\n",
      "1168/1168 [==============================] - 0s 286us/step - loss: 20168.4811 - val_loss: 38351.1449\n",
      "Epoch 564/1000\n",
      "1168/1168 [==============================] - 0s 344us/step - loss: 19443.9927 - val_loss: 36720.4597\n",
      "Epoch 565/1000\n",
      "1168/1168 [==============================] - 0s 329us/step - loss: 19484.8930 - val_loss: 36852.3432\n"
     ]
    },
    {
     "name": "stdout",
     "output_type": "stream",
     "text": [
      "Epoch 566/1000\n",
      "1168/1168 [==============================] - 0s 287us/step - loss: 19455.3412 - val_loss: 35932.9697\n",
      "Epoch 567/1000\n",
      "1168/1168 [==============================] - 0s 213us/step - loss: 19603.1928 - val_loss: 36614.2239\n",
      "Epoch 568/1000\n",
      "1168/1168 [==============================] - 0s 201us/step - loss: 19760.8357 - val_loss: 36732.7502\n",
      "Epoch 569/1000\n",
      "1168/1168 [==============================] - 0s 210us/step - loss: 19644.0896 - val_loss: 36091.6979\n",
      "Epoch 570/1000\n",
      "1168/1168 [==============================] - 0s 244us/step - loss: 19487.0007 - val_loss: 36628.7301\n",
      "Epoch 571/1000\n",
      "1168/1168 [==============================] - 0s 261us/step - loss: 19864.0851 - val_loss: 37027.4922\n",
      "Epoch 572/1000\n",
      "1168/1168 [==============================] - 0s 305us/step - loss: 19440.0904 - val_loss: 36143.1640\n",
      "Epoch 573/1000\n",
      "1168/1168 [==============================] - 0s 206us/step - loss: 19339.4578 - val_loss: 37088.6100\n",
      "Epoch 574/1000\n",
      "1168/1168 [==============================] - 0s 304us/step - loss: 19350.2154 - val_loss: 36311.0435\n",
      "Epoch 575/1000\n",
      "1168/1168 [==============================] - 0s 330us/step - loss: 19661.2556 - val_loss: 36517.7274\n",
      "Epoch 576/1000\n",
      "1168/1168 [==============================] - 0s 325us/step - loss: 19246.7918 - val_loss: 35984.0891\n",
      "Epoch 577/1000\n",
      "1168/1168 [==============================] - 0s 312us/step - loss: 19310.8933 - val_loss: 37391.5422\n",
      "Epoch 578/1000\n",
      "1168/1168 [==============================] - 0s 260us/step - loss: 19876.6373 - val_loss: 36692.7351\n",
      "Epoch 579/1000\n",
      "1168/1168 [==============================] - 0s 214us/step - loss: 19207.0612 - val_loss: 37025.6553\n",
      "Epoch 580/1000\n",
      "1168/1168 [==============================] - 0s 209us/step - loss: 19422.2786 - val_loss: 36398.1673\n",
      "Epoch 581/1000\n",
      "1168/1168 [==============================] - 0s 207us/step - loss: 19401.5151 - val_loss: 36426.3605\n",
      "Epoch 582/1000\n",
      "1168/1168 [==============================] - 0s 207us/step - loss: 20295.5222 - val_loss: 36310.4431\n",
      "Epoch 583/1000\n",
      "1168/1168 [==============================] - 0s 217us/step - loss: 19123.3877 - val_loss: 37237.0451\n",
      "Epoch 584/1000\n",
      "1168/1168 [==============================] - ETA: 0s - loss: 19703.127 - 0s 207us/step - loss: 19543.2391 - val_loss: 36628.8326\n",
      "Epoch 585/1000\n",
      "1168/1168 [==============================] - 0s 205us/step - loss: 19407.8848 - val_loss: 38503.4818\n",
      "Epoch 586/1000\n",
      "1168/1168 [==============================] - 0s 213us/step - loss: 19569.5927 - val_loss: 36423.7378\n",
      "Epoch 587/1000\n",
      "1168/1168 [==============================] - 0s 229us/step - loss: 19427.7726 - val_loss: 36628.6236\n",
      "Epoch 588/1000\n",
      "1168/1168 [==============================] - 0s 268us/step - loss: 19595.9187 - val_loss: 37489.7070\n",
      "Epoch 589/1000\n",
      "1168/1168 [==============================] - 0s 272us/step - loss: 19684.8465 - val_loss: 36180.9540\n",
      "Epoch 590/1000\n",
      "1168/1168 [==============================] - 0s 359us/step - loss: 19270.9756 - val_loss: 37145.6824\n",
      "Epoch 591/1000\n",
      "1168/1168 [==============================] - 0s 276us/step - loss: 19134.2610 - val_loss: 36166.9037\n",
      "Epoch 592/1000\n",
      "1168/1168 [==============================] - 0s 306us/step - loss: 19072.7027 - val_loss: 37410.2646\n",
      "Epoch 593/1000\n",
      "1168/1168 [==============================] - 0s 258us/step - loss: 19275.2698 - val_loss: 36465.2857\n",
      "Epoch 594/1000\n",
      "1168/1168 [==============================] - 0s 245us/step - loss: 19739.8545 - val_loss: 36665.0929\n",
      "Epoch 595/1000\n",
      "1168/1168 [==============================] - 0s 270us/step - loss: 19797.9529 - val_loss: 37133.4771\n",
      "Epoch 596/1000\n",
      "1168/1168 [==============================] - 0s 304us/step - loss: 20204.0990 - val_loss: 36570.3661\n",
      "Epoch 597/1000\n",
      "1168/1168 [==============================] - 0s 282us/step - loss: 19644.2683 - val_loss: 36606.9415\n",
      "Epoch 598/1000\n",
      "1168/1168 [==============================] - 0s 290us/step - loss: 19508.3890 - val_loss: 35645.1365\n",
      "Epoch 599/1000\n",
      "1168/1168 [==============================] - 0s 307us/step - loss: 19604.7636 - val_loss: 36483.3948\n",
      "Epoch 600/1000\n",
      "1168/1168 [==============================] - 0s 287us/step - loss: 19147.3676 - val_loss: 38362.9039\n",
      "Epoch 601/1000\n",
      "1168/1168 [==============================] - 0s 306us/step - loss: 19949.7185 - val_loss: 36269.2360\n",
      "Epoch 602/1000\n",
      "1168/1168 [==============================] - 0s 291us/step - loss: 19449.2038 - val_loss: 37885.4649\n",
      "Epoch 603/1000\n",
      "1168/1168 [==============================] - ETA: 0s - loss: 20983.226 - 0s 291us/step - loss: 20168.3892 - val_loss: 36660.5041\n",
      "Epoch 604/1000\n",
      "1168/1168 [==============================] - ETA: 0s - loss: 19085.762 - 0s 293us/step - loss: 19263.5718 - val_loss: 38332.5237\n",
      "Epoch 605/1000\n",
      "1168/1168 [==============================] - 0s 294us/step - loss: 18869.6936 - val_loss: 36435.8476\n",
      "Epoch 606/1000\n",
      "1168/1168 [==============================] - 0s 291us/step - loss: 19013.5167 - val_loss: 36363.1649\n",
      "Epoch 607/1000\n",
      "1168/1168 [==============================] - 0s 287us/step - loss: 18827.5079 - val_loss: 36253.0200\n",
      "Epoch 608/1000\n",
      "1168/1168 [==============================] - 0s 311us/step - loss: 19132.0354 - val_loss: 36011.5987\n",
      "Epoch 609/1000\n",
      "1168/1168 [==============================] - 0s 268us/step - loss: 19046.1868 - val_loss: 35771.4373\n",
      "Epoch 610/1000\n",
      "1168/1168 [==============================] - 0s 262us/step - loss: 19162.7057 - val_loss: 37465.2661\n",
      "Epoch 611/1000\n",
      "1168/1168 [==============================] - 0s 259us/step - loss: 19527.6001 - val_loss: 35810.3298\n",
      "Epoch 612/1000\n",
      "1168/1168 [==============================] - 0s 241us/step - loss: 19937.7476 - val_loss: 35875.7820\n",
      "Epoch 613/1000\n",
      "1168/1168 [==============================] - 0s 282us/step - loss: 19245.5946 - val_loss: 35675.3466\n",
      "Epoch 614/1000\n",
      "1168/1168 [==============================] - 0s 276us/step - loss: 19077.4533 - val_loss: 37754.4021\n",
      "Epoch 615/1000\n",
      "1168/1168 [==============================] - 0s 272us/step - loss: 19489.3599 - val_loss: 35921.6121\n",
      "Epoch 616/1000\n",
      "1168/1168 [==============================] - 0s 290us/step - loss: 18665.9721 - val_loss: 36041.0027\n",
      "Epoch 617/1000\n",
      "1168/1168 [==============================] - 0s 320us/step - loss: 18908.8414 - val_loss: 36301.6459\n",
      "Epoch 618/1000\n",
      "1168/1168 [==============================] - 0s 278us/step - loss: 19078.4870 - val_loss: 36102.6115\n",
      "Epoch 619/1000\n",
      "1168/1168 [==============================] - 0s 259us/step - loss: 19550.4579 - val_loss: 35803.2529\n",
      "Epoch 620/1000\n",
      "1168/1168 [==============================] - 0s 285us/step - loss: 18573.9945 - val_loss: 37037.3259\n",
      "Epoch 621/1000\n",
      "1168/1168 [==============================] - 0s 298us/step - loss: 19366.8340 - val_loss: 36827.5827\n",
      "Epoch 622/1000\n",
      "1168/1168 [==============================] - 0s 271us/step - loss: 18678.4040 - val_loss: 35655.1920\n",
      "Epoch 623/1000\n",
      "1168/1168 [==============================] - 0s 277us/step - loss: 19536.2049 - val_loss: 36685.2573\n",
      "Epoch 624/1000\n",
      "1168/1168 [==============================] - 0s 237us/step - loss: 19575.6561 - val_loss: 38814.0363\n",
      "Epoch 625/1000\n",
      "1168/1168 [==============================] - 0s 249us/step - loss: 18664.5988 - val_loss: 35830.2184\n",
      "Epoch 626/1000\n",
      "1168/1168 [==============================] - 0s 289us/step - loss: 19242.6610 - val_loss: 37918.1989\n",
      "Epoch 627/1000\n",
      "1168/1168 [==============================] - 0s 273us/step - loss: 18955.6636 - val_loss: 36438.6810\n",
      "Epoch 628/1000\n",
      "1168/1168 [==============================] - 0s 289us/step - loss: 19505.0574 - val_loss: 37251.8602\n",
      "Epoch 629/1000\n",
      "1168/1168 [==============================] - 0s 289us/step - loss: 19431.1283 - val_loss: 37149.9469\n",
      "Epoch 630/1000\n",
      "1168/1168 [==============================] - 0s 271us/step - loss: 19649.9217 - val_loss: 35974.4976\n",
      "Epoch 631/1000\n",
      "1168/1168 [==============================] - 0s 283us/step - loss: 18933.4580 - val_loss: 36241.3780\n",
      "Epoch 632/1000\n",
      "1168/1168 [==============================] - 0s 243us/step - loss: 18532.0189 - val_loss: 36521.1711\n",
      "Epoch 633/1000\n",
      "1168/1168 [==============================] - 0s 298us/step - loss: 19038.3053 - val_loss: 37421.8632\n",
      "Epoch 634/1000\n",
      "1168/1168 [==============================] - 0s 266us/step - loss: 18479.3720 - val_loss: 35906.1426\n",
      "Epoch 635/1000\n",
      "1168/1168 [==============================] - 0s 299us/step - loss: 18969.5750 - val_loss: 35547.5244\n"
     ]
    },
    {
     "name": "stdout",
     "output_type": "stream",
     "text": [
      "Epoch 636/1000\n",
      "1168/1168 [==============================] - 0s 303us/step - loss: 18584.8102 - val_loss: 36664.1400\n",
      "Epoch 637/1000\n",
      "1168/1168 [==============================] - 0s 290us/step - loss: 19377.8400 - val_loss: 35625.0104\n",
      "Epoch 638/1000\n",
      "1168/1168 [==============================] - 0s 276us/step - loss: 18920.0873 - val_loss: 38309.5727\n",
      "Epoch 639/1000\n",
      "1168/1168 [==============================] - 0s 294us/step - loss: 19106.2401 - val_loss: 35915.8322\n",
      "Epoch 640/1000\n",
      "1168/1168 [==============================] - 0s 290us/step - loss: 19211.8428 - val_loss: 35912.1794\n",
      "Epoch 641/1000\n",
      "1168/1168 [==============================] - 0s 296us/step - loss: 19272.5714 - val_loss: 35583.7285\n",
      "Epoch 642/1000\n",
      "1168/1168 [==============================] - 0s 312us/step - loss: 18734.7092 - val_loss: 35849.9764\n",
      "Epoch 643/1000\n",
      "1168/1168 [==============================] - 0s 294us/step - loss: 18566.8311 - val_loss: 37969.2814\n",
      "Epoch 644/1000\n",
      "1168/1168 [==============================] - 0s 300us/step - loss: 19261.1723 - val_loss: 34932.6628\n",
      "Epoch 645/1000\n",
      "1168/1168 [==============================] - 0s 299us/step - loss: 19112.0945 - val_loss: 38813.0586\n",
      "Epoch 646/1000\n",
      "1168/1168 [==============================] - 0s 308us/step - loss: 19018.3718 - val_loss: 35678.0387\n",
      "Epoch 647/1000\n",
      "1168/1168 [==============================] - 0s 282us/step - loss: 19020.0945 - val_loss: 35882.6841\n",
      "Epoch 648/1000\n",
      "1168/1168 [==============================] - 0s 268us/step - loss: 18306.5814 - val_loss: 35804.6186\n",
      "Epoch 649/1000\n",
      "1168/1168 [==============================] - 0s 258us/step - loss: 19563.8981 - val_loss: 36828.2149\n",
      "Epoch 650/1000\n",
      "1168/1168 [==============================] - 0s 332us/step - loss: 18664.2984 - val_loss: 35715.1165\n",
      "Epoch 651/1000\n",
      "1168/1168 [==============================] - 0s 291us/step - loss: 18604.1989 - val_loss: 36515.5387\n",
      "Epoch 652/1000\n",
      "1168/1168 [==============================] - 0s 306us/step - loss: 18695.2216 - val_loss: 35634.1945\n",
      "Epoch 653/1000\n",
      "1168/1168 [==============================] - 0s 306us/step - loss: 18511.2719 - val_loss: 36289.6405\n",
      "Epoch 654/1000\n",
      "1168/1168 [==============================] - 0s 262us/step - loss: 18281.0133 - val_loss: 36553.0502\n",
      "Epoch 655/1000\n",
      "1168/1168 [==============================] - 0s 244us/step - loss: 18680.9963 - val_loss: 36036.5728\n",
      "Epoch 656/1000\n",
      "1168/1168 [==============================] - 0s 246us/step - loss: 18771.2630 - val_loss: 38708.0853\n",
      "Epoch 657/1000\n",
      "1168/1168 [==============================] - 0s 246us/step - loss: 19213.9665 - val_loss: 35627.9169\n",
      "Epoch 658/1000\n",
      "1168/1168 [==============================] - 0s 260us/step - loss: 18871.6126 - val_loss: 35962.4454\n",
      "Epoch 659/1000\n",
      "1168/1168 [==============================] - 0s 258us/step - loss: 18128.8845 - val_loss: 35304.0291\n",
      "Epoch 660/1000\n",
      "1168/1168 [==============================] - 0s 328us/step - loss: 18539.1189 - val_loss: 36241.3727\n",
      "Epoch 661/1000\n",
      "1168/1168 [==============================] - 0s 315us/step - loss: 18754.9173 - val_loss: 35595.3949\n",
      "Epoch 662/1000\n",
      "1168/1168 [==============================] - 0s 338us/step - loss: 18064.2461 - val_loss: 36832.3952\n",
      "Epoch 663/1000\n",
      "1168/1168 [==============================] - 0s 260us/step - loss: 19110.8139 - val_loss: 35931.4423\n",
      "Epoch 664/1000\n",
      "1168/1168 [==============================] - 0s 231us/step - loss: 18535.9060 - val_loss: 35340.2620\n",
      "Epoch 665/1000\n",
      "1168/1168 [==============================] - 0s 238us/step - loss: 18405.1332 - val_loss: 36767.4255\n",
      "Epoch 666/1000\n",
      "1168/1168 [==============================] - 0s 283us/step - loss: 18420.8818 - val_loss: 35968.8306\n",
      "Epoch 667/1000\n",
      "1168/1168 [==============================] - 0s 306us/step - loss: 18796.2378 - val_loss: 35676.5901\n",
      "Epoch 668/1000\n",
      "1168/1168 [==============================] - 0s 246us/step - loss: 18896.4772 - val_loss: 35628.4902\n",
      "Epoch 669/1000\n",
      "1168/1168 [==============================] - 0s 338us/step - loss: 18464.8604 - val_loss: 36554.3443\n",
      "Epoch 670/1000\n",
      "1168/1168 [==============================] - 0s 336us/step - loss: 19095.4405 - val_loss: 36778.4417\n",
      "Epoch 671/1000\n",
      "1168/1168 [==============================] - 0s 279us/step - loss: 19486.6157 - val_loss: 36575.9978\n",
      "Epoch 672/1000\n",
      "1168/1168 [==============================] - 0s 247us/step - loss: 18759.4095 - val_loss: 35774.9334\n",
      "Epoch 673/1000\n",
      "1168/1168 [==============================] - 0s 273us/step - loss: 19458.0972 - val_loss: 35907.9716\n",
      "Epoch 674/1000\n",
      "1168/1168 [==============================] - 0s 284us/step - loss: 19070.1245 - val_loss: 37680.6586\n",
      "Epoch 675/1000\n",
      "1168/1168 [==============================] - 0s 270us/step - loss: 18431.9410 - val_loss: 35711.7186\n",
      "Epoch 676/1000\n",
      "1168/1168 [==============================] - 0s 305us/step - loss: 18976.2363 - val_loss: 37712.4251\n",
      "Epoch 677/1000\n",
      "1168/1168 [==============================] - 0s 316us/step - loss: 18655.3359 - val_loss: 40912.2100\n",
      "Epoch 678/1000\n",
      "1168/1168 [==============================] - 0s 284us/step - loss: 19052.5891 - val_loss: 35163.1420\n",
      "Epoch 679/1000\n",
      "1168/1168 [==============================] - 0s 273us/step - loss: 18079.8028 - val_loss: 35505.7976\n",
      "Epoch 680/1000\n",
      "1168/1168 [==============================] - 0s 308us/step - loss: 18007.2700 - val_loss: 36004.5510\n",
      "Epoch 681/1000\n",
      "1168/1168 [==============================] - 0s 240us/step - loss: 18281.6037 - val_loss: 35527.1014\n",
      "Epoch 682/1000\n",
      "1168/1168 [==============================] - 0s 300us/step - loss: 18358.9770 - val_loss: 36722.7868\n",
      "Epoch 683/1000\n",
      "1168/1168 [==============================] - 0s 353us/step - loss: 18166.7260 - val_loss: 36118.4628\n",
      "Epoch 684/1000\n",
      "1168/1168 [==============================] - 0s 285us/step - loss: 17991.5963 - val_loss: 36156.3821\n",
      "Epoch 685/1000\n",
      "1168/1168 [==============================] - 0s 231us/step - loss: 18242.3800 - val_loss: 36681.0653\n",
      "Epoch 686/1000\n",
      "1168/1168 [==============================] - 0s 289us/step - loss: 19211.1784 - val_loss: 37338.1932\n",
      "Epoch 687/1000\n",
      "1168/1168 [==============================] - 0s 328us/step - loss: 18653.6675 - val_loss: 36382.6301\n",
      "Epoch 688/1000\n",
      "1168/1168 [==============================] - 0s 347us/step - loss: 19238.3446 - val_loss: 36987.1449\n",
      "Epoch 689/1000\n",
      "1168/1168 [==============================] - 0s 329us/step - loss: 18247.3691 - val_loss: 35634.7570\n",
      "Epoch 690/1000\n",
      "1168/1168 [==============================] - 0s 252us/step - loss: 18875.3208 - val_loss: 35647.1145\n",
      "Epoch 691/1000\n",
      "1168/1168 [==============================] - 0s 315us/step - loss: 18266.3094 - val_loss: 34902.1450\n",
      "Epoch 692/1000\n",
      "1168/1168 [==============================] - 0s 333us/step - loss: 17838.6109 - val_loss: 36196.6700\n",
      "Epoch 693/1000\n",
      "1168/1168 [==============================] - 0s 236us/step - loss: 18587.8545 - val_loss: 36254.9996\n",
      "Epoch 694/1000\n",
      "1168/1168 [==============================] - 0s 216us/step - loss: 18182.4091 - val_loss: 39312.1166\n",
      "Epoch 695/1000\n",
      "1168/1168 [==============================] - 0s 221us/step - loss: 18872.2074 - val_loss: 35060.7451\n",
      "Epoch 696/1000\n",
      "1168/1168 [==============================] - 0s 202us/step - loss: 17998.4401 - val_loss: 35387.8521\n",
      "Epoch 697/1000\n",
      "1168/1168 [==============================] - 0s 202us/step - loss: 18848.4459 - val_loss: 36077.1795\n",
      "Epoch 698/1000\n",
      "1168/1168 [==============================] - 0s 206us/step - loss: 18449.2352 - val_loss: 35585.2206\n",
      "Epoch 699/1000\n",
      "1168/1168 [==============================] - 0s 218us/step - loss: 18728.0180 - val_loss: 36048.1500\n",
      "Epoch 700/1000\n",
      "1168/1168 [==============================] - 0s 201us/step - loss: 18105.0561 - val_loss: 35621.2897\n",
      "Epoch 701/1000\n",
      "1168/1168 [==============================] - 0s 205us/step - loss: 18360.6411 - val_loss: 38078.9965\n",
      "Epoch 702/1000\n",
      "1168/1168 [==============================] - 0s 241us/step - loss: 17708.6873 - val_loss: 35576.8609\n",
      "Epoch 703/1000\n",
      "1168/1168 [==============================] - 0s 218us/step - loss: 18656.3720 - val_loss: 37128.3154\n",
      "Epoch 704/1000\n",
      "1168/1168 [==============================] - 0s 295us/step - loss: 19470.9822 - val_loss: 36077.3384\n",
      "Epoch 705/1000\n",
      "1168/1168 [==============================] - 0s 211us/step - loss: 18457.9787 - val_loss: 34670.1554\n",
      "Epoch 706/1000\n"
     ]
    },
    {
     "name": "stdout",
     "output_type": "stream",
     "text": [
      "1168/1168 [==============================] - 0s 203us/step - loss: 18502.2772 - val_loss: 34694.2515\n",
      "Epoch 707/1000\n",
      "1168/1168 [==============================] - 0s 276us/step - loss: 18525.9686 - val_loss: 34754.8004\n",
      "Epoch 708/1000\n",
      "1168/1168 [==============================] - 0s 227us/step - loss: 18450.2630 - val_loss: 34704.4731\n",
      "Epoch 709/1000\n",
      "1168/1168 [==============================] - 0s 225us/step - loss: 17916.0576 - val_loss: 35212.8010\n",
      "Epoch 710/1000\n",
      "1168/1168 [==============================] - 0s 226us/step - loss: 18346.3062 - val_loss: 36060.8519\n",
      "Epoch 711/1000\n",
      "1168/1168 [==============================] - 0s 252us/step - loss: 18165.0640 - val_loss: 37586.9227\n",
      "Epoch 712/1000\n",
      "1168/1168 [==============================] - 0s 280us/step - loss: 17640.2309 - val_loss: 36220.9604\n",
      "Epoch 713/1000\n",
      "1168/1168 [==============================] - 0s 303us/step - loss: 18287.2038 - val_loss: 35911.0954\n",
      "Epoch 714/1000\n",
      "1168/1168 [==============================] - 0s 275us/step - loss: 18168.8062 - val_loss: 36961.4874\n",
      "Epoch 715/1000\n",
      "1168/1168 [==============================] - 0s 307us/step - loss: 18502.8212 - val_loss: 34977.7229\n",
      "Epoch 716/1000\n",
      "1168/1168 [==============================] - 0s 210us/step - loss: 17847.0401 - val_loss: 36387.8527\n",
      "Epoch 717/1000\n",
      "1168/1168 [==============================] - 0s 213us/step - loss: 17410.7918 - val_loss: 35475.3580\n",
      "Epoch 718/1000\n",
      "1168/1168 [==============================] - 0s 205us/step - loss: 18674.4074 - val_loss: 35439.4178\n",
      "Epoch 719/1000\n",
      "1168/1168 [==============================] - 0s 206us/step - loss: 17927.5109 - val_loss: 35692.5348\n",
      "Epoch 720/1000\n",
      "1168/1168 [==============================] - 0s 207us/step - loss: 19174.1175 - val_loss: 35217.4698\n",
      "Epoch 721/1000\n",
      "1168/1168 [==============================] - 0s 246us/step - loss: 18079.4330 - val_loss: 34763.0304\n",
      "Epoch 722/1000\n",
      "1168/1168 [==============================] - 0s 349us/step - loss: 18195.5827 - val_loss: 36015.4929\n",
      "Epoch 723/1000\n",
      "1168/1168 [==============================] - 0s 247us/step - loss: 17961.6947 - val_loss: 35154.6405\n",
      "Epoch 724/1000\n",
      "1168/1168 [==============================] - 0s 229us/step - loss: 17830.9873 - val_loss: 35499.3231\n",
      "Epoch 725/1000\n",
      "1168/1168 [==============================] - 0s 219us/step - loss: 18355.1642 - val_loss: 34967.5494\n",
      "Epoch 726/1000\n",
      "1168/1168 [==============================] - 0s 205us/step - loss: 17799.0155 - val_loss: 36116.0188\n",
      "Epoch 727/1000\n",
      "1168/1168 [==============================] - 0s 263us/step - loss: 17787.6212 - val_loss: 37326.7561\n",
      "Epoch 728/1000\n",
      "1168/1168 [==============================] - 0s 330us/step - loss: 18531.3354 - val_loss: 35861.6789\n",
      "Epoch 729/1000\n",
      "1168/1168 [==============================] - 0s 214us/step - loss: 18032.8247 - val_loss: 34478.3806\n",
      "Epoch 730/1000\n",
      "1168/1168 [==============================] - 0s 232us/step - loss: 17915.4040 - val_loss: 35065.8245\n",
      "Epoch 731/1000\n",
      "1168/1168 [==============================] - 0s 290us/step - loss: 18674.9945 - val_loss: 35279.7921\n",
      "Epoch 732/1000\n",
      "1168/1168 [==============================] - 0s 255us/step - loss: 18420.2235 - val_loss: 34944.7406\n",
      "Epoch 733/1000\n",
      "1168/1168 [==============================] - 0s 260us/step - loss: 18012.8108 - val_loss: 34271.5157\n",
      "Epoch 734/1000\n",
      "1168/1168 [==============================] - 0s 233us/step - loss: 17968.8012 - val_loss: 35207.9869\n",
      "Epoch 735/1000\n",
      "1168/1168 [==============================] - 0s 312us/step - loss: 18166.7177 - val_loss: 36227.7464\n",
      "Epoch 736/1000\n",
      "1168/1168 [==============================] - 0s 212us/step - loss: 17623.3935 - val_loss: 35660.8303\n",
      "Epoch 737/1000\n",
      "1168/1168 [==============================] - 0s 216us/step - loss: 17892.3382 - val_loss: 35607.6085\n",
      "Epoch 738/1000\n",
      "1168/1168 [==============================] - 0s 206us/step - loss: 18538.4584 - val_loss: 34959.9645\n",
      "Epoch 739/1000\n",
      "1168/1168 [==============================] - 0s 220us/step - loss: 17515.5634 - val_loss: 35402.2412\n",
      "Epoch 740/1000\n",
      "1168/1168 [==============================] - 0s 205us/step - loss: 18220.3134 - val_loss: 35823.2976\n",
      "Epoch 741/1000\n",
      "1168/1168 [==============================] - 0s 220us/step - loss: 17579.7000 - val_loss: 34432.0223\n",
      "Epoch 742/1000\n",
      "1168/1168 [==============================] - 0s 277us/step - loss: 17573.5329 - val_loss: 34783.7867\n",
      "Epoch 743/1000\n",
      "1168/1168 [==============================] - 0s 244us/step - loss: 18162.1112 - val_loss: 34686.7343\n",
      "Epoch 744/1000\n",
      "1168/1168 [==============================] - 0s 245us/step - loss: 17787.0721 - val_loss: 35324.2488\n",
      "Epoch 745/1000\n",
      "1168/1168 [==============================] - 0s 298us/step - loss: 18253.8590 - val_loss: 36249.8263\n",
      "Epoch 746/1000\n",
      "1168/1168 [==============================] - 0s 223us/step - loss: 17742.7087 - val_loss: 35762.3216\n",
      "Epoch 747/1000\n",
      "1168/1168 [==============================] - 0s 280us/step - loss: 18242.2133 - val_loss: 34990.8053\n",
      "Epoch 748/1000\n",
      "1168/1168 [==============================] - 0s 283us/step - loss: 17353.6979 - val_loss: 36943.2750\n",
      "Epoch 749/1000\n",
      "1168/1168 [==============================] - 0s 299us/step - loss: 18027.7402 - val_loss: 35128.6392\n",
      "Epoch 750/1000\n",
      "1168/1168 [==============================] - 0s 209us/step - loss: 19090.3458 - val_loss: 34576.9646\n",
      "Epoch 751/1000\n",
      "1168/1168 [==============================] - 0s 217us/step - loss: 17590.9528 - val_loss: 34370.8393\n",
      "Epoch 752/1000\n",
      "1168/1168 [==============================] - 0s 252us/step - loss: 18448.0539 - val_loss: 36916.3042\n",
      "Epoch 753/1000\n",
      "1168/1168 [==============================] - 0s 270us/step - loss: 17597.1890 - val_loss: 34759.6814\n",
      "Epoch 754/1000\n",
      "1168/1168 [==============================] - 0s 265us/step - loss: 18434.1423 - val_loss: 35263.9173\n",
      "Epoch 755/1000\n",
      "1168/1168 [==============================] - 0s 294us/step - loss: 17574.7289 - val_loss: 37816.9420\n",
      "Epoch 756/1000\n",
      "1168/1168 [==============================] - 0s 276us/step - loss: 18195.2347 - val_loss: 34664.3320\n",
      "Epoch 757/1000\n",
      "1168/1168 [==============================] - 0s 258us/step - loss: 17301.0047 - val_loss: 35417.9249\n",
      "Epoch 758/1000\n",
      "1168/1168 [==============================] - 0s 268us/step - loss: 17592.8085 - val_loss: 34826.7301\n",
      "Epoch 759/1000\n",
      "1168/1168 [==============================] - 0s 210us/step - loss: 17784.5678 - val_loss: 34414.6265\n",
      "Epoch 760/1000\n",
      "1168/1168 [==============================] - 0s 231us/step - loss: 17252.3689 - val_loss: 35364.9334\n",
      "Epoch 761/1000\n",
      "1168/1168 [==============================] - 0s 231us/step - loss: 17079.1919 - val_loss: 35733.1623\n",
      "Epoch 762/1000\n",
      "1168/1168 [==============================] - 0s 229us/step - loss: 17282.3861 - val_loss: 34897.6365\n",
      "Epoch 763/1000\n",
      "1168/1168 [==============================] - 0s 205us/step - loss: 17603.2149 - val_loss: 35374.9941\n",
      "Epoch 764/1000\n",
      "1168/1168 [==============================] - 0s 209us/step - loss: 17285.5119 - val_loss: 35404.5500\n",
      "Epoch 765/1000\n",
      "1168/1168 [==============================] - 0s 217us/step - loss: 17375.2112 - val_loss: 37056.0336\n",
      "Epoch 766/1000\n",
      "1168/1168 [==============================] - 0s 224us/step - loss: 17251.7374 - val_loss: 36725.5117\n",
      "Epoch 767/1000\n",
      "1168/1168 [==============================] - 0s 226us/step - loss: 17290.4451 - val_loss: 36075.0663\n",
      "Epoch 768/1000\n",
      "1168/1168 [==============================] - 0s 217us/step - loss: 17362.0235 - val_loss: 34845.5614\n",
      "Epoch 769/1000\n",
      "1168/1168 [==============================] - 0s 222us/step - loss: 18349.7376 - val_loss: 35638.3102\n",
      "Epoch 770/1000\n",
      "1168/1168 [==============================] - 0s 228us/step - loss: 17564.6652 - val_loss: 34466.5098\n",
      "Epoch 771/1000\n",
      "1168/1168 [==============================] - 0s 237us/step - loss: 17376.1913 - val_loss: 34290.3294\n",
      "Epoch 772/1000\n",
      "1168/1168 [==============================] - 0s 265us/step - loss: 17768.8917 - val_loss: 36264.5515\n",
      "Epoch 773/1000\n",
      "1168/1168 [==============================] - 0s 239us/step - loss: 17518.5546 - val_loss: 35276.8055\n",
      "Epoch 774/1000\n",
      "1168/1168 [==============================] - 0s 246us/step - loss: 17906.5879 - val_loss: 35422.0800\n",
      "Epoch 775/1000\n",
      "1168/1168 [==============================] - 0s 246us/step - loss: 17280.8806 - val_loss: 34615.7445\n",
      "Epoch 776/1000\n",
      "1168/1168 [==============================] - 0s 289us/step - loss: 17436.8087 - val_loss: 34973.6628\n"
     ]
    },
    {
     "name": "stdout",
     "output_type": "stream",
     "text": [
      "Epoch 777/1000\n",
      "1168/1168 [==============================] - 0s 236us/step - loss: 17504.4585 - val_loss: 37207.1553\n",
      "Epoch 778/1000\n",
      "1168/1168 [==============================] - 0s 221us/step - loss: 17369.2250 - val_loss: 35399.4821\n",
      "Epoch 779/1000\n",
      "1168/1168 [==============================] - 0s 211us/step - loss: 17007.9615 - val_loss: 34514.7311\n",
      "Epoch 780/1000\n",
      "1168/1168 [==============================] - 0s 223us/step - loss: 18392.6275 - val_loss: 36244.9615\n",
      "Epoch 781/1000\n",
      "1168/1168 [==============================] - 0s 222us/step - loss: 18278.1522 - val_loss: 35056.1941\n",
      "Epoch 782/1000\n",
      "1168/1168 [==============================] - 0s 235us/step - loss: 17988.1575 - val_loss: 34483.0482\n",
      "Epoch 783/1000\n",
      "1168/1168 [==============================] - 0s 246us/step - loss: 17548.0957 - val_loss: 36176.7438\n",
      "Epoch 784/1000\n",
      "1168/1168 [==============================] - 0s 215us/step - loss: 17001.0959 - val_loss: 35530.6050\n",
      "Epoch 785/1000\n",
      "1168/1168 [==============================] - 0s 224us/step - loss: 17167.9429 - val_loss: 35086.4075\n",
      "Epoch 786/1000\n",
      "1168/1168 [==============================] - 0s 213us/step - loss: 17637.8981 - val_loss: 34657.4166\n",
      "Epoch 787/1000\n",
      "1168/1168 [==============================] - 0s 215us/step - loss: 18582.4228 - val_loss: 34793.7336\n",
      "Epoch 788/1000\n",
      "1168/1168 [==============================] - 0s 200us/step - loss: 16903.2351 - val_loss: 34304.1685\n",
      "Epoch 789/1000\n",
      "1168/1168 [==============================] - 0s 201us/step - loss: 16950.6882 - val_loss: 34583.6256\n",
      "Epoch 790/1000\n",
      "1168/1168 [==============================] - 0s 209us/step - loss: 17749.7754 - val_loss: 34575.8993\n",
      "Epoch 791/1000\n",
      "1168/1168 [==============================] - 0s 217us/step - loss: 17392.5139 - val_loss: 34780.5671\n",
      "Epoch 792/1000\n",
      "1168/1168 [==============================] - 0s 201us/step - loss: 17344.2481 - val_loss: 34967.9590\n",
      "Epoch 793/1000\n",
      "1168/1168 [==============================] - 0s 211us/step - loss: 17119.1084 - val_loss: 36826.8410\n",
      "Epoch 794/1000\n",
      "1168/1168 [==============================] - 0s 208us/step - loss: 17322.4405 - val_loss: 36648.9215\n",
      "Epoch 795/1000\n",
      "1168/1168 [==============================] - 0s 215us/step - loss: 17470.9838 - val_loss: 34881.2722\n",
      "Epoch 796/1000\n",
      "1168/1168 [==============================] - 0s 203us/step - loss: 17025.1087 - val_loss: 34597.5856\n",
      "Epoch 797/1000\n",
      "1168/1168 [==============================] - 0s 209us/step - loss: 17430.7105 - val_loss: 35266.2242\n",
      "Epoch 798/1000\n",
      "1168/1168 [==============================] - 0s 208us/step - loss: 17492.5886 - val_loss: 35420.3276\n",
      "Epoch 799/1000\n",
      "1168/1168 [==============================] - 0s 216us/step - loss: 17066.2083 - val_loss: 34162.4593\n",
      "Epoch 800/1000\n",
      "1168/1168 [==============================] - 0s 205us/step - loss: 17055.4693 - val_loss: 35391.8832\n",
      "Epoch 801/1000\n",
      "1168/1168 [==============================] - 0s 205us/step - loss: 17451.2223 - val_loss: 36413.3088\n",
      "Epoch 802/1000\n",
      "1168/1168 [==============================] - 0s 208us/step - loss: 17675.4681 - val_loss: 34390.1144\n",
      "Epoch 803/1000\n",
      "1168/1168 [==============================] - 0s 213us/step - loss: 17367.0728 - val_loss: 35768.7369\n",
      "Epoch 804/1000\n",
      "1168/1168 [==============================] - 0s 207us/step - loss: 18267.6748 - val_loss: 34676.4352\n",
      "Epoch 805/1000\n",
      "1168/1168 [==============================] - 0s 207us/step - loss: 17252.0193 - val_loss: 37044.7826\n",
      "Epoch 806/1000\n",
      "1168/1168 [==============================] - 0s 205us/step - loss: 17905.9938 - val_loss: 35135.8550\n",
      "Epoch 807/1000\n",
      "1168/1168 [==============================] - 0s 213us/step - loss: 17292.6580 - val_loss: 35961.7798\n",
      "Epoch 808/1000\n",
      "1168/1168 [==============================] - 0s 206us/step - loss: 18302.5748 - val_loss: 35022.0681\n",
      "Epoch 809/1000\n",
      "1168/1168 [==============================] - 0s 207us/step - loss: 17122.4369 - val_loss: 34413.4303\n",
      "Epoch 810/1000\n",
      "1168/1168 [==============================] - 0s 211us/step - loss: 17481.5028 - val_loss: 37443.9429\n",
      "Epoch 811/1000\n",
      "1168/1168 [==============================] - 0s 217us/step - loss: 17607.6344 - val_loss: 35578.6633\n",
      "Epoch 812/1000\n",
      "1168/1168 [==============================] - 0s 223us/step - loss: 17339.2067 - val_loss: 35191.4018\n",
      "Epoch 813/1000\n",
      "1168/1168 [==============================] - 0s 203us/step - loss: 17170.1514 - val_loss: 34292.5675\n",
      "Epoch 814/1000\n",
      "1168/1168 [==============================] - 0s 211us/step - loss: 16590.4530 - val_loss: 35942.7810\n",
      "Epoch 815/1000\n",
      "1168/1168 [==============================] - 0s 232us/step - loss: 16932.9206 - val_loss: 34183.3212\n",
      "Epoch 816/1000\n",
      "1168/1168 [==============================] - 0s 199us/step - loss: 16615.8450 - val_loss: 35196.2012\n",
      "Epoch 817/1000\n",
      "1168/1168 [==============================] - 0s 202us/step - loss: 16958.0638 - val_loss: 33927.1451\n",
      "Epoch 818/1000\n",
      "1168/1168 [==============================] - 0s 223us/step - loss: 16845.4893 - val_loss: 35145.7030\n",
      "Epoch 819/1000\n",
      "1168/1168 [==============================] - 0s 230us/step - loss: 16758.4171 - val_loss: 34583.6731\n",
      "Epoch 820/1000\n",
      "1168/1168 [==============================] - 0s 229us/step - loss: 17104.6411 - val_loss: 33888.1837\n",
      "Epoch 821/1000\n",
      "1168/1168 [==============================] - 0s 231us/step - loss: 16780.9146 - val_loss: 34447.5252\n",
      "Epoch 822/1000\n",
      "1168/1168 [==============================] - 0s 211us/step - loss: 17880.4472 - val_loss: 34382.5653\n",
      "Epoch 823/1000\n",
      "1168/1168 [==============================] - 0s 216us/step - loss: 17849.6780 - val_loss: 34367.0932\n",
      "Epoch 824/1000\n",
      "1168/1168 [==============================] - 0s 223us/step - loss: 16611.6393 - val_loss: 34130.4110\n",
      "Epoch 825/1000\n",
      "1168/1168 [==============================] - 0s 229us/step - loss: 16727.9286 - val_loss: 34279.1708\n",
      "Epoch 826/1000\n",
      "1168/1168 [==============================] - 0s 222us/step - loss: 17283.6787 - val_loss: 34071.1377\n",
      "Epoch 827/1000\n",
      "1168/1168 [==============================] - 0s 217us/step - loss: 16579.6776 - val_loss: 33807.4859\n",
      "Epoch 828/1000\n",
      "1168/1168 [==============================] - 0s 211us/step - loss: 17065.5901 - val_loss: 33939.9193\n",
      "Epoch 829/1000\n",
      "1168/1168 [==============================] - 0s 221us/step - loss: 16806.8605 - val_loss: 34684.9243\n",
      "Epoch 830/1000\n",
      "1168/1168 [==============================] - 0s 227us/step - loss: 17303.6062 - val_loss: 34123.2012\n",
      "Epoch 831/1000\n",
      "1168/1168 [==============================] - 0s 230us/step - loss: 17172.2089 - val_loss: 34400.6889\n",
      "Epoch 832/1000\n",
      "1168/1168 [==============================] - 0s 203us/step - loss: 16945.1161 - val_loss: 36535.0723\n",
      "Epoch 833/1000\n",
      "1168/1168 [==============================] - 0s 215us/step - loss: 16498.4001 - val_loss: 34583.6574\n",
      "Epoch 834/1000\n",
      "1168/1168 [==============================] - 0s 218us/step - loss: 17134.1396 - val_loss: 35810.2617\n",
      "Epoch 835/1000\n",
      "1168/1168 [==============================] - 0s 225us/step - loss: 16683.4881 - val_loss: 34513.3993\n",
      "Epoch 836/1000\n",
      "1168/1168 [==============================] - 0s 230us/step - loss: 16739.4986 - val_loss: 34014.6690\n",
      "Epoch 837/1000\n",
      "1168/1168 [==============================] - 0s 221us/step - loss: 16736.9860 - val_loss: 33769.2634\n",
      "Epoch 838/1000\n",
      "1168/1168 [==============================] - 0s 219us/step - loss: 17237.8616 - val_loss: 35755.8240\n",
      "Epoch 839/1000\n",
      "1168/1168 [==============================] - 0s 229us/step - loss: 16948.3941 - val_loss: 33646.7277\n",
      "Epoch 840/1000\n",
      "1168/1168 [==============================] - 0s 224us/step - loss: 16417.7473 - val_loss: 37155.9154\n",
      "Epoch 841/1000\n",
      "1168/1168 [==============================] - 0s 218us/step - loss: 17272.5557 - val_loss: 35763.9829\n",
      "Epoch 842/1000\n",
      "1168/1168 [==============================] - 0s 237us/step - loss: 16694.6234 - val_loss: 34178.5993\n",
      "Epoch 843/1000\n",
      "1168/1168 [==============================] - 0s 213us/step - loss: 16920.1086 - val_loss: 34191.3778\n",
      "Epoch 844/1000\n",
      "1168/1168 [==============================] - 0s 218us/step - loss: 16523.0420 - val_loss: 35378.1346\n",
      "Epoch 845/1000\n",
      "1168/1168 [==============================] - 0s 208us/step - loss: 16902.0551 - val_loss: 34641.0368\n",
      "Epoch 846/1000\n",
      "1168/1168 [==============================] - 0s 214us/step - loss: 16422.8751 - val_loss: 34060.3153\n",
      "Epoch 847/1000\n"
     ]
    },
    {
     "name": "stdout",
     "output_type": "stream",
     "text": [
      "1168/1168 [==============================] - 0s 222us/step - loss: 16434.4567 - val_loss: 33922.4843\n",
      "Epoch 848/1000\n",
      "1168/1168 [==============================] - 0s 223us/step - loss: 16541.1288 - val_loss: 33585.9401\n",
      "Epoch 849/1000\n",
      "1168/1168 [==============================] - 0s 209us/step - loss: 16154.8599 - val_loss: 34371.9829\n",
      "Epoch 850/1000\n",
      "1168/1168 [==============================] - 0s 245us/step - loss: 16587.4803 - val_loss: 33831.4193\n",
      "Epoch 851/1000\n",
      "1168/1168 [==============================] - 0s 234us/step - loss: 17441.7253 - val_loss: 33389.5365\n",
      "Epoch 852/1000\n",
      "1168/1168 [==============================] - 0s 217us/step - loss: 17510.5628 - val_loss: 34198.2239\n",
      "Epoch 853/1000\n",
      "1168/1168 [==============================] - 0s 199us/step - loss: 16224.3358 - val_loss: 34274.8994\n",
      "Epoch 854/1000\n",
      "1168/1168 [==============================] - 0s 217us/step - loss: 16553.7725 - val_loss: 33721.0677\n",
      "Epoch 855/1000\n",
      "1168/1168 [==============================] - 0s 207us/step - loss: 16837.2426 - val_loss: 34297.7370\n",
      "Epoch 856/1000\n",
      "1168/1168 [==============================] - 0s 205us/step - loss: 16746.1554 - val_loss: 35651.5015\n",
      "Epoch 857/1000\n",
      "1168/1168 [==============================] - 0s 207us/step - loss: 16460.2271 - val_loss: 34638.5734\n",
      "Epoch 858/1000\n",
      "1168/1168 [==============================] - 0s 216us/step - loss: 16111.1388 - val_loss: 34576.8115\n",
      "Epoch 859/1000\n",
      "1168/1168 [==============================] - 0s 201us/step - loss: 16891.4723 - val_loss: 34987.0847\n",
      "Epoch 860/1000\n",
      "1168/1168 [==============================] - 0s 219us/step - loss: 16163.8797 - val_loss: 35191.9206\n",
      "Epoch 861/1000\n",
      "1168/1168 [==============================] - 0s 208us/step - loss: 17688.7080 - val_loss: 34134.6566\n",
      "Epoch 862/1000\n",
      "1168/1168 [==============================] - 0s 233us/step - loss: 15916.8543 - val_loss: 34085.5518\n",
      "Epoch 863/1000\n",
      "1168/1168 [==============================] - 0s 207us/step - loss: 16475.7269 - val_loss: 34384.2036\n",
      "Epoch 864/1000\n",
      "1168/1168 [==============================] - 0s 209us/step - loss: 16117.3266 - val_loss: 33356.8802\n",
      "Epoch 865/1000\n",
      "1168/1168 [==============================] - 0s 203us/step - loss: 16230.3809 - val_loss: 33942.0177\n",
      "Epoch 866/1000\n",
      "1168/1168 [==============================] - 0s 217us/step - loss: 18198.4388 - val_loss: 37155.5382\n",
      "Epoch 867/1000\n",
      "1168/1168 [==============================] - 0s 200us/step - loss: 16757.0691 - val_loss: 33857.5447\n",
      "Epoch 868/1000\n",
      "1168/1168 [==============================] - 0s 203us/step - loss: 16608.6213 - val_loss: 35977.9914\n",
      "Epoch 869/1000\n",
      "1168/1168 [==============================] - 0s 211us/step - loss: 16747.5038 - val_loss: 34279.1010\n",
      "Epoch 870/1000\n",
      "1168/1168 [==============================] - 0s 218us/step - loss: 17369.6001 - val_loss: 34636.9864\n",
      "Epoch 871/1000\n",
      "1168/1168 [==============================] - 0s 200us/step - loss: 16716.6064 - val_loss: 34278.9868\n",
      "Epoch 872/1000\n",
      "1168/1168 [==============================] - 0s 208us/step - loss: 16669.5113 - val_loss: 33336.7696\n",
      "Epoch 873/1000\n",
      "1168/1168 [==============================] - 0s 222us/step - loss: 16653.7182 - val_loss: 36044.9528\n",
      "Epoch 874/1000\n",
      "1168/1168 [==============================] - 0s 221us/step - loss: 16437.2326 - val_loss: 35148.3601\n",
      "Epoch 875/1000\n",
      "1168/1168 [==============================] - 0s 217us/step - loss: 16605.4073 - val_loss: 34552.3009\n",
      "Epoch 876/1000\n",
      "1168/1168 [==============================] - 0s 202us/step - loss: 16921.0543 - val_loss: 34076.7025\n",
      "Epoch 877/1000\n",
      "1168/1168 [==============================] - 0s 206us/step - loss: 17089.4618 - val_loss: 34611.8314\n",
      "Epoch 878/1000\n",
      "1168/1168 [==============================] - 0s 218us/step - loss: 16568.7906 - val_loss: 33764.3750\n",
      "Epoch 879/1000\n",
      "1168/1168 [==============================] - 0s 207us/step - loss: 16524.8097 - val_loss: 34843.6622\n",
      "Epoch 880/1000\n",
      "1168/1168 [==============================] - 0s 206us/step - loss: 16667.7283 - val_loss: 37074.9384\n",
      "Epoch 881/1000\n",
      "1168/1168 [==============================] - 0s 207us/step - loss: 17559.2984 - val_loss: 34189.8431\n",
      "Epoch 882/1000\n",
      "1168/1168 [==============================] - 0s 213us/step - loss: 16454.8939 - val_loss: 34219.3923\n",
      "Epoch 883/1000\n",
      "1168/1168 [==============================] - 0s 213us/step - loss: 16324.0880 - val_loss: 33134.0911\n",
      "Epoch 884/1000\n",
      "1168/1168 [==============================] - 0s 201us/step - loss: 18071.7916 - val_loss: 35466.1308\n",
      "Epoch 885/1000\n",
      "1168/1168 [==============================] - 0s 202us/step - loss: 17009.4055 - val_loss: 39596.7481\n",
      "Epoch 886/1000\n",
      "1168/1168 [==============================] - 0s 216us/step - loss: 17777.5527 - val_loss: 34112.3760\n",
      "Epoch 887/1000\n",
      "1168/1168 [==============================] - 0s 204us/step - loss: 17709.1764 - val_loss: 33715.2250\n",
      "Epoch 888/1000\n",
      "1168/1168 [==============================] - 0s 215us/step - loss: 16571.3491 - val_loss: 33890.4472\n",
      "Epoch 889/1000\n",
      "1168/1168 [==============================] - 0s 233us/step - loss: 17119.5061 - val_loss: 34184.4464\n",
      "Epoch 890/1000\n",
      "1168/1168 [==============================] - 0s 223us/step - loss: 16709.3238 - val_loss: 33238.1210\n",
      "Epoch 891/1000\n",
      "1168/1168 [==============================] - 0s 203us/step - loss: 16364.4102 - val_loss: 34480.3501\n",
      "Epoch 892/1000\n",
      "1168/1168 [==============================] - 0s 208us/step - loss: 15869.5153 - val_loss: 35522.6247\n",
      "Epoch 893/1000\n",
      "1168/1168 [==============================] - 0s 217us/step - loss: 16523.7472 - val_loss: 33065.4110\n",
      "Epoch 894/1000\n",
      "1168/1168 [==============================] - 0s 241us/step - loss: 16276.6553 - val_loss: 32777.0936\n",
      "Epoch 895/1000\n",
      "1168/1168 [==============================] - 0s 223us/step - loss: 16575.7719 - val_loss: 33521.8905\n",
      "Epoch 896/1000\n",
      "1168/1168 [==============================] - 0s 209us/step - loss: 16141.8869 - val_loss: 33483.8731\n",
      "Epoch 897/1000\n",
      "1168/1168 [==============================] - 0s 202us/step - loss: 17217.4830 - val_loss: 33415.0886\n",
      "Epoch 898/1000\n",
      "1168/1168 [==============================] - 0s 222us/step - loss: 16061.8447 - val_loss: 34291.7472\n",
      "Epoch 899/1000\n",
      "1168/1168 [==============================] - 0s 204us/step - loss: 16411.3839 - val_loss: 36312.9730\n",
      "Epoch 900/1000\n",
      "1168/1168 [==============================] - 0s 215us/step - loss: 16161.4052 - val_loss: 33978.8596\n",
      "Epoch 901/1000\n",
      "1168/1168 [==============================] - 0s 230us/step - loss: 16365.8232 - val_loss: 37489.0592\n",
      "Epoch 902/1000\n",
      "1168/1168 [==============================] - 0s 234us/step - loss: 17013.6401 - val_loss: 33330.3470\n",
      "Epoch 903/1000\n",
      "1168/1168 [==============================] - 0s 219us/step - loss: 16128.0830 - val_loss: 34532.0148\n",
      "Epoch 904/1000\n",
      "1168/1168 [==============================] - 0s 208us/step - loss: 16202.4839 - val_loss: 35474.7315\n",
      "Epoch 905/1000\n",
      "1168/1168 [==============================] - 0s 208us/step - loss: 16094.9295 - val_loss: 33765.0515\n",
      "Epoch 906/1000\n",
      "1168/1168 [==============================] - 0s 222us/step - loss: 15718.3985 - val_loss: 33545.2827\n",
      "Epoch 907/1000\n",
      "1168/1168 [==============================] - 0s 206us/step - loss: 15628.0790 - val_loss: 33120.5181\n",
      "Epoch 908/1000\n",
      "1168/1168 [==============================] - 0s 215us/step - loss: 16121.4231 - val_loss: 33456.9363\n",
      "Epoch 909/1000\n",
      "1168/1168 [==============================] - 0s 216us/step - loss: 16811.5583 - val_loss: 34221.5226\n",
      "Epoch 910/1000\n",
      "1168/1168 [==============================] - 0s 235us/step - loss: 16485.7999 - val_loss: 33454.1221\n",
      "Epoch 911/1000\n",
      "1168/1168 [==============================] - 0s 227us/step - loss: 16278.2539 - val_loss: 35383.2873\n",
      "Epoch 912/1000\n",
      "1168/1168 [==============================] - 0s 223us/step - loss: 16177.8503 - val_loss: 33804.4550\n",
      "Epoch 913/1000\n",
      "1168/1168 [==============================] - 0s 229us/step - loss: 16457.8235 - val_loss: 32759.7880\n",
      "Epoch 914/1000\n",
      "1168/1168 [==============================] - 0s 236us/step - loss: 16196.5284 - val_loss: 33140.8100\n",
      "Epoch 915/1000\n",
      "1168/1168 [==============================] - 0s 226us/step - loss: 17629.4665 - val_loss: 33713.0210\n",
      "Epoch 916/1000\n",
      "1168/1168 [==============================] - 0s 238us/step - loss: 16158.9248 - val_loss: 33139.2543\n",
      "Epoch 917/1000\n"
     ]
    },
    {
     "name": "stdout",
     "output_type": "stream",
     "text": [
      "1168/1168 [==============================] - 0s 227us/step - loss: 15881.9761 - val_loss: 33915.2281\n",
      "Epoch 918/1000\n",
      "1168/1168 [==============================] - 0s 220us/step - loss: 15712.5647 - val_loss: 34131.4682\n",
      "Epoch 919/1000\n",
      "1168/1168 [==============================] - 0s 206us/step - loss: 15577.4498 - val_loss: 32857.9016\n",
      "Epoch 920/1000\n",
      "1168/1168 [==============================] - 0s 216us/step - loss: 16288.1482 - val_loss: 34496.3111\n",
      "Epoch 921/1000\n",
      "1168/1168 [==============================] - 0s 230us/step - loss: 17005.1444 - val_loss: 33429.2818\n",
      "Epoch 922/1000\n",
      "1168/1168 [==============================] - 0s 209us/step - loss: 16035.9459 - val_loss: 33715.2359\n",
      "Epoch 923/1000\n",
      "1168/1168 [==============================] - 0s 216us/step - loss: 16077.4469 - val_loss: 35256.7007\n",
      "Epoch 924/1000\n",
      "1168/1168 [==============================] - 0s 213us/step - loss: 16073.2591 - val_loss: 34569.9145\n",
      "Epoch 925/1000\n",
      "1168/1168 [==============================] - 0s 225us/step - loss: 16746.8638 - val_loss: 35550.8119\n",
      "Epoch 926/1000\n",
      "1168/1168 [==============================] - 0s 229us/step - loss: 16016.5742 - val_loss: 33784.8385\n",
      "Epoch 927/1000\n",
      "1168/1168 [==============================] - 0s 212us/step - loss: 15817.7265 - val_loss: 33466.8348\n",
      "Epoch 928/1000\n",
      "1168/1168 [==============================] - 0s 210us/step - loss: 16428.1853 - val_loss: 35470.2247\n",
      "Epoch 929/1000\n",
      "1168/1168 [==============================] - 0s 241us/step - loss: 15954.8400 - val_loss: 34329.9859\n",
      "Epoch 930/1000\n",
      "1168/1168 [==============================] - 0s 214us/step - loss: 16340.5323 - val_loss: 33409.1631\n",
      "Epoch 931/1000\n",
      "1168/1168 [==============================] - 0s 211us/step - loss: 15640.1516 - val_loss: 34247.0613\n",
      "Epoch 932/1000\n",
      "1168/1168 [==============================] - 0s 235us/step - loss: 16211.8219 - val_loss: 36484.0712\n",
      "Epoch 933/1000\n",
      "1168/1168 [==============================] - 0s 229us/step - loss: 16454.9833 - val_loss: 35783.8443\n",
      "Epoch 934/1000\n",
      "1168/1168 [==============================] - 0s 220us/step - loss: 15935.5515 - val_loss: 33709.2261\n",
      "Epoch 935/1000\n",
      "1168/1168 [==============================] - 0s 217us/step - loss: 15871.9529 - val_loss: 33188.9094\n",
      "Epoch 936/1000\n",
      "1168/1168 [==============================] - 0s 205us/step - loss: 16188.3635 - val_loss: 32922.9298\n",
      "Epoch 937/1000\n",
      "1168/1168 [==============================] - 0s 215us/step - loss: 16349.7282 - val_loss: 34664.8176\n",
      "Epoch 938/1000\n",
      "1168/1168 [==============================] - 0s 202us/step - loss: 16188.2120 - val_loss: 33766.6125\n",
      "Epoch 939/1000\n",
      "1168/1168 [==============================] - 0s 211us/step - loss: 16023.4705 - val_loss: 32368.6011\n",
      "Epoch 940/1000\n",
      "1168/1168 [==============================] - 0s 224us/step - loss: 16152.1015 - val_loss: 34338.7281\n",
      "Epoch 941/1000\n",
      "1168/1168 [==============================] - 0s 211us/step - loss: 15672.2339 - val_loss: 34522.5675\n",
      "Epoch 942/1000\n",
      "1168/1168 [==============================] - 0s 216us/step - loss: 16006.0390 - val_loss: 33352.6167\n",
      "Epoch 943/1000\n",
      "1168/1168 [==============================] - 0s 209us/step - loss: 15502.3642 - val_loss: 33658.2700\n",
      "Epoch 944/1000\n",
      "1168/1168 [==============================] - 0s 231us/step - loss: 15772.0110 - val_loss: 33037.1238\n",
      "Epoch 945/1000\n",
      "1168/1168 [==============================] - 0s 226us/step - loss: 15741.9818 - val_loss: 33489.6061\n",
      "Epoch 946/1000\n",
      "1168/1168 [==============================] - 0s 214us/step - loss: 16371.2342 - val_loss: 33016.9453\n",
      "Epoch 947/1000\n",
      "1168/1168 [==============================] - 0s 226us/step - loss: 15864.5442 - val_loss: 33457.9698\n",
      "Epoch 948/1000\n",
      "1168/1168 [==============================] - 0s 217us/step - loss: 15789.6522 - val_loss: 33654.7040\n",
      "Epoch 949/1000\n",
      "1168/1168 [==============================] - 0s 207us/step - loss: 16681.6161 - val_loss: 36955.9921\n",
      "Epoch 950/1000\n",
      "1168/1168 [==============================] - 0s 209us/step - loss: 15682.6437 - val_loss: 33698.7080\n",
      "Epoch 951/1000\n",
      "1168/1168 [==============================] - 0s 222us/step - loss: 16436.0824 - val_loss: 33417.9168\n",
      "Epoch 952/1000\n",
      "1168/1168 [==============================] - 0s 218us/step - loss: 16103.3120 - val_loss: 32495.0885\n",
      "Epoch 953/1000\n",
      "1168/1168 [==============================] - 0s 212us/step - loss: 16138.1276 - val_loss: 35617.4739\n",
      "Epoch 954/1000\n",
      "1168/1168 [==============================] - 0s 212us/step - loss: 15647.5637 - val_loss: 33100.6687\n",
      "Epoch 955/1000\n",
      "1168/1168 [==============================] - 0s 213us/step - loss: 16007.0000 - val_loss: 32932.8408\n",
      "Epoch 956/1000\n",
      "1168/1168 [==============================] - 0s 227us/step - loss: 15746.6164 - val_loss: 37891.0085\n",
      "Epoch 957/1000\n",
      "1168/1168 [==============================] - 0s 205us/step - loss: 16566.4298 - val_loss: 33186.9179\n",
      "Epoch 958/1000\n",
      "1168/1168 [==============================] - 0s 211us/step - loss: 15803.3432 - val_loss: 32925.6961\n",
      "Epoch 959/1000\n",
      "1168/1168 [==============================] - 0s 235us/step - loss: 15891.6173 - val_loss: 34940.0157\n",
      "Epoch 960/1000\n",
      "1168/1168 [==============================] - 0s 225us/step - loss: 16752.5362 - val_loss: 33331.7216\n",
      "Epoch 961/1000\n",
      "1168/1168 [==============================] - 0s 209us/step - loss: 15647.2107 - val_loss: 33200.5860\n",
      "Epoch 962/1000\n",
      "1168/1168 [==============================] - 0s 209us/step - loss: 15753.8368 - val_loss: 35184.0318\n",
      "Epoch 963/1000\n",
      "1168/1168 [==============================] - 0s 234us/step - loss: 16225.2143 - val_loss: 35023.0924\n",
      "Epoch 964/1000\n",
      "1168/1168 [==============================] - 0s 238us/step - loss: 15821.3363 - val_loss: 33082.4075\n",
      "Epoch 965/1000\n",
      "1168/1168 [==============================] - 0s 209us/step - loss: 15711.6161 - val_loss: 33044.7049\n",
      "Epoch 966/1000\n",
      "1168/1168 [==============================] - 0s 206us/step - loss: 15739.1089 - val_loss: 32944.2692\n",
      "Epoch 967/1000\n",
      "1168/1168 [==============================] - 0s 228us/step - loss: 16747.8619 - val_loss: 33267.1043\n",
      "Epoch 968/1000\n",
      "1168/1168 [==============================] - 0s 239us/step - loss: 15332.7419 - val_loss: 32969.6345\n",
      "Epoch 969/1000\n",
      "1168/1168 [==============================] - 0s 217us/step - loss: 15515.6542 - val_loss: 34136.2684\n",
      "Epoch 970/1000\n",
      "1168/1168 [==============================] - 0s 225us/step - loss: 15105.9594 - val_loss: 33012.5650\n",
      "Epoch 971/1000\n",
      "1168/1168 [==============================] - 0s 223us/step - loss: 15865.4118 - val_loss: 33485.1620\n",
      "Epoch 972/1000\n",
      "1168/1168 [==============================] - 0s 229us/step - loss: 16061.0418 - val_loss: 33742.4704\n",
      "Epoch 973/1000\n",
      "1168/1168 [==============================] - 0s 209us/step - loss: 15759.6552 - val_loss: 33048.9694\n",
      "Epoch 974/1000\n",
      "1168/1168 [==============================] - 0s 229us/step - loss: 16123.2928 - val_loss: 33100.9338\n",
      "Epoch 975/1000\n",
      "1168/1168 [==============================] - 0s 237us/step - loss: 16382.0780 - val_loss: 34982.7316\n",
      "Epoch 976/1000\n",
      "1168/1168 [==============================] - 0s 220us/step - loss: 15707.8360 - val_loss: 33102.9572\n",
      "Epoch 977/1000\n",
      "1168/1168 [==============================] - 0s 219us/step - loss: 15935.0018 - val_loss: 33081.0324\n",
      "Epoch 978/1000\n",
      "1168/1168 [==============================] - 0s 229us/step - loss: 15462.9441 - val_loss: 32795.3799\n",
      "Epoch 979/1000\n",
      "1168/1168 [==============================] - 0s 232us/step - loss: 16537.3248 - val_loss: 32870.5507\n",
      "Epoch 980/1000\n",
      "1168/1168 [==============================] - 0s 207us/step - loss: 15705.4119 - val_loss: 34272.3531\n",
      "Epoch 981/1000\n",
      "1168/1168 [==============================] - 0s 223us/step - loss: 16097.9306 - val_loss: 33640.8558\n",
      "Epoch 982/1000\n",
      "1168/1168 [==============================] - 0s 223us/step - loss: 15747.7158 - val_loss: 32479.4958\n",
      "Epoch 983/1000\n",
      "1168/1168 [==============================] - 0s 232us/step - loss: 15644.2055 - val_loss: 32556.0154\n",
      "Epoch 984/1000\n",
      "1168/1168 [==============================] - 0s 229us/step - loss: 15338.7092 - val_loss: 32797.3771\n",
      "Epoch 985/1000\n",
      "1168/1168 [==============================] - 0s 228us/step - loss: 15265.2460 - val_loss: 32648.6851\n",
      "Epoch 986/1000\n",
      "1168/1168 [==============================] - 0s 205us/step - loss: 15887.5039 - val_loss: 33094.3159\n",
      "Epoch 987/1000\n",
      "1168/1168 [==============================] - 0s 243us/step - loss: 15936.7379 - val_loss: 37435.2837\n"
     ]
    },
    {
     "name": "stdout",
     "output_type": "stream",
     "text": [
      "Epoch 988/1000\n",
      "1168/1168 [==============================] - 0s 218us/step - loss: 16140.2986 - val_loss: 33021.6499\n",
      "Epoch 989/1000\n",
      "1168/1168 [==============================] - 0s 218us/step - loss: 15235.1522 - val_loss: 33270.0187\n",
      "Epoch 990/1000\n",
      "1168/1168 [==============================] - 0s 218us/step - loss: 15370.2374 - val_loss: 32649.6444\n",
      "Epoch 991/1000\n",
      "1168/1168 [==============================] - 0s 216us/step - loss: 14992.1225 - val_loss: 33783.3273\n",
      "Epoch 992/1000\n",
      "1168/1168 [==============================] - 0s 240us/step - loss: 15879.4463 - val_loss: 33726.8900\n",
      "Epoch 993/1000\n",
      "1168/1168 [==============================] - 0s 221us/step - loss: 15481.2711 - val_loss: 33458.0806\n",
      "Epoch 994/1000\n",
      "1168/1168 [==============================] - 0s 224us/step - loss: 15374.2581 - val_loss: 35188.7258\n",
      "Epoch 995/1000\n",
      "1168/1168 [==============================] - 0s 212us/step - loss: 16106.1899 - val_loss: 32665.7150\n",
      "Epoch 996/1000\n",
      "1168/1168 [==============================] - 0s 221us/step - loss: 16027.0227 - val_loss: 32374.9571\n",
      "Epoch 997/1000\n",
      "1168/1168 [==============================] - 0s 230us/step - loss: 15197.4659 - val_loss: 33035.6511\n",
      "Epoch 998/1000\n",
      "1168/1168 [==============================] - 0s 246us/step - loss: 15587.9650 - val_loss: 32933.9984\n",
      "Epoch 999/1000\n",
      "1168/1168 [==============================] - 0s 223us/step - loss: 15728.9378 - val_loss: 32921.0371\n",
      "Epoch 1000/1000\n",
      "1168/1168 [==============================] - 0s 230us/step - loss: 15116.1070 - val_loss: 33550.9528\n"
     ]
    }
   ],
   "source": [
    "import keras\n",
    "from keras.models import Sequential\n",
    "from keras.layers import Dense\n",
    "from keras.layers import LeakyReLU,PReLU,ELU\n",
    "from keras.layers import Dropout\n",
    "\n",
    "model = Sequential()\n",
    "model.add(Dense(output_dim=50,init = 'he_uniform',activation='relu',input_dim = 177))\n",
    "model.add(Dense(output_dim=25,init = 'he_uniform',activation='relu'))\n",
    "model.add(Dense(output_dim=50,init = 'he_uniform',activation='relu'))\n",
    "model.add(Dense(output_dim = 1, init = 'he_uniform'))\n",
    "model.compile(loss= root_mean_squared_error,optimizer='Adamax')\n",
    "\n",
    "history = model.fit(X_train.values, y_train.values,validation_split=0.20, batch_size = 10, nb_epoch = 1000)"
   ]
  },
  {
   "cell_type": "code",
   "execution_count": 64,
   "metadata": {},
   "outputs": [
    {
     "data": {
      "text/plain": [
       "array([[134514.28],\n",
       "       [176172.44],\n",
       "       [189711.05],\n",
       "       ...,\n",
       "       [229926.75],\n",
       "       [151546.9 ],\n",
       "       [242013.89]], dtype=float32)"
      ]
     },
     "execution_count": 64,
     "metadata": {},
     "output_type": "execute_result"
    }
   ],
   "source": [
    "ann_pred=model.predict(df_Test)\n",
    "ann_pred"
   ]
  },
  {
   "cell_type": "code",
   "execution_count": 65,
   "metadata": {},
   "outputs": [
    {
     "data": {
      "application/javascript": [
       "\n",
       "        if (window._pyforest_update_imports_cell) { window._pyforest_update_imports_cell('import seaborn as sns\\nimport pandas as pd'); }\n",
       "    "
      ],
      "text/plain": [
       "<IPython.core.display.Javascript object>"
      ]
     },
     "metadata": {},
     "output_type": "display_data"
    },
    {
     "data": {
      "application/javascript": [
       "\n",
       "        if (window._pyforest_update_imports_cell) { window._pyforest_update_imports_cell('import seaborn as sns\\nimport pandas as pd'); }\n",
       "    "
      ],
      "text/plain": [
       "<IPython.core.display.Javascript object>"
      ]
     },
     "metadata": {},
     "output_type": "display_data"
    },
    {
     "data": {
      "application/javascript": [
       "\n",
       "        if (window._pyforest_update_imports_cell) { window._pyforest_update_imports_cell('import seaborn as sns\\nimport pandas as pd'); }\n",
       "    "
      ],
      "text/plain": [
       "<IPython.core.display.Javascript object>"
      ]
     },
     "metadata": {},
     "output_type": "display_data"
    }
   ],
   "source": [
    "pred_new_ann = pd.DataFrame(ann_pred)\n",
    "sub_df=pd.read_csv(\"sample_submission.csv\")\n",
    "datasets = pd.concat([sub_df['Id'],pred_new_ann],axis=1)\n",
    "datasets.columns = ['Id','SalePrice']\n",
    "datasets.to_csv(\"sample_submission_ann.csv\",index=False)"
   ]
  },
  {
   "cell_type": "markdown",
   "metadata": {},
   "source": [
    "## I got a good rank in kaggle. My rank was 2259 out of 4900. Which is good considering I spent only half a day to build this. For sure with more efforts I can get into top 200 ranks. Still a lot can be done as of now I have not even done feature selections. That will help!!"
   ]
  },
  {
   "cell_type": "code",
   "execution_count": null,
   "metadata": {},
   "outputs": [],
   "source": []
  }
 ],
 "metadata": {
  "kernelspec": {
   "display_name": "Python 3",
   "language": "python",
   "name": "python3"
  },
  "language_info": {
   "codemirror_mode": {
    "name": "ipython",
    "version": 3
   },
   "file_extension": ".py",
   "mimetype": "text/x-python",
   "name": "python",
   "nbconvert_exporter": "python",
   "pygments_lexer": "ipython3",
   "version": "3.7.3"
  }
 },
 "nbformat": 4,
 "nbformat_minor": 2
}
